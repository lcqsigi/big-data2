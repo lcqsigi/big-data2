{
  "nbformat": 4,
  "nbformat_minor": 0,
  "metadata": {
    "colab": {
      "provenance": [],
      "authorship_tag": "ABX9TyNMChWhpeNU/2tSmzzhe0Kl",
      "include_colab_link": true
    },
    "kernelspec": {
      "name": "python3",
      "display_name": "Python 3"
    },
    "language_info": {
      "name": "python"
    }
  },
  "cells": [
    {
      "cell_type": "markdown",
      "metadata": {
        "id": "view-in-github",
        "colab_type": "text"
      },
      "source": [
        "<a href=\"https://colab.research.google.com/github/lcqsigi/big-data2/blob/main/iris3.ipynb\" target=\"_parent\"><img src=\"https://colab.research.google.com/assets/colab-badge.svg\" alt=\"Open In Colab\"/></a>"
      ]
    },
    {
      "cell_type": "code",
      "execution_count": 1,
      "metadata": {
        "id": "Rl7qAjGvcw5b"
      },
      "outputs": [],
      "source": [
        "import pandas\n",
        "from keras.models import Sequential\n",
        "from keras.layers import Dense\n",
        "from keras.wrappers.scikit_learn import KerasClassifier\n",
        "from keras.utils import np_utils\n",
        "from sklearn.model_selection import cross_val_score\n",
        "from sklearn.model_selection import KFold\n",
        "from sklearn.preprocessing import LabelEncoder\n",
        "from sklearn.pipeline import Pipeline\n",
        "\n",
        "from sklearn.datasets import load_iris"
      ]
    },
    {
      "cell_type": "code",
      "source": [
        "#import tensorflow_datasets as tfds\n",
        "#iris,info=tfds.load('iris', data_dir='/root/tensorflow_datasets/iris/2.0.0/', download=True,with_info=True,split='train')\n",
        "iris = load_iris()"
      ],
      "metadata": {
        "id": "getq0DnddLLM"
      },
      "execution_count": 3,
      "outputs": []
    },
    {
      "cell_type": "code",
      "source": [
        "import pandas as pd\n",
        "import numpy as np\n",
        "#df = tfds.as_dataframe(iris,info)\n",
        "#df[['feature1','feature2', 'feature3', 'feature4']] = \\\n",
        "#    pd.DataFrame(df['features'].tolist(), index= df.index)\n",
        "#df = df.drop('features', axis=1)\n",
        "#df = pd.DataFrame(data=iris.data, columns=iris.feature_names)\n",
        "df= pd.DataFrame(data= np.c_[iris['data'], iris['target']],\n",
        "                 columns= iris['feature_names'] + ['target'])\n",
        "df.head()"
      ],
      "metadata": {
        "colab": {
          "base_uri": "https://localhost:8080/",
          "height": 206
        },
        "id": "bQH1NW2MdYcn",
        "outputId": "8ca22585-7325-4a3c-f53c-e0b38206951d"
      },
      "execution_count": 9,
      "outputs": [
        {
          "output_type": "execute_result",
          "data": {
            "text/plain": [
              "   sepal length (cm)  sepal width (cm)  petal length (cm)  petal width (cm)  \\\n",
              "0                5.1               3.5                1.4               0.2   \n",
              "1                4.9               3.0                1.4               0.2   \n",
              "2                4.7               3.2                1.3               0.2   \n",
              "3                4.6               3.1                1.5               0.2   \n",
              "4                5.0               3.6                1.4               0.2   \n",
              "\n",
              "   target  \n",
              "0     0.0  \n",
              "1     0.0  \n",
              "2     0.0  \n",
              "3     0.0  \n",
              "4     0.0  "
            ],
            "text/html": [
              "\n",
              "  <div id=\"df-da371612-b79c-4bbc-a1da-e03e3a941a69\">\n",
              "    <div class=\"colab-df-container\">\n",
              "      <div>\n",
              "<style scoped>\n",
              "    .dataframe tbody tr th:only-of-type {\n",
              "        vertical-align: middle;\n",
              "    }\n",
              "\n",
              "    .dataframe tbody tr th {\n",
              "        vertical-align: top;\n",
              "    }\n",
              "\n",
              "    .dataframe thead th {\n",
              "        text-align: right;\n",
              "    }\n",
              "</style>\n",
              "<table border=\"1\" class=\"dataframe\">\n",
              "  <thead>\n",
              "    <tr style=\"text-align: right;\">\n",
              "      <th></th>\n",
              "      <th>sepal length (cm)</th>\n",
              "      <th>sepal width (cm)</th>\n",
              "      <th>petal length (cm)</th>\n",
              "      <th>petal width (cm)</th>\n",
              "      <th>target</th>\n",
              "    </tr>\n",
              "  </thead>\n",
              "  <tbody>\n",
              "    <tr>\n",
              "      <th>0</th>\n",
              "      <td>5.1</td>\n",
              "      <td>3.5</td>\n",
              "      <td>1.4</td>\n",
              "      <td>0.2</td>\n",
              "      <td>0.0</td>\n",
              "    </tr>\n",
              "    <tr>\n",
              "      <th>1</th>\n",
              "      <td>4.9</td>\n",
              "      <td>3.0</td>\n",
              "      <td>1.4</td>\n",
              "      <td>0.2</td>\n",
              "      <td>0.0</td>\n",
              "    </tr>\n",
              "    <tr>\n",
              "      <th>2</th>\n",
              "      <td>4.7</td>\n",
              "      <td>3.2</td>\n",
              "      <td>1.3</td>\n",
              "      <td>0.2</td>\n",
              "      <td>0.0</td>\n",
              "    </tr>\n",
              "    <tr>\n",
              "      <th>3</th>\n",
              "      <td>4.6</td>\n",
              "      <td>3.1</td>\n",
              "      <td>1.5</td>\n",
              "      <td>0.2</td>\n",
              "      <td>0.0</td>\n",
              "    </tr>\n",
              "    <tr>\n",
              "      <th>4</th>\n",
              "      <td>5.0</td>\n",
              "      <td>3.6</td>\n",
              "      <td>1.4</td>\n",
              "      <td>0.2</td>\n",
              "      <td>0.0</td>\n",
              "    </tr>\n",
              "  </tbody>\n",
              "</table>\n",
              "</div>\n",
              "      <button class=\"colab-df-convert\" onclick=\"convertToInteractive('df-da371612-b79c-4bbc-a1da-e03e3a941a69')\"\n",
              "              title=\"Convert this dataframe to an interactive table.\"\n",
              "              style=\"display:none;\">\n",
              "        \n",
              "  <svg xmlns=\"http://www.w3.org/2000/svg\" height=\"24px\"viewBox=\"0 0 24 24\"\n",
              "       width=\"24px\">\n",
              "    <path d=\"M0 0h24v24H0V0z\" fill=\"none\"/>\n",
              "    <path d=\"M18.56 5.44l.94 2.06.94-2.06 2.06-.94-2.06-.94-.94-2.06-.94 2.06-2.06.94zm-11 1L8.5 8.5l.94-2.06 2.06-.94-2.06-.94L8.5 2.5l-.94 2.06-2.06.94zm10 10l.94 2.06.94-2.06 2.06-.94-2.06-.94-.94-2.06-.94 2.06-2.06.94z\"/><path d=\"M17.41 7.96l-1.37-1.37c-.4-.4-.92-.59-1.43-.59-.52 0-1.04.2-1.43.59L10.3 9.45l-7.72 7.72c-.78.78-.78 2.05 0 2.83L4 21.41c.39.39.9.59 1.41.59.51 0 1.02-.2 1.41-.59l7.78-7.78 2.81-2.81c.8-.78.8-2.07 0-2.86zM5.41 20L4 18.59l7.72-7.72 1.47 1.35L5.41 20z\"/>\n",
              "  </svg>\n",
              "      </button>\n",
              "      \n",
              "  <style>\n",
              "    .colab-df-container {\n",
              "      display:flex;\n",
              "      flex-wrap:wrap;\n",
              "      gap: 12px;\n",
              "    }\n",
              "\n",
              "    .colab-df-convert {\n",
              "      background-color: #E8F0FE;\n",
              "      border: none;\n",
              "      border-radius: 50%;\n",
              "      cursor: pointer;\n",
              "      display: none;\n",
              "      fill: #1967D2;\n",
              "      height: 32px;\n",
              "      padding: 0 0 0 0;\n",
              "      width: 32px;\n",
              "    }\n",
              "\n",
              "    .colab-df-convert:hover {\n",
              "      background-color: #E2EBFA;\n",
              "      box-shadow: 0px 1px 2px rgba(60, 64, 67, 0.3), 0px 1px 3px 1px rgba(60, 64, 67, 0.15);\n",
              "      fill: #174EA6;\n",
              "    }\n",
              "\n",
              "    [theme=dark] .colab-df-convert {\n",
              "      background-color: #3B4455;\n",
              "      fill: #D2E3FC;\n",
              "    }\n",
              "\n",
              "    [theme=dark] .colab-df-convert:hover {\n",
              "      background-color: #434B5C;\n",
              "      box-shadow: 0px 1px 3px 1px rgba(0, 0, 0, 0.15);\n",
              "      filter: drop-shadow(0px 1px 2px rgba(0, 0, 0, 0.3));\n",
              "      fill: #FFFFFF;\n",
              "    }\n",
              "  </style>\n",
              "\n",
              "      <script>\n",
              "        const buttonEl =\n",
              "          document.querySelector('#df-da371612-b79c-4bbc-a1da-e03e3a941a69 button.colab-df-convert');\n",
              "        buttonEl.style.display =\n",
              "          google.colab.kernel.accessAllowed ? 'block' : 'none';\n",
              "\n",
              "        async function convertToInteractive(key) {\n",
              "          const element = document.querySelector('#df-da371612-b79c-4bbc-a1da-e03e3a941a69');\n",
              "          const dataTable =\n",
              "            await google.colab.kernel.invokeFunction('convertToInteractive',\n",
              "                                                     [key], {});\n",
              "          if (!dataTable) return;\n",
              "\n",
              "          const docLinkHtml = 'Like what you see? Visit the ' +\n",
              "            '<a target=\"_blank\" href=https://colab.research.google.com/notebooks/data_table.ipynb>data table notebook</a>'\n",
              "            + ' to learn more about interactive tables.';\n",
              "          element.innerHTML = '';\n",
              "          dataTable['output_type'] = 'display_data';\n",
              "          await google.colab.output.renderOutput(dataTable, element);\n",
              "          const docLink = document.createElement('div');\n",
              "          docLink.innerHTML = docLinkHtml;\n",
              "          element.appendChild(docLink);\n",
              "        }\n",
              "      </script>\n",
              "    </div>\n",
              "  </div>\n",
              "  "
            ]
          },
          "metadata": {},
          "execution_count": 9
        }
      ]
    },
    {
      "cell_type": "code",
      "source": [
        "# load dataset\n",
        "#dataframe = pandas.read_csv(\"iris.data\", header=None)\n",
        "df = df.values"
      ],
      "metadata": {
        "id": "lHh0HHiSdjYE"
      },
      "execution_count": 10,
      "outputs": []
    },
    {
      "cell_type": "code",
      "source": [
        "X = df[:,0:4].astype(float)\n",
        "Y = df[:,4]\n",
        "# encode class values as integers\n",
        "encoder = LabelEncoder()\n",
        "encoder.fit(Y)\n",
        "encoded_Y = encoder.transform(Y)\n",
        "# convert integers to dummy variables (i.e. one hot encoded)\n",
        "dummy_y = np_utils.to_categorical(encoded_Y)"
      ],
      "metadata": {
        "id": "KgPRQtMxdq9x"
      },
      "execution_count": 11,
      "outputs": []
    },
    {
      "cell_type": "code",
      "source": [
        "from sklearn.model_selection import train_test_split"
      ],
      "metadata": {
        "id": "SRhrpAIHeWJ4"
      },
      "execution_count": 14,
      "outputs": []
    },
    {
      "cell_type": "code",
      "source": [
        "X_train,X_test,y_train,y_test=train_test_split(X,dummy_y,test_size=0.3,random_state=8)"
      ],
      "metadata": {
        "id": "YkAgsJ7Fe6XW"
      },
      "execution_count": 15,
      "outputs": []
    },
    {
      "cell_type": "code",
      "source": [
        "# define baseline model\n",
        "#def baseline_model():\n",
        " # create model\n",
        "model = Sequential()\n",
        "model.add(Dense(16, input_dim=4, activation='sigmoid'))\n",
        "model.add(Dense(3, activation='softmax'))\n",
        "# Compile model\n",
        "#model.compile(loss='categorical_crossentropy', optimizer='adam', metrics=['accuracy'])\n",
        "model.compile(loss='categorical_crossentropy', optimizer='adam', metrics=['accuracy'])\n",
        "\n",
        "#return model\n",
        " \n",
        "#estimator = KerasClassifier(build_fn=baseline_model, epochs=200, batch_size=5, verbose=0)\n",
        "#kfold = KFold(n_splits=10, shuffle=True)\n",
        "#results = cross_val_score(estimator, X, dummy_y, cv=kfold)\n",
        "#print(\"Baseline: %.2f%% (%.2f%%)\" % (results.mean()*100, results.std()*100))"
      ],
      "metadata": {
        "id": "1toogoCtc4Ot"
      },
      "execution_count": 16,
      "outputs": []
    },
    {
      "cell_type": "code",
      "source": [
        "history=model.fit(X_train,y_train,batch_size=2,epochs=100)"
      ],
      "metadata": {
        "colab": {
          "base_uri": "https://localhost:8080/"
        },
        "id": "VUHmLhpkeAGb",
        "outputId": "23067be3-a8af-46e8-d94c-c7ebbf21a3a0"
      },
      "execution_count": 17,
      "outputs": [
        {
          "output_type": "stream",
          "name": "stdout",
          "text": [
            "Epoch 1/100\n",
            "53/53 [==============================] - 1s 1ms/step - loss: 1.1023 - accuracy: 0.3429\n",
            "Epoch 2/100\n",
            "53/53 [==============================] - 0s 1ms/step - loss: 1.0532 - accuracy: 0.5238\n",
            "Epoch 3/100\n",
            "53/53 [==============================] - 0s 1ms/step - loss: 1.0170 - accuracy: 0.6857\n",
            "Epoch 4/100\n",
            "53/53 [==============================] - 0s 1ms/step - loss: 0.9765 - accuracy: 0.6571\n",
            "Epoch 5/100\n",
            "53/53 [==============================] - 0s 1ms/step - loss: 0.9365 - accuracy: 0.7714\n",
            "Epoch 6/100\n",
            "53/53 [==============================] - 0s 2ms/step - loss: 0.8995 - accuracy: 0.6762\n",
            "Epoch 7/100\n",
            "53/53 [==============================] - 0s 2ms/step - loss: 0.8585 - accuracy: 0.6857\n",
            "Epoch 8/100\n",
            "53/53 [==============================] - 0s 2ms/step - loss: 0.8235 - accuracy: 0.8381\n",
            "Epoch 9/100\n",
            "53/53 [==============================] - 0s 2ms/step - loss: 0.7909 - accuracy: 0.6762\n",
            "Epoch 10/100\n",
            "53/53 [==============================] - 0s 2ms/step - loss: 0.7571 - accuracy: 0.7905\n",
            "Epoch 11/100\n",
            "53/53 [==============================] - 0s 2ms/step - loss: 0.7330 - accuracy: 0.7048\n",
            "Epoch 12/100\n",
            "53/53 [==============================] - 0s 2ms/step - loss: 0.7041 - accuracy: 0.7048\n",
            "Epoch 13/100\n",
            "53/53 [==============================] - 0s 1ms/step - loss: 0.6786 - accuracy: 0.7619\n",
            "Epoch 14/100\n",
            "53/53 [==============================] - 0s 1ms/step - loss: 0.6586 - accuracy: 0.7429\n",
            "Epoch 15/100\n",
            "53/53 [==============================] - 0s 2ms/step - loss: 0.6368 - accuracy: 0.7905\n",
            "Epoch 16/100\n",
            "53/53 [==============================] - 0s 2ms/step - loss: 0.6188 - accuracy: 0.7048\n",
            "Epoch 17/100\n",
            "53/53 [==============================] - 0s 2ms/step - loss: 0.6014 - accuracy: 0.8381\n",
            "Epoch 18/100\n",
            "53/53 [==============================] - 0s 1ms/step - loss: 0.5841 - accuracy: 0.7905\n",
            "Epoch 19/100\n",
            "53/53 [==============================] - 0s 2ms/step - loss: 0.5705 - accuracy: 0.9048\n",
            "Epoch 20/100\n",
            "53/53 [==============================] - 0s 2ms/step - loss: 0.5572 - accuracy: 0.9143\n",
            "Epoch 21/100\n",
            "53/53 [==============================] - 0s 1ms/step - loss: 0.5443 - accuracy: 0.8286\n",
            "Epoch 22/100\n",
            "53/53 [==============================] - 0s 1ms/step - loss: 0.5312 - accuracy: 0.8095\n",
            "Epoch 23/100\n",
            "53/53 [==============================] - 0s 1ms/step - loss: 0.5183 - accuracy: 0.8095\n",
            "Epoch 24/100\n",
            "53/53 [==============================] - 0s 1ms/step - loss: 0.5078 - accuracy: 0.9143\n",
            "Epoch 25/100\n",
            "53/53 [==============================] - 0s 6ms/step - loss: 0.4960 - accuracy: 0.9143\n",
            "Epoch 26/100\n",
            "53/53 [==============================] - 0s 9ms/step - loss: 0.4875 - accuracy: 0.8190\n",
            "Epoch 27/100\n",
            "53/53 [==============================] - 0s 2ms/step - loss: 0.4777 - accuracy: 0.9333\n",
            "Epoch 28/100\n",
            "53/53 [==============================] - 0s 1ms/step - loss: 0.4682 - accuracy: 0.9238\n",
            "Epoch 29/100\n",
            "53/53 [==============================] - 0s 1ms/step - loss: 0.4614 - accuracy: 0.9524\n",
            "Epoch 30/100\n",
            "53/53 [==============================] - 0s 1ms/step - loss: 0.4516 - accuracy: 0.8952\n",
            "Epoch 31/100\n",
            "53/53 [==============================] - 0s 1ms/step - loss: 0.4446 - accuracy: 0.8667\n",
            "Epoch 32/100\n",
            "53/53 [==============================] - 0s 1ms/step - loss: 0.4370 - accuracy: 0.9619\n",
            "Epoch 33/100\n",
            "53/53 [==============================] - 0s 2ms/step - loss: 0.4286 - accuracy: 0.9524\n",
            "Epoch 34/100\n",
            "53/53 [==============================] - 0s 1ms/step - loss: 0.4232 - accuracy: 0.9714\n",
            "Epoch 35/100\n",
            "53/53 [==============================] - 0s 1ms/step - loss: 0.4130 - accuracy: 0.9429\n",
            "Epoch 36/100\n",
            "53/53 [==============================] - 0s 1ms/step - loss: 0.4100 - accuracy: 0.9429\n",
            "Epoch 37/100\n",
            "53/53 [==============================] - 0s 1ms/step - loss: 0.4016 - accuracy: 0.9333\n",
            "Epoch 38/100\n",
            "53/53 [==============================] - 0s 1ms/step - loss: 0.3941 - accuracy: 0.9524\n",
            "Epoch 39/100\n",
            "53/53 [==============================] - 0s 1ms/step - loss: 0.3866 - accuracy: 0.9524\n",
            "Epoch 40/100\n",
            "53/53 [==============================] - 0s 1ms/step - loss: 0.3806 - accuracy: 0.9810\n",
            "Epoch 41/100\n",
            "53/53 [==============================] - 0s 1ms/step - loss: 0.3744 - accuracy: 0.9524\n",
            "Epoch 42/100\n",
            "53/53 [==============================] - 0s 1ms/step - loss: 0.3673 - accuracy: 0.9619\n",
            "Epoch 43/100\n",
            "53/53 [==============================] - 0s 1ms/step - loss: 0.3614 - accuracy: 0.9714\n",
            "Epoch 44/100\n",
            "53/53 [==============================] - 0s 1ms/step - loss: 0.3578 - accuracy: 0.9524\n",
            "Epoch 45/100\n",
            "53/53 [==============================] - 0s 1ms/step - loss: 0.3488 - accuracy: 0.9810\n",
            "Epoch 46/100\n",
            "53/53 [==============================] - 0s 1ms/step - loss: 0.3461 - accuracy: 0.9429\n",
            "Epoch 47/100\n",
            "53/53 [==============================] - 0s 1ms/step - loss: 0.3382 - accuracy: 0.9810\n",
            "Epoch 48/100\n",
            "53/53 [==============================] - 0s 1ms/step - loss: 0.3330 - accuracy: 0.9619\n",
            "Epoch 49/100\n",
            "53/53 [==============================] - 0s 1ms/step - loss: 0.3271 - accuracy: 0.9524\n",
            "Epoch 50/100\n",
            "53/53 [==============================] - 0s 1ms/step - loss: 0.3252 - accuracy: 0.9810\n",
            "Epoch 51/100\n",
            "53/53 [==============================] - 0s 1ms/step - loss: 0.3161 - accuracy: 0.9810\n",
            "Epoch 52/100\n",
            "53/53 [==============================] - 0s 1ms/step - loss: 0.3121 - accuracy: 0.9714\n",
            "Epoch 53/100\n",
            "53/53 [==============================] - 0s 2ms/step - loss: 0.3055 - accuracy: 0.9714\n",
            "Epoch 54/100\n",
            "53/53 [==============================] - 0s 1ms/step - loss: 0.3038 - accuracy: 0.9714\n",
            "Epoch 55/100\n",
            "53/53 [==============================] - 0s 1ms/step - loss: 0.2983 - accuracy: 0.9714\n",
            "Epoch 56/100\n",
            "53/53 [==============================] - 0s 1ms/step - loss: 0.2941 - accuracy: 0.9714\n",
            "Epoch 57/100\n",
            "53/53 [==============================] - 0s 1ms/step - loss: 0.2894 - accuracy: 0.9714\n",
            "Epoch 58/100\n",
            "53/53 [==============================] - 0s 1ms/step - loss: 0.2827 - accuracy: 0.9714\n",
            "Epoch 59/100\n",
            "53/53 [==============================] - 0s 1ms/step - loss: 0.2819 - accuracy: 0.9619\n",
            "Epoch 60/100\n",
            "53/53 [==============================] - 0s 1ms/step - loss: 0.2766 - accuracy: 0.9810\n",
            "Epoch 61/100\n",
            "53/53 [==============================] - 0s 1ms/step - loss: 0.2698 - accuracy: 0.9810\n",
            "Epoch 62/100\n",
            "53/53 [==============================] - 0s 1ms/step - loss: 0.2662 - accuracy: 0.9810\n",
            "Epoch 63/100\n",
            "53/53 [==============================] - 0s 1ms/step - loss: 0.2649 - accuracy: 0.9619\n",
            "Epoch 64/100\n",
            "53/53 [==============================] - 0s 1ms/step - loss: 0.2608 - accuracy: 0.9714\n",
            "Epoch 65/100\n",
            "53/53 [==============================] - 0s 1ms/step - loss: 0.2565 - accuracy: 0.9810\n",
            "Epoch 66/100\n",
            "53/53 [==============================] - 0s 1ms/step - loss: 0.2533 - accuracy: 0.9714\n",
            "Epoch 67/100\n",
            "53/53 [==============================] - 0s 1ms/step - loss: 0.2465 - accuracy: 0.9810\n",
            "Epoch 68/100\n",
            "53/53 [==============================] - 0s 1ms/step - loss: 0.2434 - accuracy: 0.9810\n",
            "Epoch 69/100\n",
            "53/53 [==============================] - 0s 1ms/step - loss: 0.2420 - accuracy: 0.9810\n",
            "Epoch 70/100\n",
            "53/53 [==============================] - 0s 1ms/step - loss: 0.2363 - accuracy: 0.9810\n",
            "Epoch 71/100\n",
            "53/53 [==============================] - 0s 1ms/step - loss: 0.2328 - accuracy: 0.9810\n",
            "Epoch 72/100\n",
            "53/53 [==============================] - 0s 1ms/step - loss: 0.2284 - accuracy: 0.9714\n",
            "Epoch 73/100\n",
            "53/53 [==============================] - 0s 2ms/step - loss: 0.2270 - accuracy: 0.9619\n",
            "Epoch 74/100\n",
            "53/53 [==============================] - 0s 1ms/step - loss: 0.2223 - accuracy: 0.9905\n",
            "Epoch 75/100\n",
            "53/53 [==============================] - 0s 1ms/step - loss: 0.2205 - accuracy: 0.9619\n",
            "Epoch 76/100\n",
            "53/53 [==============================] - 0s 1ms/step - loss: 0.2167 - accuracy: 0.9619\n",
            "Epoch 77/100\n",
            "53/53 [==============================] - 0s 1ms/step - loss: 0.2134 - accuracy: 0.9714\n",
            "Epoch 78/100\n",
            "53/53 [==============================] - 0s 1ms/step - loss: 0.2103 - accuracy: 0.9810\n",
            "Epoch 79/100\n",
            "53/53 [==============================] - 0s 1ms/step - loss: 0.2063 - accuracy: 0.9810\n",
            "Epoch 80/100\n",
            "53/53 [==============================] - 0s 1ms/step - loss: 0.2060 - accuracy: 0.9810\n",
            "Epoch 81/100\n",
            "53/53 [==============================] - 0s 1ms/step - loss: 0.2008 - accuracy: 0.9714\n",
            "Epoch 82/100\n",
            "53/53 [==============================] - 0s 1ms/step - loss: 0.1988 - accuracy: 0.9714\n",
            "Epoch 83/100\n",
            "53/53 [==============================] - 0s 1ms/step - loss: 0.1957 - accuracy: 0.9810\n",
            "Epoch 84/100\n",
            "53/53 [==============================] - 0s 1ms/step - loss: 0.1917 - accuracy: 0.9810\n",
            "Epoch 85/100\n",
            "53/53 [==============================] - 0s 1ms/step - loss: 0.1886 - accuracy: 0.9810\n",
            "Epoch 86/100\n",
            "53/53 [==============================] - 0s 1ms/step - loss: 0.1876 - accuracy: 0.9810\n",
            "Epoch 87/100\n",
            "53/53 [==============================] - 0s 1ms/step - loss: 0.1864 - accuracy: 0.9619\n",
            "Epoch 88/100\n",
            "53/53 [==============================] - 0s 1ms/step - loss: 0.1803 - accuracy: 0.9810\n",
            "Epoch 89/100\n",
            "53/53 [==============================] - 0s 1ms/step - loss: 0.1819 - accuracy: 0.9810\n",
            "Epoch 90/100\n",
            "53/53 [==============================] - 0s 1ms/step - loss: 0.1762 - accuracy: 0.9810\n",
            "Epoch 91/100\n",
            "53/53 [==============================] - 0s 1ms/step - loss: 0.1764 - accuracy: 0.9810\n",
            "Epoch 92/100\n",
            "53/53 [==============================] - 0s 1ms/step - loss: 0.1726 - accuracy: 0.9905\n",
            "Epoch 93/100\n",
            "53/53 [==============================] - 0s 1ms/step - loss: 0.1693 - accuracy: 0.9905\n",
            "Epoch 94/100\n",
            "53/53 [==============================] - 0s 1ms/step - loss: 0.1674 - accuracy: 0.9810\n",
            "Epoch 95/100\n",
            "53/53 [==============================] - 0s 1ms/step - loss: 0.1659 - accuracy: 0.9810\n",
            "Epoch 96/100\n",
            "53/53 [==============================] - 0s 1ms/step - loss: 0.1662 - accuracy: 0.9714\n",
            "Epoch 97/100\n",
            "53/53 [==============================] - 0s 1ms/step - loss: 0.1626 - accuracy: 0.9810\n",
            "Epoch 98/100\n",
            "53/53 [==============================] - 0s 2ms/step - loss: 0.1577 - accuracy: 0.9810\n",
            "Epoch 99/100\n",
            "53/53 [==============================] - 0s 1ms/step - loss: 0.1581 - accuracy: 0.9810\n",
            "Epoch 100/100\n",
            "53/53 [==============================] - 0s 1ms/step - loss: 0.1545 - accuracy: 0.9810\n"
          ]
        }
      ]
    },
    {
      "cell_type": "code",
      "source": [
        "y_hat=model.predict(X_test)"
      ],
      "metadata": {
        "colab": {
          "base_uri": "https://localhost:8080/"
        },
        "id": "a8VJOfxAfd2B",
        "outputId": "c2f6fcc2-4dd1-48c3-8841-5bb26fb51e2f"
      },
      "execution_count": 18,
      "outputs": [
        {
          "output_type": "stream",
          "name": "stdout",
          "text": [
            "2/2 [==============================] - 0s 3ms/step\n"
          ]
        }
      ]
    },
    {
      "cell_type": "code",
      "source": [
        "model.evaluate(X_test,y_test)"
      ],
      "metadata": {
        "colab": {
          "base_uri": "https://localhost:8080/"
        },
        "id": "q5xt-FNnhNT0",
        "outputId": "90fbb9b4-2649-43ed-baa7-1287b45ac158"
      },
      "execution_count": 19,
      "outputs": [
        {
          "output_type": "stream",
          "name": "stdout",
          "text": [
            "2/2 [==============================] - 0s 5ms/step - loss: 0.1562 - accuracy: 0.9778\n"
          ]
        },
        {
          "output_type": "execute_result",
          "data": {
            "text/plain": [
              "[0.15624147653579712, 0.9777777791023254]"
            ]
          },
          "metadata": {},
          "execution_count": 19
        }
      ]
    },
    {
      "cell_type": "code",
      "source": [
        "import numpy as np\n",
        "y_test_class=np.argmax(y_test,axis=1)\n",
        "y_pred_class=np.argmax(y_hat,axis=1)"
      ],
      "metadata": {
        "id": "lASa0gU_haLW"
      },
      "execution_count": 20,
      "outputs": []
    },
    {
      "cell_type": "code",
      "source": [
        "from sklearn.metrics import confusion_matrix"
      ],
      "metadata": {
        "id": "uIY_zjOrh013"
      },
      "execution_count": 21,
      "outputs": []
    },
    {
      "cell_type": "code",
      "source": [
        "confusion_matrix(y_test_class,y_pred_class)"
      ],
      "metadata": {
        "colab": {
          "base_uri": "https://localhost:8080/"
        },
        "id": "Q8xtQuSch_mv",
        "outputId": "2c02aea6-8d27-496d-b82f-bad592155235"
      },
      "execution_count": 22,
      "outputs": [
        {
          "output_type": "execute_result",
          "data": {
            "text/plain": [
              "array([[15,  0,  0],\n",
              "       [ 0, 15,  1],\n",
              "       [ 0,  0, 14]])"
            ]
          },
          "metadata": {},
          "execution_count": 22
        }
      ]
    },
    {
      "cell_type": "code",
      "source": [
        "import matplotlib.pyplot as plt"
      ],
      "metadata": {
        "id": "rohmKuQQiG7a"
      },
      "execution_count": 23,
      "outputs": []
    },
    {
      "cell_type": "code",
      "source": [
        "plt.plot(history.history['accuracy'],label='accuracy')\n",
        "plt.plot(history.history['loss'],label='loss')\n",
        "plt.legend()\n",
        "plt.show()"
      ],
      "metadata": {
        "colab": {
          "base_uri": "https://localhost:8080/",
          "height": 430
        },
        "id": "HkwHkiJsj7Dp",
        "outputId": "fdf6c9a5-7e8b-4dec-8a59-0c4ff2778d8f"
      },
      "execution_count": 24,
      "outputs": [
        {
          "output_type": "display_data",
          "data": {
            "text/plain": [
              "<Figure size 640x480 with 1 Axes>"
            ],
            "image/png": "[encoded data removed]"
          },
          "metadata": {}
        }
      ]
    },
    {
      "cell_type": "code",
      "source": [],
      "metadata": {
        "id": "sH-DGH3PkGiP"
      },
      "execution_count": null,
      "outputs": []
    }
  ]
}