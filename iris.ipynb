{
  "nbformat": 4,
  "nbformat_minor": 0,
  "metadata": {
    "colab": {
      "provenance": [],
      "authorship_tag": "ABX9TyOmBzufS0REqspI33COoPxN",
      "include_colab_link": true
    },
    "kernelspec": {
      "name": "python3",
      "display_name": "Python 3"
    },
    "language_info": {
      "name": "python"
    }
  },
  "cells": [
    {
      "cell_type": "markdown",
      "metadata": {
        "id": "view-in-github",
        "colab_type": "text"
      },
      "source": [
        "<a href=\"https://colab.research.google.com/github/lcqsigi/big-data2/blob/main/iris.ipynb\" target=\"_parent\"><img src=\"https://colab.research.google.com/assets/colab-badge.svg\" alt=\"Open In Colab\"/></a>"
      ]
    },
    {
      "cell_type": "code",
      "execution_count": 21,
      "metadata": {
        "id": "Rl7qAjGvcw5b"
      },
      "outputs": [],
      "source": [
        "import pandas\n",
        "from keras.models import Sequential\n",
        "from keras.layers import Dense\n",
        "from keras.wrappers.scikit_learn import KerasClassifier\n",
        "from keras.utils import np_utils\n",
        "from sklearn.model_selection import cross_val_score\n",
        "from sklearn.model_selection import KFold\n",
        "from sklearn.preprocessing import LabelEncoder\n",
        "from sklearn.pipeline import Pipeline"
      ]
    },
    {
      "cell_type": "code",
      "source": [
        "import tensorflow_datasets as tfds\n",
        "iris,info=tfds.load('iris', data_dir='/root/tensorflow_datasets/iris/2.0.0/', download=True,with_info=True,split='train')"
      ],
      "metadata": {
        "id": "getq0DnddLLM"
      },
      "execution_count": 22,
      "outputs": []
    },
    {
      "cell_type": "code",
      "source": [
        "import pandas as pd\n",
        "df = tfds.as_dataframe(iris,info)\n",
        "\n",
        "df[['feature1','feature2', 'feature3', 'feature4']] = \\\n",
        "    pd.DataFrame(df['features'].tolist(), index= df.index)\n",
        "\n",
        "df = df.drop('features', axis=1)\n",
        "\n",
        "df.head()"
      ],
      "metadata": {
        "colab": {
          "base_uri": "https://localhost:8080/",
          "height": 206
        },
        "id": "bQH1NW2MdYcn",
        "outputId": "1be46211-ac05-4031-f5c7-459e8ab549ab"
      },
      "execution_count": 23,
      "outputs": [
        {
          "output_type": "execute_result",
          "data": {
            "text/plain": [
              "   label  feature1  feature2  feature3  feature4\n",
              "0      0       5.1       3.4       1.5       0.2\n",
              "1      2       7.7       3.0       6.1       2.3\n",
              "2      1       5.7       2.8       4.5       1.3\n",
              "3      2       6.8       3.2       5.9       2.3\n",
              "4      0       5.2       3.4       1.4       0.2"
            ],
            "text/html": [
              "\n",
              "  <div id=\"df-fff4cafc-5c47-4cec-a7ed-ed1c68acfb52\">\n",
              "    <div class=\"colab-df-container\">\n",
              "      <div>\n",
              "<style scoped>\n",
              "    .dataframe tbody tr th:only-of-type {\n",
              "        vertical-align: middle;\n",
              "    }\n",
              "\n",
              "    .dataframe tbody tr th {\n",
              "        vertical-align: top;\n",
              "    }\n",
              "\n",
              "    .dataframe thead th {\n",
              "        text-align: right;\n",
              "    }\n",
              "</style>\n",
              "<table border=\"1\" class=\"dataframe\">\n",
              "  <thead>\n",
              "    <tr style=\"text-align: right;\">\n",
              "      <th></th>\n",
              "      <th>label</th>\n",
              "      <th>feature1</th>\n",
              "      <th>feature2</th>\n",
              "      <th>feature3</th>\n",
              "      <th>feature4</th>\n",
              "    </tr>\n",
              "  </thead>\n",
              "  <tbody>\n",
              "    <tr>\n",
              "      <th>0</th>\n",
              "      <td>0</td>\n",
              "      <td>5.1</td>\n",
              "      <td>3.4</td>\n",
              "      <td>1.5</td>\n",
              "      <td>0.2</td>\n",
              "    </tr>\n",
              "    <tr>\n",
              "      <th>1</th>\n",
              "      <td>2</td>\n",
              "      <td>7.7</td>\n",
              "      <td>3.0</td>\n",
              "      <td>6.1</td>\n",
              "      <td>2.3</td>\n",
              "    </tr>\n",
              "    <tr>\n",
              "      <th>2</th>\n",
              "      <td>1</td>\n",
              "      <td>5.7</td>\n",
              "      <td>2.8</td>\n",
              "      <td>4.5</td>\n",
              "      <td>1.3</td>\n",
              "    </tr>\n",
              "    <tr>\n",
              "      <th>3</th>\n",
              "      <td>2</td>\n",
              "      <td>6.8</td>\n",
              "      <td>3.2</td>\n",
              "      <td>5.9</td>\n",
              "      <td>2.3</td>\n",
              "    </tr>\n",
              "    <tr>\n",
              "      <th>4</th>\n",
              "      <td>0</td>\n",
              "      <td>5.2</td>\n",
              "      <td>3.4</td>\n",
              "      <td>1.4</td>\n",
              "      <td>0.2</td>\n",
              "    </tr>\n",
              "  </tbody>\n",
              "</table>\n",
              "</div>\n",
              "      <button class=\"colab-df-convert\" onclick=\"convertToInteractive('df-fff4cafc-5c47-4cec-a7ed-ed1c68acfb52')\"\n",
              "              title=\"Convert this dataframe to an interactive table.\"\n",
              "              style=\"display:none;\">\n",
              "        \n",
              "  <svg xmlns=\"http://www.w3.org/2000/svg\" height=\"24px\"viewBox=\"0 0 24 24\"\n",
              "       width=\"24px\">\n",
              "    <path d=\"M0 0h24v24H0V0z\" fill=\"none\"/>\n",
              "    <path d=\"M18.56 5.44l.94 2.06.94-2.06 2.06-.94-2.06-.94-.94-2.06-.94 2.06-2.06.94zm-11 1L8.5 8.5l.94-2.06 2.06-.94-2.06-.94L8.5 2.5l-.94 2.06-2.06.94zm10 10l.94 2.06.94-2.06 2.06-.94-2.06-.94-.94-2.06-.94 2.06-2.06.94z\"/><path d=\"M17.41 7.96l-1.37-1.37c-.4-.4-.92-.59-1.43-.59-.52 0-1.04.2-1.43.59L10.3 9.45l-7.72 7.72c-.78.78-.78 2.05 0 2.83L4 21.41c.39.39.9.59 1.41.59.51 0 1.02-.2 1.41-.59l7.78-7.78 2.81-2.81c.8-.78.8-2.07 0-2.86zM5.41 20L4 18.59l7.72-7.72 1.47 1.35L5.41 20z\"/>\n",
              "  </svg>\n",
              "      </button>\n",
              "      \n",
              "  <style>\n",
              "    .colab-df-container {\n",
              "      display:flex;\n",
              "      flex-wrap:wrap;\n",
              "      gap: 12px;\n",
              "    }\n",
              "\n",
              "    .colab-df-convert {\n",
              "      background-color: #E8F0FE;\n",
              "      border: none;\n",
              "      border-radius: 50%;\n",
              "      cursor: pointer;\n",
              "      display: none;\n",
              "      fill: #1967D2;\n",
              "      height: 32px;\n",
              "      padding: 0 0 0 0;\n",
              "      width: 32px;\n",
              "    }\n",
              "\n",
              "    .colab-df-convert:hover {\n",
              "      background-color: #E2EBFA;\n",
              "      box-shadow: 0px 1px 2px rgba(60, 64, 67, 0.3), 0px 1px 3px 1px rgba(60, 64, 67, 0.15);\n",
              "      fill: #174EA6;\n",
              "    }\n",
              "\n",
              "    [theme=dark] .colab-df-convert {\n",
              "      background-color: #3B4455;\n",
              "      fill: #D2E3FC;\n",
              "    }\n",
              "\n",
              "    [theme=dark] .colab-df-convert:hover {\n",
              "      background-color: #434B5C;\n",
              "      box-shadow: 0px 1px 3px 1px rgba(0, 0, 0, 0.15);\n",
              "      filter: drop-shadow(0px 1px 2px rgba(0, 0, 0, 0.3));\n",
              "      fill: #FFFFFF;\n",
              "    }\n",
              "  </style>\n",
              "\n",
              "      <script>\n",
              "        const buttonEl =\n",
              "          document.querySelector('#df-fff4cafc-5c47-4cec-a7ed-ed1c68acfb52 button.colab-df-convert');\n",
              "        buttonEl.style.display =\n",
              "          google.colab.kernel.accessAllowed ? 'block' : 'none';\n",
              "\n",
              "        async function convertToInteractive(key) {\n",
              "          const element = document.querySelector('#df-fff4cafc-5c47-4cec-a7ed-ed1c68acfb52');\n",
              "          const dataTable =\n",
              "            await google.colab.kernel.invokeFunction('convertToInteractive',\n",
              "                                                     [key], {});\n",
              "          if (!dataTable) return;\n",
              "\n",
              "          const docLinkHtml = 'Like what you see? Visit the ' +\n",
              "            '<a target=\"_blank\" href=https://colab.research.google.com/notebooks/data_table.ipynb>data table notebook</a>'\n",
              "            + ' to learn more about interactive tables.';\n",
              "          element.innerHTML = '';\n",
              "          dataTable['output_type'] = 'display_data';\n",
              "          await google.colab.output.renderOutput(dataTable, element);\n",
              "          const docLink = document.createElement('div');\n",
              "          docLink.innerHTML = docLinkHtml;\n",
              "          element.appendChild(docLink);\n",
              "        }\n",
              "      </script>\n",
              "    </div>\n",
              "  </div>\n",
              "  "
            ]
          },
          "metadata": {},
          "execution_count": 23
        }
      ]
    },
    {
      "cell_type": "code",
      "source": [
        "# load dataset\n",
        "#dataframe = pandas.read_csv(\"iris.data\", header=None)\n",
        "df = df.values"
      ],
      "metadata": {
        "id": "lHh0HHiSdjYE"
      },
      "execution_count": 24,
      "outputs": []
    },
    {
      "cell_type": "code",
      "source": [
        "X = df[:,1:5].astype(float)\n",
        "Y = df[:,0]\n",
        "# encode class values as integers\n",
        "encoder = LabelEncoder()\n",
        "encoder.fit(Y)\n",
        "encoded_Y = encoder.transform(Y)\n",
        "# convert integers to dummy variables (i.e. one hot encoded)\n",
        "dummy_y = np_utils.to_categorical(encoded_Y)"
      ],
      "metadata": {
        "id": "KgPRQtMxdq9x"
      },
      "execution_count": 35,
      "outputs": []
    },
    {
      "cell_type": "code",
      "source": [
        "from sklearn.model_selection import train_test_split"
      ],
      "metadata": {
        "id": "SRhrpAIHeWJ4"
      },
      "execution_count": 36,
      "outputs": []
    },
    {
      "cell_type": "code",
      "source": [
        "X_train,X_test,y_train,y_test=train_test_split(X,dummy_y,test_size=0.3,random_state=8)"
      ],
      "metadata": {
        "id": "YkAgsJ7Fe6XW"
      },
      "execution_count": 37,
      "outputs": []
    },
    {
      "cell_type": "code",
      "source": [
        "# define baseline model\n",
        "#def baseline_model():\n",
        " # create model\n",
        "model = Sequential()\n",
        "model.add(Dense(8, input_dim=4, activation='relu'))\n",
        "model.add(Dense(3, activation='softmax'))\n",
        "# Compile model\n",
        "model.compile(loss='categorical_crossentropy', optimizer='adam', metrics=['accuracy'])\n",
        "#return model\n",
        " \n",
        "#estimator = KerasClassifier(build_fn=baseline_model, epochs=200, batch_size=5, verbose=0)\n",
        "#kfold = KFold(n_splits=10, shuffle=True)\n",
        "#results = cross_val_score(estimator, X, dummy_y, cv=kfold)\n",
        "#print(\"Baseline: %.2f%% (%.2f%%)\" % (results.mean()*100, results.std()*100))"
      ],
      "metadata": {
        "id": "1toogoCtc4Ot"
      },
      "execution_count": 41,
      "outputs": []
    },
    {
      "cell_type": "code",
      "source": [
        "history=model.fit(X_train,y_train,epochs=100)"
      ],
      "metadata": {
        "colab": {
          "base_uri": "https://localhost:8080/"
        },
        "id": "VUHmLhpkeAGb",
        "outputId": "823fb607-f371-4cb7-d6f1-53ff7e2bfe48"
      },
      "execution_count": 42,
      "outputs": [
        {
          "output_type": "stream",
          "name": "stdout",
          "text": [
            "Epoch 1/100\n",
            "4/4 [==============================] - 1s 10ms/step - loss: 2.5716 - accuracy: 0.3524\n",
            "Epoch 2/100\n",
            "4/4 [==============================] - 0s 7ms/step - loss: 2.4715 - accuracy: 0.3524\n",
            "Epoch 3/100\n",
            "4/4 [==============================] - 0s 7ms/step - loss: 2.3823 - accuracy: 0.3524\n",
            "Epoch 4/100\n",
            "4/4 [==============================] - 0s 7ms/step - loss: 2.2919 - accuracy: 0.3524\n",
            "Epoch 5/100\n",
            "4/4 [==============================] - 0s 6ms/step - loss: 2.2112 - accuracy: 0.3524\n",
            "Epoch 6/100\n",
            "4/4 [==============================] - 0s 7ms/step - loss: 2.1350 - accuracy: 0.3524\n",
            "Epoch 7/100\n",
            "4/4 [==============================] - 0s 9ms/step - loss: 2.0581 - accuracy: 0.3524\n",
            "Epoch 8/100\n",
            "4/4 [==============================] - 0s 6ms/step - loss: 1.9910 - accuracy: 0.3524\n",
            "Epoch 9/100\n",
            "4/4 [==============================] - 0s 7ms/step - loss: 1.9261 - accuracy: 0.3524\n",
            "Epoch 10/100\n",
            "4/4 [==============================] - 0s 6ms/step - loss: 1.8634 - accuracy: 0.3524\n",
            "Epoch 11/100\n",
            "4/4 [==============================] - 0s 5ms/step - loss: 1.8060 - accuracy: 0.3524\n",
            "Epoch 12/100\n",
            "4/4 [==============================] - 0s 7ms/step - loss: 1.7504 - accuracy: 0.3524\n",
            "Epoch 13/100\n",
            "4/4 [==============================] - 0s 6ms/step - loss: 1.7002 - accuracy: 0.3524\n",
            "Epoch 14/100\n",
            "4/4 [==============================] - 0s 6ms/step - loss: 1.6492 - accuracy: 0.3524\n",
            "Epoch 15/100\n",
            "4/4 [==============================] - 0s 6ms/step - loss: 1.6038 - accuracy: 0.3524\n",
            "Epoch 16/100\n",
            "4/4 [==============================] - 0s 6ms/step - loss: 1.5613 - accuracy: 0.3524\n",
            "Epoch 17/100\n",
            "4/4 [==============================] - 0s 6ms/step - loss: 1.5169 - accuracy: 0.3524\n",
            "Epoch 18/100\n",
            "4/4 [==============================] - 0s 5ms/step - loss: 1.4798 - accuracy: 0.3524\n",
            "Epoch 19/100\n",
            "4/4 [==============================] - 0s 7ms/step - loss: 1.4456 - accuracy: 0.3524\n",
            "Epoch 20/100\n",
            "4/4 [==============================] - 0s 6ms/step - loss: 1.4110 - accuracy: 0.3524\n",
            "Epoch 21/100\n",
            "4/4 [==============================] - 0s 5ms/step - loss: 1.3824 - accuracy: 0.3524\n",
            "Epoch 22/100\n",
            "4/4 [==============================] - 0s 6ms/step - loss: 1.3574 - accuracy: 0.3524\n",
            "Epoch 23/100\n",
            "4/4 [==============================] - 0s 8ms/step - loss: 1.3347 - accuracy: 0.3524\n",
            "Epoch 24/100\n",
            "4/4 [==============================] - 0s 5ms/step - loss: 1.3132 - accuracy: 0.3524\n",
            "Epoch 25/100\n",
            "4/4 [==============================] - 0s 5ms/step - loss: 1.2908 - accuracy: 0.3524\n",
            "Epoch 26/100\n",
            "4/4 [==============================] - 0s 6ms/step - loss: 1.2731 - accuracy: 0.3524\n",
            "Epoch 27/100\n",
            "4/4 [==============================] - 0s 7ms/step - loss: 1.2583 - accuracy: 0.3524\n",
            "Epoch 28/100\n",
            "4/4 [==============================] - 0s 6ms/step - loss: 1.2423 - accuracy: 0.3524\n",
            "Epoch 29/100\n",
            "4/4 [==============================] - 0s 6ms/step - loss: 1.2294 - accuracy: 0.3524\n",
            "Epoch 30/100\n",
            "4/4 [==============================] - 0s 7ms/step - loss: 1.2167 - accuracy: 0.3524\n",
            "Epoch 31/100\n",
            "4/4 [==============================] - 0s 5ms/step - loss: 1.2045 - accuracy: 0.3524\n",
            "Epoch 32/100\n",
            "4/4 [==============================] - 0s 5ms/step - loss: 1.1925 - accuracy: 0.3524\n",
            "Epoch 33/100\n",
            "4/4 [==============================] - 0s 6ms/step - loss: 1.1830 - accuracy: 0.3238\n",
            "Epoch 34/100\n",
            "4/4 [==============================] - 0s 5ms/step - loss: 1.1723 - accuracy: 0.3143\n",
            "Epoch 35/100\n",
            "4/4 [==============================] - 0s 5ms/step - loss: 1.1639 - accuracy: 0.2952\n",
            "Epoch 36/100\n",
            "4/4 [==============================] - 0s 5ms/step - loss: 1.1556 - accuracy: 0.3143\n",
            "Epoch 37/100\n",
            "4/4 [==============================] - 0s 5ms/step - loss: 1.1489 - accuracy: 0.3238\n",
            "Epoch 38/100\n",
            "4/4 [==============================] - 0s 5ms/step - loss: 1.1405 - accuracy: 0.3048\n",
            "Epoch 39/100\n",
            "4/4 [==============================] - 0s 5ms/step - loss: 1.1333 - accuracy: 0.3048\n",
            "Epoch 40/100\n",
            "4/4 [==============================] - 0s 6ms/step - loss: 1.1264 - accuracy: 0.3238\n",
            "Epoch 41/100\n",
            "4/4 [==============================] - 0s 5ms/step - loss: 1.1194 - accuracy: 0.3524\n",
            "Epoch 42/100\n",
            "4/4 [==============================] - 0s 6ms/step - loss: 1.1131 - accuracy: 0.3619\n",
            "Epoch 43/100\n",
            "4/4 [==============================] - 0s 5ms/step - loss: 1.1071 - accuracy: 0.4095\n",
            "Epoch 44/100\n",
            "4/4 [==============================] - 0s 6ms/step - loss: 1.1003 - accuracy: 0.4190\n",
            "Epoch 45/100\n",
            "4/4 [==============================] - 0s 5ms/step - loss: 1.0941 - accuracy: 0.4000\n",
            "Epoch 46/100\n",
            "4/4 [==============================] - 0s 6ms/step - loss: 1.0887 - accuracy: 0.4190\n",
            "Epoch 47/100\n",
            "4/4 [==============================] - 0s 6ms/step - loss: 1.0830 - accuracy: 0.4667\n",
            "Epoch 48/100\n",
            "4/4 [==============================] - 0s 6ms/step - loss: 1.0771 - accuracy: 0.4857\n",
            "Epoch 49/100\n",
            "4/4 [==============================] - 0s 6ms/step - loss: 1.0713 - accuracy: 0.4857\n",
            "Epoch 50/100\n",
            "4/4 [==============================] - 0s 10ms/step - loss: 1.0660 - accuracy: 0.4857\n",
            "Epoch 51/100\n",
            "4/4 [==============================] - 0s 8ms/step - loss: 1.0612 - accuracy: 0.4952\n",
            "Epoch 52/100\n",
            "4/4 [==============================] - 0s 6ms/step - loss: 1.0552 - accuracy: 0.5333\n",
            "Epoch 53/100\n",
            "4/4 [==============================] - 0s 7ms/step - loss: 1.0498 - accuracy: 0.5714\n",
            "Epoch 54/100\n",
            "4/4 [==============================] - 0s 5ms/step - loss: 1.0443 - accuracy: 0.5810\n",
            "Epoch 55/100\n",
            "4/4 [==============================] - 0s 5ms/step - loss: 1.0393 - accuracy: 0.6190\n",
            "Epoch 56/100\n",
            "4/4 [==============================] - 0s 5ms/step - loss: 1.0337 - accuracy: 0.6571\n",
            "Epoch 57/100\n",
            "4/4 [==============================] - 0s 5ms/step - loss: 1.0286 - accuracy: 0.6667\n",
            "Epoch 58/100\n",
            "4/4 [==============================] - 0s 5ms/step - loss: 1.0236 - accuracy: 0.6667\n",
            "Epoch 59/100\n",
            "4/4 [==============================] - 0s 5ms/step - loss: 1.0183 - accuracy: 0.6667\n",
            "Epoch 60/100\n",
            "4/4 [==============================] - 0s 7ms/step - loss: 1.0127 - accuracy: 0.6667\n",
            "Epoch 61/100\n",
            "4/4 [==============================] - 0s 5ms/step - loss: 1.0074 - accuracy: 0.6667\n",
            "Epoch 62/100\n",
            "4/4 [==============================] - 0s 5ms/step - loss: 1.0021 - accuracy: 0.6667\n",
            "Epoch 63/100\n",
            "4/4 [==============================] - 0s 5ms/step - loss: 0.9967 - accuracy: 0.6667\n",
            "Epoch 64/100\n",
            "4/4 [==============================] - 0s 7ms/step - loss: 0.9917 - accuracy: 0.6667\n",
            "Epoch 65/100\n",
            "4/4 [==============================] - 0s 5ms/step - loss: 0.9862 - accuracy: 0.6762\n",
            "Epoch 66/100\n",
            "4/4 [==============================] - 0s 5ms/step - loss: 0.9811 - accuracy: 0.6762\n",
            "Epoch 67/100\n",
            "4/4 [==============================] - 0s 5ms/step - loss: 0.9757 - accuracy: 0.6762\n",
            "Epoch 68/100\n",
            "4/4 [==============================] - 0s 5ms/step - loss: 0.9705 - accuracy: 0.6762\n",
            "Epoch 69/100\n",
            "4/4 [==============================] - 0s 5ms/step - loss: 0.9652 - accuracy: 0.6762\n",
            "Epoch 70/100\n",
            "4/4 [==============================] - 0s 4ms/step - loss: 0.9601 - accuracy: 0.6762\n",
            "Epoch 71/100\n",
            "4/4 [==============================] - 0s 5ms/step - loss: 0.9548 - accuracy: 0.6762\n",
            "Epoch 72/100\n",
            "4/4 [==============================] - 0s 6ms/step - loss: 0.9498 - accuracy: 0.6762\n",
            "Epoch 73/100\n",
            "4/4 [==============================] - 0s 5ms/step - loss: 0.9446 - accuracy: 0.6857\n",
            "Epoch 74/100\n",
            "4/4 [==============================] - 0s 5ms/step - loss: 0.9390 - accuracy: 0.6857\n",
            "Epoch 75/100\n",
            "4/4 [==============================] - 0s 5ms/step - loss: 0.9339 - accuracy: 0.6857\n",
            "Epoch 76/100\n",
            "4/4 [==============================] - 0s 5ms/step - loss: 0.9283 - accuracy: 0.7143\n",
            "Epoch 77/100\n",
            "4/4 [==============================] - 0s 5ms/step - loss: 0.9228 - accuracy: 0.7143\n",
            "Epoch 78/100\n",
            "4/4 [==============================] - 0s 7ms/step - loss: 0.9177 - accuracy: 0.7143\n",
            "Epoch 79/100\n",
            "4/4 [==============================] - 0s 6ms/step - loss: 0.9121 - accuracy: 0.7143\n",
            "Epoch 80/100\n",
            "4/4 [==============================] - 0s 6ms/step - loss: 0.9066 - accuracy: 0.7143\n",
            "Epoch 81/100\n",
            "4/4 [==============================] - 0s 8ms/step - loss: 0.9017 - accuracy: 0.7143\n",
            "Epoch 82/100\n",
            "4/4 [==============================] - 0s 7ms/step - loss: 0.8963 - accuracy: 0.7143\n",
            "Epoch 83/100\n",
            "4/4 [==============================] - 0s 7ms/step - loss: 0.8909 - accuracy: 0.7143\n",
            "Epoch 84/100\n",
            "4/4 [==============================] - 0s 5ms/step - loss: 0.8856 - accuracy: 0.7143\n",
            "Epoch 85/100\n",
            "4/4 [==============================] - 0s 5ms/step - loss: 0.8801 - accuracy: 0.7143\n",
            "Epoch 86/100\n",
            "4/4 [==============================] - 0s 5ms/step - loss: 0.8748 - accuracy: 0.7143\n",
            "Epoch 87/100\n",
            "4/4 [==============================] - 0s 6ms/step - loss: 0.8694 - accuracy: 0.7143\n",
            "Epoch 88/100\n",
            "4/4 [==============================] - 0s 5ms/step - loss: 0.8639 - accuracy: 0.7143\n",
            "Epoch 89/100\n",
            "4/4 [==============================] - 0s 6ms/step - loss: 0.8585 - accuracy: 0.7143\n",
            "Epoch 90/100\n",
            "4/4 [==============================] - 0s 5ms/step - loss: 0.8531 - accuracy: 0.7143\n",
            "Epoch 91/100\n",
            "4/4 [==============================] - 0s 6ms/step - loss: 0.8475 - accuracy: 0.7143\n",
            "Epoch 92/100\n",
            "4/4 [==============================] - 0s 5ms/step - loss: 0.8421 - accuracy: 0.7143\n",
            "Epoch 93/100\n",
            "4/4 [==============================] - 0s 6ms/step - loss: 0.8369 - accuracy: 0.7333\n",
            "Epoch 94/100\n",
            "4/4 [==============================] - 0s 5ms/step - loss: 0.8313 - accuracy: 0.7524\n",
            "Epoch 95/100\n",
            "4/4 [==============================] - 0s 5ms/step - loss: 0.8260 - accuracy: 0.7524\n",
            "Epoch 96/100\n",
            "4/4 [==============================] - 0s 6ms/step - loss: 0.8204 - accuracy: 0.7714\n",
            "Epoch 97/100\n",
            "4/4 [==============================] - 0s 5ms/step - loss: 0.8153 - accuracy: 0.7619\n",
            "Epoch 98/100\n",
            "4/4 [==============================] - 0s 5ms/step - loss: 0.8098 - accuracy: 0.7333\n",
            "Epoch 99/100\n",
            "4/4 [==============================] - 0s 5ms/step - loss: 0.8042 - accuracy: 0.7143\n",
            "Epoch 100/100\n",
            "4/4 [==============================] - 0s 6ms/step - loss: 0.7987 - accuracy: 0.7143\n"
          ]
        }
      ]
    },
    {
      "cell_type": "code",
      "source": [
        "y_hat=model.predict(X_test)"
      ],
      "metadata": {
        "colab": {
          "base_uri": "https://localhost:8080/"
        },
        "id": "a8VJOfxAfd2B",
        "outputId": "b0132483-80d8-46fd-cf24-ab1781e0fa96"
      },
      "execution_count": 43,
      "outputs": [
        {
          "output_type": "stream",
          "name": "stdout",
          "text": [
            "2/2 [==============================] - 0s 13ms/step\n"
          ]
        }
      ]
    },
    {
      "cell_type": "code",
      "source": [
        "model.evaluate(X_test,y_test)"
      ],
      "metadata": {
        "colab": {
          "base_uri": "https://localhost:8080/"
        },
        "id": "q5xt-FNnhNT0",
        "outputId": "05b53842-0340-4f83-dd7a-ecac35c552ab"
      },
      "execution_count": 44,
      "outputs": [
        {
          "output_type": "stream",
          "name": "stdout",
          "text": [
            "2/2 [==============================] - 0s 16ms/step - loss: 0.8161 - accuracy: 0.6444\n"
          ]
        },
        {
          "output_type": "execute_result",
          "data": {
            "text/plain": [
              "[0.8160580992698669, 0.644444465637207]"
            ]
          },
          "metadata": {},
          "execution_count": 44
        }
      ]
    },
    {
      "cell_type": "code",
      "source": [
        "import numpy as np\n",
        "y_test_class=np.argmax(y_test,axis=1)\n",
        "y_pred_class=np.argmax(y_hat,axis=1)"
      ],
      "metadata": {
        "id": "lASa0gU_haLW"
      },
      "execution_count": 45,
      "outputs": []
    },
    {
      "cell_type": "code",
      "source": [
        "from sklearn.metrics import confusion_matrix"
      ],
      "metadata": {
        "id": "uIY_zjOrh013"
      },
      "execution_count": 46,
      "outputs": []
    },
    {
      "cell_type": "code",
      "source": [
        "confusion_matrix(y_test_class,y_pred_class)"
      ],
      "metadata": {
        "colab": {
          "base_uri": "https://localhost:8080/"
        },
        "id": "Q8xtQuSch_mv",
        "outputId": "7cdfc1e4-3c8a-4ee0-ca80-5b0e9dd42311"
      },
      "execution_count": 47,
      "outputs": [
        {
          "output_type": "execute_result",
          "data": {
            "text/plain": [
              "array([[13,  0,  0],\n",
              "       [ 0,  0, 16],\n",
              "       [ 0,  0, 16]])"
            ]
          },
          "metadata": {},
          "execution_count": 47
        }
      ]
    },
    {
      "cell_type": "code",
      "source": [],
      "metadata": {
        "id": "rohmKuQQiG7a"
      },
      "execution_count": null,
      "outputs": []
    }
  ]
}