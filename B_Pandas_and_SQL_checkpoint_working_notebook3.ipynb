{
  "nbformat": 4,
  "nbformat_minor": 0,
  "metadata": {
    "colab": {
      "name": "B_Pandas_and_SQL_checkpoint_working_notebook3.ipynb",
      "provenance": []
    },
    "kernelspec": {
      "display_name": "Python 3",
      "language": "python",
      "name": "python3"
    },
    "language_info": {
      "codemirror_mode": {
        "name": "ipython",
        "version": 3
      },
      "file_extension": ".py",
      "mimetype": "text/x-python",
      "name": "python",
      "nbconvert_exporter": "python",
      "pygments_lexer": "ipython3",
      "version": "3.5.2"
    }
  },
  "cells": [
    {
      "cell_type": "markdown",
      "metadata": {
        "id": "xaWsvzaLwh3C"
      },
      "source": [
        "### Using Pandas together with SQL\n",
        "\n",
        "---\n",
        "\n"
      ]
    },
    {
      "cell_type": "code",
      "metadata": {
        "collapsed": true,
        "id": "Y7hh5ijzwh3F"
      },
      "source": [
        "%matplotlib inline\n",
        "\n",
        "import pandas as pd\n",
        "import matplotlib\n",
        "import matplotlib.pyplot as plt\n",
        "\n",
        "# Make the graphs a bit prettier, and bigger\n",
        "matplotlib.style.use(['seaborn-talk', 'seaborn-ticks', 'seaborn-whitegrid'])\n",
        "plt.rcParams['figure.figsize'] = (15, 5)"
      ],
      "execution_count": 1,
      "outputs": []
    },
    {
      "cell_type": "code",
      "metadata": {
        "colab": {
          "base_uri": "https://localhost:8080/"
        },
        "id": "JwJrVeAaz32K",
        "outputId": "143f3bfe-0be4-4aab-9cd5-9f8eaf002042"
      },
      "source": [
        "pip install -U sql_magic"
      ],
      "execution_count": 2,
      "outputs": [
        {
          "output_type": "stream",
          "text": [
            "Collecting sql_magic\n",
            "  Downloading https://files.pythonhosted.org/packages/a6/a7/ccdc67278de3f34db5d484f9b6c59ad9a536beda4a5acad5ecb3b0932246/sql_magic-0.0.4-py3-none-any.whl\n",
            "Requirement already satisfied, skipping upgrade: jupyter in /usr/local/lib/python3.7/dist-packages (from sql_magic) (1.0.0)\n",
            "Requirement already satisfied, skipping upgrade: traitlets in /usr/local/lib/python3.7/dist-packages (from sql_magic) (5.0.5)\n",
            "Collecting findspark\n",
            "  Downloading https://files.pythonhosted.org/packages/fc/2d/2e39f9a023479ea798eed4351cd66f163ce61e00c717e03c37109f00c0f2/findspark-1.4.2-py2.py3-none-any.whl\n",
            "Requirement already satisfied, skipping upgrade: sqlparse in /usr/local/lib/python3.7/dist-packages (from sql_magic) (0.4.1)\n",
            "Requirement already satisfied, skipping upgrade: ipython in /usr/local/lib/python3.7/dist-packages (from sql_magic) (5.5.0)\n",
            "Requirement already satisfied, skipping upgrade: pandas in /usr/local/lib/python3.7/dist-packages (from sql_magic) (1.1.5)\n",
            "Requirement already satisfied, skipping upgrade: jupyter-console in /usr/local/lib/python3.7/dist-packages (from jupyter->sql_magic) (5.2.0)\n",
            "Requirement already satisfied, skipping upgrade: ipywidgets in /usr/local/lib/python3.7/dist-packages (from jupyter->sql_magic) (7.6.3)\n",
            "Requirement already satisfied, skipping upgrade: nbconvert in /usr/local/lib/python3.7/dist-packages (from jupyter->sql_magic) (5.6.1)\n",
            "Requirement already satisfied, skipping upgrade: notebook in /usr/local/lib/python3.7/dist-packages (from jupyter->sql_magic) (5.3.1)\n",
            "Requirement already satisfied, skipping upgrade: qtconsole in /usr/local/lib/python3.7/dist-packages (from jupyter->sql_magic) (5.0.3)\n",
            "Requirement already satisfied, skipping upgrade: ipykernel in /usr/local/lib/python3.7/dist-packages (from jupyter->sql_magic) (4.10.1)\n",
            "Requirement already satisfied, skipping upgrade: ipython-genutils in /usr/local/lib/python3.7/dist-packages (from traitlets->sql_magic) (0.2.0)\n",
            "Requirement already satisfied, skipping upgrade: simplegeneric>0.8 in /usr/local/lib/python3.7/dist-packages (from ipython->sql_magic) (0.8.1)\n",
            "Requirement already satisfied, skipping upgrade: pickleshare in /usr/local/lib/python3.7/dist-packages (from ipython->sql_magic) (0.7.5)\n",
            "Requirement already satisfied, skipping upgrade: pexpect; sys_platform != \"win32\" in /usr/local/lib/python3.7/dist-packages (from ipython->sql_magic) (4.8.0)\n",
            "Requirement already satisfied, skipping upgrade: prompt-toolkit<2.0.0,>=1.0.4 in /usr/local/lib/python3.7/dist-packages (from ipython->sql_magic) (1.0.18)\n",
            "Requirement already satisfied, skipping upgrade: pygments in /usr/local/lib/python3.7/dist-packages (from ipython->sql_magic) (2.6.1)\n",
            "Requirement already satisfied, skipping upgrade: decorator in /usr/local/lib/python3.7/dist-packages (from ipython->sql_magic) (4.4.2)\n",
            "Requirement already satisfied, skipping upgrade: setuptools>=18.5 in /usr/local/lib/python3.7/dist-packages (from ipython->sql_magic) (56.0.0)\n",
            "Requirement already satisfied, skipping upgrade: numpy>=1.15.4 in /usr/local/lib/python3.7/dist-packages (from pandas->sql_magic) (1.19.5)\n",
            "Requirement already satisfied, skipping upgrade: pytz>=2017.2 in /usr/local/lib/python3.7/dist-packages (from pandas->sql_magic) (2018.9)\n",
            "Requirement already satisfied, skipping upgrade: python-dateutil>=2.7.3 in /usr/local/lib/python3.7/dist-packages (from pandas->sql_magic) (2.8.1)\n",
            "Requirement already satisfied, skipping upgrade: jupyter-client in /usr/local/lib/python3.7/dist-packages (from jupyter-console->jupyter->sql_magic) (5.3.5)\n",
            "Requirement already satisfied, skipping upgrade: jupyterlab-widgets>=1.0.0; python_version >= \"3.6\" in /usr/local/lib/python3.7/dist-packages (from ipywidgets->jupyter->sql_magic) (1.0.0)\n",
            "Requirement already satisfied, skipping upgrade: widgetsnbextension~=3.5.0 in /usr/local/lib/python3.7/dist-packages (from ipywidgets->jupyter->sql_magic) (3.5.1)\n",
            "Requirement already satisfied, skipping upgrade: nbformat>=4.2.0 in /usr/local/lib/python3.7/dist-packages (from ipywidgets->jupyter->sql_magic) (5.1.3)\n",
            "Requirement already satisfied, skipping upgrade: entrypoints>=0.2.2 in /usr/local/lib/python3.7/dist-packages (from nbconvert->jupyter->sql_magic) (0.3)\n",
            "Requirement already satisfied, skipping upgrade: jinja2>=2.4 in /usr/local/lib/python3.7/dist-packages (from nbconvert->jupyter->sql_magic) (2.11.3)\n",
            "Requirement already satisfied, skipping upgrade: bleach in /usr/local/lib/python3.7/dist-packages (from nbconvert->jupyter->sql_magic) (3.3.0)\n",
            "Requirement already satisfied, skipping upgrade: pandocfilters>=1.4.1 in /usr/local/lib/python3.7/dist-packages (from nbconvert->jupyter->sql_magic) (1.4.3)\n",
            "Requirement already satisfied, skipping upgrade: testpath in /usr/local/lib/python3.7/dist-packages (from nbconvert->jupyter->sql_magic) (0.4.4)\n",
            "Requirement already satisfied, skipping upgrade: jupyter-core in /usr/local/lib/python3.7/dist-packages (from nbconvert->jupyter->sql_magic) (4.7.1)\n",
            "Requirement already satisfied, skipping upgrade: defusedxml in /usr/local/lib/python3.7/dist-packages (from nbconvert->jupyter->sql_magic) (0.7.1)\n",
            "Requirement already satisfied, skipping upgrade: mistune<2,>=0.8.1 in /usr/local/lib/python3.7/dist-packages (from nbconvert->jupyter->sql_magic) (0.8.4)\n",
            "Requirement already satisfied, skipping upgrade: Send2Trash in /usr/local/lib/python3.7/dist-packages (from notebook->jupyter->sql_magic) (1.5.0)\n",
            "Requirement already satisfied, skipping upgrade: tornado>=4 in /usr/local/lib/python3.7/dist-packages (from notebook->jupyter->sql_magic) (5.1.1)\n",
            "Requirement already satisfied, skipping upgrade: terminado>=0.8.1 in /usr/local/lib/python3.7/dist-packages (from notebook->jupyter->sql_magic) (0.9.4)\n",
            "Requirement already satisfied, skipping upgrade: pyzmq>=17.1 in /usr/local/lib/python3.7/dist-packages (from qtconsole->jupyter->sql_magic) (22.0.3)\n",
            "Requirement already satisfied, skipping upgrade: qtpy in /usr/local/lib/python3.7/dist-packages (from qtconsole->jupyter->sql_magic) (1.9.0)\n",
            "Requirement already satisfied, skipping upgrade: ptyprocess>=0.5 in /usr/local/lib/python3.7/dist-packages (from pexpect; sys_platform != \"win32\"->ipython->sql_magic) (0.7.0)\n",
            "Requirement already satisfied, skipping upgrade: wcwidth in /usr/local/lib/python3.7/dist-packages (from prompt-toolkit<2.0.0,>=1.0.4->ipython->sql_magic) (0.2.5)\n",
            "Requirement already satisfied, skipping upgrade: six>=1.9.0 in /usr/local/lib/python3.7/dist-packages (from prompt-toolkit<2.0.0,>=1.0.4->ipython->sql_magic) (1.15.0)\n",
            "Requirement already satisfied, skipping upgrade: jsonschema!=2.5.0,>=2.4 in /usr/local/lib/python3.7/dist-packages (from nbformat>=4.2.0->ipywidgets->jupyter->sql_magic) (2.6.0)\n",
            "Requirement already satisfied, skipping upgrade: MarkupSafe>=0.23 in /usr/local/lib/python3.7/dist-packages (from jinja2>=2.4->nbconvert->jupyter->sql_magic) (1.1.1)\n",
            "Requirement already satisfied, skipping upgrade: packaging in /usr/local/lib/python3.7/dist-packages (from bleach->nbconvert->jupyter->sql_magic) (20.9)\n",
            "Requirement already satisfied, skipping upgrade: webencodings in /usr/local/lib/python3.7/dist-packages (from bleach->nbconvert->jupyter->sql_magic) (0.5.1)\n",
            "Requirement already satisfied, skipping upgrade: pyparsing>=2.0.2 in /usr/local/lib/python3.7/dist-packages (from packaging->bleach->nbconvert->jupyter->sql_magic) (2.4.7)\n",
            "Installing collected packages: findspark, sql-magic\n",
            "Successfully installed findspark-1.4.2 sql-magic-0.0.4\n"
          ],
          "name": "stdout"
        }
      ]
    },
    {
      "cell_type": "code",
      "metadata": {
        "colab": {
          "base_uri": "https://localhost:8080/"
        },
        "id": "iw3-4VsJz4CF",
        "outputId": "c3d2ba07-a37c-4651-fc5a-9b2000408437"
      },
      "source": [
        "pip install mysqlclient"
      ],
      "execution_count": 3,
      "outputs": [
        {
          "output_type": "stream",
          "text": [
            "Collecting mysqlclient\n",
            "\u001b[?25l  Downloading https://files.pythonhosted.org/packages/3c/df/59cd2fa5e48d0804d213bdcb1acb4d08c403b61c7ff7ed4dd4a6a2deb3f7/mysqlclient-2.0.3.tar.gz (88kB)\n",
            "\r\u001b[K     |███▊                            | 10kB 6.7MB/s eta 0:00:01\r\u001b[K     |███████▍                        | 20kB 7.9MB/s eta 0:00:01\r\u001b[K     |███████████                     | 30kB 7.9MB/s eta 0:00:01\r\u001b[K     |██████████████▊                 | 40kB 6.9MB/s eta 0:00:01\r\u001b[K     |██████████████████▍             | 51kB 4.1MB/s eta 0:00:01\r\u001b[K     |██████████████████████▏         | 61kB 4.7MB/s eta 0:00:01\r\u001b[K     |█████████████████████████▉      | 71kB 4.5MB/s eta 0:00:01\r\u001b[K     |█████████████████████████████▌  | 81kB 5.0MB/s eta 0:00:01\r\u001b[K     |████████████████████████████████| 92kB 2.7MB/s \n",
            "\u001b[?25hBuilding wheels for collected packages: mysqlclient\n",
            "  Building wheel for mysqlclient (setup.py) ... \u001b[?25l\u001b[?25hdone\n",
            "  Created wheel for mysqlclient: filename=mysqlclient-2.0.3-cp37-cp37m-linux_x86_64.whl size=100099 sha256=d1814be18d3c198d97b630d76d713a238936e835154590cde1b8610711f02a20\n",
            "  Stored in directory: /root/.cache/pip/wheels/75/ca/e8/ad4e7ce3df18bcd91c7d84dd28c7c08db491a2a2360efed363\n",
            "Successfully built mysqlclient\n",
            "Installing collected packages: mysqlclient\n",
            "Successfully installed mysqlclient-2.0.3\n"
          ],
          "name": "stdout"
        }
      ]
    },
    {
      "cell_type": "code",
      "metadata": {
        "colab": {
          "base_uri": "https://localhost:8080/"
        },
        "id": "N3FEYwPHwh3I",
        "outputId": "0e01c40e-9387-4f56-b0cb-0f1e728d4d42"
      },
      "source": [
        "# Install the SQLAlchemy library if it is not installed\n",
        "!sudo -H pip3 install -U sqlalchemy"
      ],
      "execution_count": 4,
      "outputs": [
        {
          "output_type": "stream",
          "text": [
            "Collecting sqlalchemy\n",
            "\u001b[?25l  Downloading https://files.pythonhosted.org/packages/cf/16/9df1583356c0abaa420eca5626b7e33b9ef8c0bf85cb2e096aa02cc5a2f5/SQLAlchemy-1.4.11-cp37-cp37m-manylinux2014_x86_64.whl (1.5MB)\n",
            "\u001b[K     |████████████████████████████████| 1.5MB 4.4MB/s \n",
            "\u001b[?25hRequirement already satisfied, skipping upgrade: importlib-metadata; python_version < \"3.8\" in /usr/local/lib/python3.7/dist-packages (from sqlalchemy) (3.10.1)\n",
            "Requirement already satisfied, skipping upgrade: greenlet!=0.4.17; python_version >= \"3\" in /usr/local/lib/python3.7/dist-packages (from sqlalchemy) (1.0.0)\n",
            "Requirement already satisfied, skipping upgrade: typing-extensions>=3.6.4; python_version < \"3.8\" in /usr/local/lib/python3.7/dist-packages (from importlib-metadata; python_version < \"3.8\"->sqlalchemy) (3.7.4.3)\n",
            "Requirement already satisfied, skipping upgrade: zipp>=0.5 in /usr/local/lib/python3.7/dist-packages (from importlib-metadata; python_version < \"3.8\"->sqlalchemy) (3.4.1)\n",
            "Installing collected packages: sqlalchemy\n",
            "  Found existing installation: SQLAlchemy 1.4.7\n",
            "    Uninstalling SQLAlchemy-1.4.7:\n",
            "      Successfully uninstalled SQLAlchemy-1.4.7\n",
            "Successfully installed sqlalchemy-1.4.11\n"
          ],
          "name": "stdout"
        }
      ]
    },
    {
      "cell_type": "markdown",
      "metadata": {
        "id": "FHdgvreRwh3K"
      },
      "source": [
        "### Importing into DataFrames using read_sql\n",
        "\n",
        "The `read_sql` function of Pandas allows us to create a dataframe directly from a SQL query. To execute the query, we first setup the connection to the database using the SQLAlchemy library."
      ]
    },
    {
      "cell_type": "code",
      "metadata": {
        "collapsed": true,
        "id": "aUQNe1Lhwh3L"
      },
      "source": [
        "from sqlalchemy import create_engine"
      ],
      "execution_count": 5,
      "outputs": []
    },
    {
      "cell_type": "code",
      "metadata": {
        "collapsed": true,
        "id": "irFWzyd6wh3M"
      },
      "source": [
        "conn_string_imdb = 'mysql://{user}:{password}@{host}:{port}/{db}'.format(\n",
        "    user='student', \n",
        "    password='dwdstudent2015', \n",
        "    host = 'db.ipeirotis.org', \n",
        "    port=3306, \n",
        "    db='imdb'\n",
        ")\n",
        "engine_imdb = create_engine(conn_string_imdb)"
      ],
      "execution_count": null,
      "outputs": []
    },
    {
      "cell_type": "markdown",
      "metadata": {
        "id": "couon0bBwh3O"
      },
      "source": [
        "#### Retrieve the first 10 lines from the actors table "
      ]
    },
    {
      "cell_type": "code",
      "metadata": {
        "collapsed": true,
        "id": "RdxqUetDwh3P"
      },
      "source": [
        "query = '''\n",
        "SELECT * FROM actors LIMIT 10\n",
        "'''"
      ],
      "execution_count": null,
      "outputs": []
    },
    {
      "cell_type": "code",
      "metadata": {
        "id": "DpLcdyyuwh3Q"
      },
      "source": [
        "df_actors = pd.read_sql(query, con=engine_imdb)"
      ],
      "execution_count": null,
      "outputs": []
    },
    {
      "cell_type": "code",
      "metadata": {
        "colab": {
          "base_uri": "https://localhost:8080/",
          "height": 363
        },
        "id": "C49SMy3_wh3S",
        "outputId": "c3bc7cc6-fcbc-42f6-dd16-c11be4d095f9"
      },
      "source": [
        "df_actors"
      ],
      "execution_count": null,
      "outputs": [
        {
          "output_type": "execute_result",
          "data": {
            "text/html": [
              "<div>\n",
              "<style scoped>\n",
              "    .dataframe tbody tr th:only-of-type {\n",
              "        vertical-align: middle;\n",
              "    }\n",
              "\n",
              "    .dataframe tbody tr th {\n",
              "        vertical-align: top;\n",
              "    }\n",
              "\n",
              "    .dataframe thead th {\n",
              "        text-align: right;\n",
              "    }\n",
              "</style>\n",
              "<table border=\"1\" class=\"dataframe\">\n",
              "  <thead>\n",
              "    <tr style=\"text-align: right;\">\n",
              "      <th></th>\n",
              "      <th>id</th>\n",
              "      <th>first_name</th>\n",
              "      <th>last_name</th>\n",
              "      <th>gender</th>\n",
              "    </tr>\n",
              "  </thead>\n",
              "  <tbody>\n",
              "    <tr>\n",
              "      <th>0</th>\n",
              "      <td>2</td>\n",
              "      <td>Michael</td>\n",
              "      <td>'babeepower' Viera</td>\n",
              "      <td>M</td>\n",
              "    </tr>\n",
              "    <tr>\n",
              "      <th>1</th>\n",
              "      <td>3</td>\n",
              "      <td>Eloy</td>\n",
              "      <td>'Chincheta'</td>\n",
              "      <td>M</td>\n",
              "    </tr>\n",
              "    <tr>\n",
              "      <th>2</th>\n",
              "      <td>4</td>\n",
              "      <td>Dieguito</td>\n",
              "      <td>'El Cigala'</td>\n",
              "      <td>M</td>\n",
              "    </tr>\n",
              "    <tr>\n",
              "      <th>3</th>\n",
              "      <td>5</td>\n",
              "      <td>Antonio</td>\n",
              "      <td>'El de Chipiona'</td>\n",
              "      <td>M</td>\n",
              "    </tr>\n",
              "    <tr>\n",
              "      <th>4</th>\n",
              "      <td>6</td>\n",
              "      <td>José</td>\n",
              "      <td>'El Francés'</td>\n",
              "      <td>M</td>\n",
              "    </tr>\n",
              "    <tr>\n",
              "      <th>5</th>\n",
              "      <td>7</td>\n",
              "      <td>Félix</td>\n",
              "      <td>'El Gato'</td>\n",
              "      <td>M</td>\n",
              "    </tr>\n",
              "    <tr>\n",
              "      <th>6</th>\n",
              "      <td>8</td>\n",
              "      <td>Marcial</td>\n",
              "      <td>'El Jalisco'</td>\n",
              "      <td>M</td>\n",
              "    </tr>\n",
              "    <tr>\n",
              "      <th>7</th>\n",
              "      <td>9</td>\n",
              "      <td>José</td>\n",
              "      <td>'El Morito'</td>\n",
              "      <td>M</td>\n",
              "    </tr>\n",
              "    <tr>\n",
              "      <th>8</th>\n",
              "      <td>10</td>\n",
              "      <td>Francisco</td>\n",
              "      <td>'El Niño de la Manola'</td>\n",
              "      <td>M</td>\n",
              "    </tr>\n",
              "    <tr>\n",
              "      <th>9</th>\n",
              "      <td>11</td>\n",
              "      <td>Víctor</td>\n",
              "      <td>'El Payaso'</td>\n",
              "      <td>M</td>\n",
              "    </tr>\n",
              "  </tbody>\n",
              "</table>\n",
              "</div>"
            ],
            "text/plain": [
              "   id first_name               last_name gender\n",
              "0   2    Michael      'babeepower' Viera      M\n",
              "1   3       Eloy             'Chincheta'      M\n",
              "2   4   Dieguito             'El Cigala'      M\n",
              "3   5    Antonio        'El de Chipiona'      M\n",
              "4   6       José            'El Francés'      M\n",
              "5   7      Félix               'El Gato'      M\n",
              "6   8    Marcial            'El Jalisco'      M\n",
              "7   9       José             'El Morito'      M\n",
              "8  10  Francisco  'El Niño de la Manola'      M\n",
              "9  11     Víctor             'El Payaso'      M"
            ]
          },
          "metadata": {
            "tags": []
          },
          "execution_count": 9
        }
      ]
    },
    {
      "cell_type": "markdown",
      "metadata": {
        "id": "4lv4YRohwh3T"
      },
      "source": [
        "#### Retrieve the number of movies per year"
      ]
    },
    {
      "cell_type": "code",
      "metadata": {
        "collapsed": true,
        "id": "8svNOkbDwh3Z"
      },
      "source": [
        "query = '''\n",
        "SELECT year, COUNT(*) AS num_movies, COUNT(rating) AS rated_movies\n",
        "FROM movies \n",
        "GROUP BY year\n",
        "ORDER BY year;\n",
        "'''"
      ],
      "execution_count": null,
      "outputs": []
    },
    {
      "cell_type": "code",
      "metadata": {
        "collapsed": true,
        "id": "FRIDqEe1wh3a"
      },
      "source": [
        "df_movies = pd.read_sql(query, con=engine_imdb)"
      ],
      "execution_count": null,
      "outputs": []
    },
    {
      "cell_type": "code",
      "metadata": {
        "colab": {
          "base_uri": "https://localhost:8080/",
          "height": 206
        },
        "id": "8l7SLMBmwh3a",
        "outputId": "ab22458e-4235-48e9-fa21-68323372ee73"
      },
      "source": [
        "df_movies.head(5)"
      ],
      "execution_count": null,
      "outputs": [
        {
          "output_type": "execute_result",
          "data": {
            "text/html": [
              "<div>\n",
              "<style scoped>\n",
              "    .dataframe tbody tr th:only-of-type {\n",
              "        vertical-align: middle;\n",
              "    }\n",
              "\n",
              "    .dataframe tbody tr th {\n",
              "        vertical-align: top;\n",
              "    }\n",
              "\n",
              "    .dataframe thead th {\n",
              "        text-align: right;\n",
              "    }\n",
              "</style>\n",
              "<table border=\"1\" class=\"dataframe\">\n",
              "  <thead>\n",
              "    <tr style=\"text-align: right;\">\n",
              "      <th></th>\n",
              "      <th>year</th>\n",
              "      <th>num_movies</th>\n",
              "      <th>rated_movies</th>\n",
              "    </tr>\n",
              "  </thead>\n",
              "  <tbody>\n",
              "    <tr>\n",
              "      <th>0</th>\n",
              "      <td>1888</td>\n",
              "      <td>2</td>\n",
              "      <td>0</td>\n",
              "    </tr>\n",
              "    <tr>\n",
              "      <th>1</th>\n",
              "      <td>1890</td>\n",
              "      <td>3</td>\n",
              "      <td>1</td>\n",
              "    </tr>\n",
              "    <tr>\n",
              "      <th>2</th>\n",
              "      <td>1891</td>\n",
              "      <td>6</td>\n",
              "      <td>6</td>\n",
              "    </tr>\n",
              "    <tr>\n",
              "      <th>3</th>\n",
              "      <td>1892</td>\n",
              "      <td>9</td>\n",
              "      <td>9</td>\n",
              "    </tr>\n",
              "    <tr>\n",
              "      <th>4</th>\n",
              "      <td>1893</td>\n",
              "      <td>2</td>\n",
              "      <td>1</td>\n",
              "    </tr>\n",
              "  </tbody>\n",
              "</table>\n",
              "</div>"
            ],
            "text/plain": [
              "   year  num_movies  rated_movies\n",
              "0  1888           2             0\n",
              "1  1890           3             1\n",
              "2  1891           6             6\n",
              "3  1892           9             9\n",
              "4  1893           2             1"
            ]
          },
          "metadata": {
            "tags": []
          },
          "execution_count": 12
        }
      ]
    },
    {
      "cell_type": "markdown",
      "metadata": {
        "id": "pQkZ1PaRwh3a"
      },
      "source": [
        "Let's try to plot the results."
      ]
    },
    {
      "cell_type": "code",
      "metadata": {
        "colab": {
          "base_uri": "https://localhost:8080/",
          "height": 287
        },
        "id": "WTfVUQljwh3b",
        "outputId": "dc24f72a-8c7f-4827-ff45-d4e7e24fd1cf"
      },
      "source": [
        "df_movies.plot()"
      ],
      "execution_count": null,
      "outputs": [
        {
          "output_type": "execute_result",
          "data": {
            "text/plain": [
              "<matplotlib.axes._subplots.AxesSubplot at 0x7feb3d0f9fd0>"
            ]
          },
          "metadata": {
            "tags": []
          },
          "execution_count": 13
        },
        {
          "output_type": "display_data",
          "data": {
            "image/png": "[encoded data removed]",
            "text/plain": [
              "<Figure size 432x288 with 1 Axes>"
            ]
          },
          "metadata": {
            "tags": [],
            "needs_background": "light"
          }
        }
      ]
    },
    {
      "cell_type": "markdown",
      "metadata": {
        "id": "9Mo3UuVEwh3d"
      },
      "source": [
        "We have a couple of issues. We also plotted the year as a line, and we do not have it as the label of the x-axis. For that, we need to convert the year into a proper datetime variable, and then make it the index for the dataframe."
      ]
    },
    {
      "cell_type": "code",
      "metadata": {
        "collapsed": true,
        "id": "qrr1Ojk_wh3d"
      },
      "source": [
        "df_movies['year'] = pd.to_datetime(df_movies['year'], format='%Y')\n",
        "df_movies2 = df_movies.set_index('year')"
      ],
      "execution_count": null,
      "outputs": []
    },
    {
      "cell_type": "code",
      "metadata": {
        "colab": {
          "base_uri": "https://localhost:8080/",
          "height": 297
        },
        "id": "Y3sqUn0Gwh3e",
        "outputId": "67e059d8-499d-41c9-a4d4-de555aa110ff"
      },
      "source": [
        "df_movies2.plot()"
      ],
      "execution_count": null,
      "outputs": [
        {
          "output_type": "execute_result",
          "data": {
            "text/plain": [
              "<matplotlib.axes._subplots.AxesSubplot at 0x7feb3cfe9050>"
            ]
          },
          "metadata": {
            "tags": []
          },
          "execution_count": 15
        },
        {
          "output_type": "display_data",
          "data": {
            "image/png": "[encoded data removed]",
            "text/plain": [
              "<Figure size 432x288 with 1 Axes>"
            ]
          },
          "metadata": {
            "tags": [],
            "needs_background": "light"
          }
        }
      ]
    },
    {
      "cell_type": "markdown",
      "metadata": {
        "id": "rSXI1UPdwh3e"
      },
      "source": [
        "### Exercise\n",
        "\n",
        "* Connect to the Facebook database, and use the `MemberSince` variable from the `Profiles` table to plot the growth of Facebook users.\n",
        "* (_Learn something new_) Use the [cumsum()](http://pandas.pydata.org/pandas-docs/stable/generated/pandas.Series.cumsum.html) function of Pandas and plot the total number of registered users over time."
      ]
    },
    {
      "cell_type": "code",
      "metadata": {
        "collapsed": true,
        "id": "YwAG1H2vwh3e"
      },
      "source": [
        "# your code here"
      ],
      "execution_count": null,
      "outputs": []
    },
    {
      "cell_type": "markdown",
      "metadata": {
        "id": "_fKp3oBywh3q"
      },
      "source": [
        "### Further Examples with SQL and Pandas"
      ]
    },
    {
      "cell_type": "markdown",
      "metadata": {
        "id": "tUNLu4wQwh3r"
      },
      "source": [
        "Now let's run a query to get the political views of Facebook users, broken down by gender."
      ]
    },
    {
      "cell_type": "code",
      "metadata": {
        "collapsed": true,
        "id": "rfrv_y9Rwh3r"
      },
      "source": [
        "conn_string_fb = 'mysql://{user}:{password}@{host}:{port}/{db}'.format(\n",
        "    user='student', \n",
        "    password='dwdstudent2015', \n",
        "    host = 'db.ipeirotis.org', \n",
        "    port=3306,  \n",
        "    db='facebook'\n",
        ")\n",
        "engine_fb = create_engine(conn_string_fb)"
      ],
      "execution_count": null,
      "outputs": []
    },
    {
      "cell_type": "code",
      "metadata": {
        "colab": {
          "base_uri": "https://localhost:8080/",
          "height": 646
        },
        "id": "UiIJoULk2r62",
        "outputId": "df536850-4dbf-4cb3-e901-68186d829464"
      },
      "source": [
        "describeprofiles='''\n",
        "describe Profiles\n",
        "'''\n",
        "df=pd.read_sql(describeprofiles,con=engine_fb)\n",
        "df"
      ],
      "execution_count": null,
      "outputs": [
        {
          "output_type": "execute_result",
          "data": {
            "text/html": [
              "<div>\n",
              "<style scoped>\n",
              "    .dataframe tbody tr th:only-of-type {\n",
              "        vertical-align: middle;\n",
              "    }\n",
              "\n",
              "    .dataframe tbody tr th {\n",
              "        vertical-align: top;\n",
              "    }\n",
              "\n",
              "    .dataframe thead th {\n",
              "        text-align: right;\n",
              "    }\n",
              "</style>\n",
              "<table border=\"1\" class=\"dataframe\">\n",
              "  <thead>\n",
              "    <tr style=\"text-align: right;\">\n",
              "      <th></th>\n",
              "      <th>Field</th>\n",
              "      <th>Type</th>\n",
              "      <th>Null</th>\n",
              "      <th>Key</th>\n",
              "      <th>Default</th>\n",
              "      <th>Extra</th>\n",
              "    </tr>\n",
              "  </thead>\n",
              "  <tbody>\n",
              "    <tr>\n",
              "      <th>0</th>\n",
              "      <td>ProfileID</td>\n",
              "      <td>int(11)</td>\n",
              "      <td>NO</td>\n",
              "      <td>PRI</td>\n",
              "      <td>None</td>\n",
              "      <td></td>\n",
              "    </tr>\n",
              "    <tr>\n",
              "      <th>1</th>\n",
              "      <td>Name</td>\n",
              "      <td>varchar(255)</td>\n",
              "      <td>YES</td>\n",
              "      <td></td>\n",
              "      <td>None</td>\n",
              "      <td></td>\n",
              "    </tr>\n",
              "    <tr>\n",
              "      <th>2</th>\n",
              "      <td>MemberSince</td>\n",
              "      <td>datetime</td>\n",
              "      <td>YES</td>\n",
              "      <td></td>\n",
              "      <td>None</td>\n",
              "      <td></td>\n",
              "    </tr>\n",
              "    <tr>\n",
              "      <th>3</th>\n",
              "      <td>LastUpdate</td>\n",
              "      <td>datetime</td>\n",
              "      <td>YES</td>\n",
              "      <td></td>\n",
              "      <td>None</td>\n",
              "      <td></td>\n",
              "    </tr>\n",
              "    <tr>\n",
              "      <th>4</th>\n",
              "      <td>School</td>\n",
              "      <td>varchar(255)</td>\n",
              "      <td>YES</td>\n",
              "      <td></td>\n",
              "      <td>None</td>\n",
              "      <td></td>\n",
              "    </tr>\n",
              "    <tr>\n",
              "      <th>5</th>\n",
              "      <td>Status</td>\n",
              "      <td>varchar(255)</td>\n",
              "      <td>YES</td>\n",
              "      <td></td>\n",
              "      <td>None</td>\n",
              "      <td></td>\n",
              "    </tr>\n",
              "    <tr>\n",
              "      <th>6</th>\n",
              "      <td>Sex</td>\n",
              "      <td>varchar(255)</td>\n",
              "      <td>YES</td>\n",
              "      <td></td>\n",
              "      <td>None</td>\n",
              "      <td></td>\n",
              "    </tr>\n",
              "    <tr>\n",
              "      <th>7</th>\n",
              "      <td>Birthday</td>\n",
              "      <td>datetime</td>\n",
              "      <td>YES</td>\n",
              "      <td></td>\n",
              "      <td>None</td>\n",
              "      <td></td>\n",
              "    </tr>\n",
              "    <tr>\n",
              "      <th>8</th>\n",
              "      <td>AIM</td>\n",
              "      <td>varchar(255)</td>\n",
              "      <td>YES</td>\n",
              "      <td></td>\n",
              "      <td>None</td>\n",
              "      <td></td>\n",
              "    </tr>\n",
              "    <tr>\n",
              "      <th>9</th>\n",
              "      <td>Website</td>\n",
              "      <td>varchar(255)</td>\n",
              "      <td>YES</td>\n",
              "      <td></td>\n",
              "      <td>None</td>\n",
              "      <td></td>\n",
              "    </tr>\n",
              "    <tr>\n",
              "      <th>10</th>\n",
              "      <td>PoliticalViews</td>\n",
              "      <td>varchar(255)</td>\n",
              "      <td>YES</td>\n",
              "      <td></td>\n",
              "      <td>None</td>\n",
              "      <td></td>\n",
              "    </tr>\n",
              "    <tr>\n",
              "      <th>11</th>\n",
              "      <td>Geography</td>\n",
              "      <td>varchar(255)</td>\n",
              "      <td>YES</td>\n",
              "      <td></td>\n",
              "      <td>None</td>\n",
              "      <td></td>\n",
              "    </tr>\n",
              "    <tr>\n",
              "      <th>12</th>\n",
              "      <td>HighSchool</td>\n",
              "      <td>varchar(255)</td>\n",
              "      <td>YES</td>\n",
              "      <td></td>\n",
              "      <td>None</td>\n",
              "      <td></td>\n",
              "    </tr>\n",
              "    <tr>\n",
              "      <th>13</th>\n",
              "      <td>HomeTown</td>\n",
              "      <td>varchar(255)</td>\n",
              "      <td>YES</td>\n",
              "      <td></td>\n",
              "      <td>None</td>\n",
              "      <td></td>\n",
              "    </tr>\n",
              "    <tr>\n",
              "      <th>14</th>\n",
              "      <td>HomeState</td>\n",
              "      <td>varchar(255)</td>\n",
              "      <td>YES</td>\n",
              "      <td></td>\n",
              "      <td>None</td>\n",
              "      <td></td>\n",
              "    </tr>\n",
              "    <tr>\n",
              "      <th>15</th>\n",
              "      <td>Residence</td>\n",
              "      <td>varchar(255)</td>\n",
              "      <td>YES</td>\n",
              "      <td></td>\n",
              "      <td>None</td>\n",
              "      <td></td>\n",
              "    </tr>\n",
              "    <tr>\n",
              "      <th>16</th>\n",
              "      <td>CurrentAddress</td>\n",
              "      <td>varchar(255)</td>\n",
              "      <td>YES</td>\n",
              "      <td></td>\n",
              "      <td>None</td>\n",
              "      <td></td>\n",
              "    </tr>\n",
              "    <tr>\n",
              "      <th>17</th>\n",
              "      <td>CurrentTown</td>\n",
              "      <td>varchar(255)</td>\n",
              "      <td>YES</td>\n",
              "      <td></td>\n",
              "      <td>None</td>\n",
              "      <td></td>\n",
              "    </tr>\n",
              "    <tr>\n",
              "      <th>18</th>\n",
              "      <td>CurrentState</td>\n",
              "      <td>varchar(255)</td>\n",
              "      <td>YES</td>\n",
              "      <td></td>\n",
              "      <td>None</td>\n",
              "      <td></td>\n",
              "    </tr>\n",
              "  </tbody>\n",
              "</table>\n",
              "</div>"
            ],
            "text/plain": [
              "             Field          Type Null  Key Default Extra\n",
              "0        ProfileID       int(11)   NO  PRI    None      \n",
              "1             Name  varchar(255)  YES         None      \n",
              "2      MemberSince      datetime  YES         None      \n",
              "3       LastUpdate      datetime  YES         None      \n",
              "4           School  varchar(255)  YES         None      \n",
              "5           Status  varchar(255)  YES         None      \n",
              "6              Sex  varchar(255)  YES         None      \n",
              "7         Birthday      datetime  YES         None      \n",
              "8              AIM  varchar(255)  YES         None      \n",
              "9          Website  varchar(255)  YES         None      \n",
              "10  PoliticalViews  varchar(255)  YES         None      \n",
              "11       Geography  varchar(255)  YES         None      \n",
              "12      HighSchool  varchar(255)  YES         None      \n",
              "13        HomeTown  varchar(255)  YES         None      \n",
              "14       HomeState  varchar(255)  YES         None      \n",
              "15       Residence  varchar(255)  YES         None      \n",
              "16  CurrentAddress  varchar(255)  YES         None      \n",
              "17     CurrentTown  varchar(255)  YES         None      \n",
              "18    CurrentState  varchar(255)  YES         None      "
            ]
          },
          "metadata": {
            "tags": []
          },
          "execution_count": 18
        }
      ]
    },
    {
      "cell_type": "code",
      "metadata": {
        "collapsed": true,
        "id": "0_qR72wQwh3r"
      },
      "source": [
        "polviews_by_gender = '''\n",
        "SELECT Sex, PoliticalViews, COUNT(*) AS cnt \n",
        "FROM Profiles \n",
        "WHERE Sex IS NOT NULL AND PoliticalViews IS NOT NULL \n",
        "GROUP BY Sex, PoliticalViews  \n",
        "ORDER BY  PoliticalViews, Sex\n",
        "'''\n"
      ],
      "execution_count": null,
      "outputs": []
    },
    {
      "cell_type": "markdown",
      "metadata": {
        "id": "sam_5-vvwh3r"
      },
      "source": [
        "And let's get the dataframe:"
      ]
    },
    {
      "cell_type": "code",
      "metadata": {
        "colab": {
          "base_uri": "https://localhost:8080/",
          "height": 551
        },
        "id": "dkSrBP7cwh3s",
        "outputId": "8ba6b222-8e91-47f2-a00b-ad73973548fb"
      },
      "source": [
        "df = pd.read_sql(polviews_by_gender, con=engine_fb)\n",
        "df"
      ],
      "execution_count": null,
      "outputs": [
        {
          "output_type": "execute_result",
          "data": {
            "text/html": [
              "<div>\n",
              "<style scoped>\n",
              "    .dataframe tbody tr th:only-of-type {\n",
              "        vertical-align: middle;\n",
              "    }\n",
              "\n",
              "    .dataframe tbody tr th {\n",
              "        vertical-align: top;\n",
              "    }\n",
              "\n",
              "    .dataframe thead th {\n",
              "        text-align: right;\n",
              "    }\n",
              "</style>\n",
              "<table border=\"1\" class=\"dataframe\">\n",
              "  <thead>\n",
              "    <tr style=\"text-align: right;\">\n",
              "      <th></th>\n",
              "      <th>Sex</th>\n",
              "      <th>PoliticalViews</th>\n",
              "      <th>cnt</th>\n",
              "    </tr>\n",
              "  </thead>\n",
              "  <tbody>\n",
              "    <tr>\n",
              "      <th>0</th>\n",
              "      <td>Female</td>\n",
              "      <td>Apathetic</td>\n",
              "      <td>309</td>\n",
              "    </tr>\n",
              "    <tr>\n",
              "      <th>1</th>\n",
              "      <td>Male</td>\n",
              "      <td>Apathetic</td>\n",
              "      <td>462</td>\n",
              "    </tr>\n",
              "    <tr>\n",
              "      <th>2</th>\n",
              "      <td>Female</td>\n",
              "      <td>Conservative</td>\n",
              "      <td>428</td>\n",
              "    </tr>\n",
              "    <tr>\n",
              "      <th>3</th>\n",
              "      <td>Male</td>\n",
              "      <td>Conservative</td>\n",
              "      <td>474</td>\n",
              "    </tr>\n",
              "    <tr>\n",
              "      <th>4</th>\n",
              "      <td>Female</td>\n",
              "      <td>Liberal</td>\n",
              "      <td>4054</td>\n",
              "    </tr>\n",
              "    <tr>\n",
              "      <th>5</th>\n",
              "      <td>Male</td>\n",
              "      <td>Liberal</td>\n",
              "      <td>2196</td>\n",
              "    </tr>\n",
              "    <tr>\n",
              "      <th>6</th>\n",
              "      <td>Female</td>\n",
              "      <td>Libertarian</td>\n",
              "      <td>113</td>\n",
              "    </tr>\n",
              "    <tr>\n",
              "      <th>7</th>\n",
              "      <td>Male</td>\n",
              "      <td>Libertarian</td>\n",
              "      <td>196</td>\n",
              "    </tr>\n",
              "    <tr>\n",
              "      <th>8</th>\n",
              "      <td>Female</td>\n",
              "      <td>Moderate</td>\n",
              "      <td>1444</td>\n",
              "    </tr>\n",
              "    <tr>\n",
              "      <th>9</th>\n",
              "      <td>Male</td>\n",
              "      <td>Moderate</td>\n",
              "      <td>1379</td>\n",
              "    </tr>\n",
              "    <tr>\n",
              "      <th>10</th>\n",
              "      <td>Female</td>\n",
              "      <td>Other</td>\n",
              "      <td>280</td>\n",
              "    </tr>\n",
              "    <tr>\n",
              "      <th>11</th>\n",
              "      <td>Male</td>\n",
              "      <td>Other</td>\n",
              "      <td>482</td>\n",
              "    </tr>\n",
              "    <tr>\n",
              "      <th>12</th>\n",
              "      <td>Female</td>\n",
              "      <td>Very Conservative</td>\n",
              "      <td>38</td>\n",
              "    </tr>\n",
              "    <tr>\n",
              "      <th>13</th>\n",
              "      <td>Male</td>\n",
              "      <td>Very Conservative</td>\n",
              "      <td>107</td>\n",
              "    </tr>\n",
              "    <tr>\n",
              "      <th>14</th>\n",
              "      <td>Female</td>\n",
              "      <td>Very Liberal</td>\n",
              "      <td>1362</td>\n",
              "    </tr>\n",
              "    <tr>\n",
              "      <th>15</th>\n",
              "      <td>Male</td>\n",
              "      <td>Very Liberal</td>\n",
              "      <td>813</td>\n",
              "    </tr>\n",
              "  </tbody>\n",
              "</table>\n",
              "</div>"
            ],
            "text/plain": [
              "       Sex     PoliticalViews   cnt\n",
              "0   Female          Apathetic   309\n",
              "1     Male          Apathetic   462\n",
              "2   Female       Conservative   428\n",
              "3     Male       Conservative   474\n",
              "4   Female            Liberal  4054\n",
              "5     Male            Liberal  2196\n",
              "6   Female        Libertarian   113\n",
              "7     Male        Libertarian   196\n",
              "8   Female           Moderate  1444\n",
              "9     Male           Moderate  1379\n",
              "10  Female              Other   280\n",
              "11    Male              Other   482\n",
              "12  Female  Very Conservative    38\n",
              "13    Male  Very Conservative   107\n",
              "14  Female       Very Liberal  1362\n",
              "15    Male       Very Liberal   813"
            ]
          },
          "metadata": {
            "tags": []
          },
          "execution_count": 20
        }
      ]
    },
    {
      "cell_type": "code",
      "metadata": {
        "colab": {
          "base_uri": "https://localhost:8080/",
          "height": 290
        },
        "id": "Dx61RExvwh3t",
        "outputId": "dc6f746f-d163-46c7-80ad-593f1711426e"
      },
      "source": [
        "# Let's plot this!\n",
        "# Bleh, this is really fugly...\n",
        "# Remember that the index of the dataframe becomes the default x-axis\n",
        "df.plot(kind='bar')"
      ],
      "execution_count": null,
      "outputs": [
        {
          "output_type": "execute_result",
          "data": {
            "text/plain": [
              "<matplotlib.axes._subplots.AxesSubplot at 0x7feb3cb10c90>"
            ]
          },
          "metadata": {
            "tags": []
          },
          "execution_count": 21
        },
        {
          "output_type": "display_data",
          "data": {
            "image/png": "[encoded data removed]",
            "text/plain": [
              "<Figure size 432x288 with 1 Axes>"
            ]
          },
          "metadata": {
            "tags": [],
            "needs_background": "light"
          }
        }
      ]
    },
    {
      "cell_type": "code",
      "metadata": {
        "colab": {
          "base_uri": "https://localhost:8080/",
          "height": 332
        },
        "id": "lD8r6tVXwh3t",
        "outputId": "e71cfa86-7a0d-4b8d-d6d8-cfa6bd65db58"
      },
      "source": [
        "# Pivot, baby!\n",
        "# Now the index contains the Political Views, which will be our x-axis\n",
        "dfp = df.pivot_table(index='PoliticalViews', columns='Sex', values='cnt')\n",
        "dfp"
      ],
      "execution_count": null,
      "outputs": [
        {
          "output_type": "execute_result",
          "data": {
            "text/html": [
              "<div>\n",
              "<style scoped>\n",
              "    .dataframe tbody tr th:only-of-type {\n",
              "        vertical-align: middle;\n",
              "    }\n",
              "\n",
              "    .dataframe tbody tr th {\n",
              "        vertical-align: top;\n",
              "    }\n",
              "\n",
              "    .dataframe thead th {\n",
              "        text-align: right;\n",
              "    }\n",
              "</style>\n",
              "<table border=\"1\" class=\"dataframe\">\n",
              "  <thead>\n",
              "    <tr style=\"text-align: right;\">\n",
              "      <th>Sex</th>\n",
              "      <th>Female</th>\n",
              "      <th>Male</th>\n",
              "    </tr>\n",
              "    <tr>\n",
              "      <th>PoliticalViews</th>\n",
              "      <th></th>\n",
              "      <th></th>\n",
              "    </tr>\n",
              "  </thead>\n",
              "  <tbody>\n",
              "    <tr>\n",
              "      <th>Apathetic</th>\n",
              "      <td>309</td>\n",
              "      <td>462</td>\n",
              "    </tr>\n",
              "    <tr>\n",
              "      <th>Conservative</th>\n",
              "      <td>428</td>\n",
              "      <td>474</td>\n",
              "    </tr>\n",
              "    <tr>\n",
              "      <th>Liberal</th>\n",
              "      <td>4054</td>\n",
              "      <td>2196</td>\n",
              "    </tr>\n",
              "    <tr>\n",
              "      <th>Libertarian</th>\n",
              "      <td>113</td>\n",
              "      <td>196</td>\n",
              "    </tr>\n",
              "    <tr>\n",
              "      <th>Moderate</th>\n",
              "      <td>1444</td>\n",
              "      <td>1379</td>\n",
              "    </tr>\n",
              "    <tr>\n",
              "      <th>Other</th>\n",
              "      <td>280</td>\n",
              "      <td>482</td>\n",
              "    </tr>\n",
              "    <tr>\n",
              "      <th>Very Conservative</th>\n",
              "      <td>38</td>\n",
              "      <td>107</td>\n",
              "    </tr>\n",
              "    <tr>\n",
              "      <th>Very Liberal</th>\n",
              "      <td>1362</td>\n",
              "      <td>813</td>\n",
              "    </tr>\n",
              "  </tbody>\n",
              "</table>\n",
              "</div>"
            ],
            "text/plain": [
              "Sex                Female  Male\n",
              "PoliticalViews                 \n",
              "Apathetic             309   462\n",
              "Conservative          428   474\n",
              "Liberal              4054  2196\n",
              "Libertarian           113   196\n",
              "Moderate             1444  1379\n",
              "Other                 280   482\n",
              "Very Conservative      38   107\n",
              "Very Liberal         1362   813"
            ]
          },
          "metadata": {
            "tags": []
          },
          "execution_count": 22
        }
      ]
    },
    {
      "cell_type": "code",
      "metadata": {
        "colab": {
          "base_uri": "https://localhost:8080/",
          "height": 399
        },
        "id": "hxFtVY3Fwh3u",
        "outputId": "3483c851-c140-472c-eb13-d7a75b6759d4"
      },
      "source": [
        "dfp.plot(kind='bar')"
      ],
      "execution_count": null,
      "outputs": [
        {
          "output_type": "execute_result",
          "data": {
            "text/plain": [
              "<matplotlib.axes._subplots.AxesSubplot at 0x7feb3ca03790>"
            ]
          },
          "metadata": {
            "tags": []
          },
          "execution_count": 23
        },
        {
          "output_type": "display_data",
          "data": {
            "image/png": "[encoded data removed]",
            "text/plain": [
              "<Figure size 432x288 with 1 Axes>"
            ]
          },
          "metadata": {
            "tags": [],
            "needs_background": "light"
          }
        }
      ]
    },
    {
      "cell_type": "code",
      "metadata": {
        "colab": {
          "base_uri": "https://localhost:8080/",
          "height": 332
        },
        "id": "6HpU98yBwh3x",
        "outputId": "4fdaffa5-c221-4869-c050-da0555ad3ce5"
      },
      "source": [
        "# Let's normalize the columns, as we have more females than males, and it seems that there are always more women\n",
        "dfp = dfp / dfp.sum()\n",
        "dfp"
      ],
      "execution_count": null,
      "outputs": [
        {
          "output_type": "execute_result",
          "data": {
            "text/html": [
              "<div>\n",
              "<style scoped>\n",
              "    .dataframe tbody tr th:only-of-type {\n",
              "        vertical-align: middle;\n",
              "    }\n",
              "\n",
              "    .dataframe tbody tr th {\n",
              "        vertical-align: top;\n",
              "    }\n",
              "\n",
              "    .dataframe thead th {\n",
              "        text-align: right;\n",
              "    }\n",
              "</style>\n",
              "<table border=\"1\" class=\"dataframe\">\n",
              "  <thead>\n",
              "    <tr style=\"text-align: right;\">\n",
              "      <th>Sex</th>\n",
              "      <th>Female</th>\n",
              "      <th>Male</th>\n",
              "    </tr>\n",
              "    <tr>\n",
              "      <th>PoliticalViews</th>\n",
              "      <th></th>\n",
              "      <th></th>\n",
              "    </tr>\n",
              "  </thead>\n",
              "  <tbody>\n",
              "    <tr>\n",
              "      <th>Apathetic</th>\n",
              "      <td>0.038490</td>\n",
              "      <td>0.075626</td>\n",
              "    </tr>\n",
              "    <tr>\n",
              "      <th>Conservative</th>\n",
              "      <td>0.053313</td>\n",
              "      <td>0.077590</td>\n",
              "    </tr>\n",
              "    <tr>\n",
              "      <th>Liberal</th>\n",
              "      <td>0.504983</td>\n",
              "      <td>0.359470</td>\n",
              "    </tr>\n",
              "    <tr>\n",
              "      <th>Libertarian</th>\n",
              "      <td>0.014076</td>\n",
              "      <td>0.032084</td>\n",
              "    </tr>\n",
              "    <tr>\n",
              "      <th>Moderate</th>\n",
              "      <td>0.179870</td>\n",
              "      <td>0.225733</td>\n",
              "    </tr>\n",
              "    <tr>\n",
              "      <th>Other</th>\n",
              "      <td>0.034878</td>\n",
              "      <td>0.078900</td>\n",
              "    </tr>\n",
              "    <tr>\n",
              "      <th>Very Conservative</th>\n",
              "      <td>0.004733</td>\n",
              "      <td>0.017515</td>\n",
              "    </tr>\n",
              "    <tr>\n",
              "      <th>Very Liberal</th>\n",
              "      <td>0.169656</td>\n",
              "      <td>0.133082</td>\n",
              "    </tr>\n",
              "  </tbody>\n",
              "</table>\n",
              "</div>"
            ],
            "text/plain": [
              "Sex                  Female      Male\n",
              "PoliticalViews                       \n",
              "Apathetic          0.038490  0.075626\n",
              "Conservative       0.053313  0.077590\n",
              "Liberal            0.504983  0.359470\n",
              "Libertarian        0.014076  0.032084\n",
              "Moderate           0.179870  0.225733\n",
              "Other              0.034878  0.078900\n",
              "Very Conservative  0.004733  0.017515\n",
              "Very Liberal       0.169656  0.133082"
            ]
          },
          "metadata": {
            "tags": []
          },
          "execution_count": 24
        }
      ]
    },
    {
      "cell_type": "code",
      "metadata": {
        "colab": {
          "base_uri": "https://localhost:8080/",
          "height": 399
        },
        "collapsed": true,
        "id": "2n8e5pxCwh3y",
        "outputId": "13b4af55-1df9-4155-c4a5-3c075a9a27cd"
      },
      "source": [
        "dfp.plot(kind='bar')"
      ],
      "execution_count": null,
      "outputs": [
        {
          "output_type": "execute_result",
          "data": {
            "text/plain": [
              "<matplotlib.axes._subplots.AxesSubplot at 0x7feb3c6f30d0>"
            ]
          },
          "metadata": {
            "tags": []
          },
          "execution_count": 25
        },
        {
          "output_type": "display_data",
          "data": {
            "image/png": "[encoded data removed]",
            "text/plain": [
              "<Figure size 432x288 with 1 Axes>"
            ]
          },
          "metadata": {
            "tags": [],
            "needs_background": "light"
          }
        }
      ]
    },
    {
      "cell_type": "code",
      "metadata": {
        "colab": {
          "base_uri": "https://localhost:8080/",
          "height": 332
        },
        "id": "60njn1hxwh3y",
        "outputId": "f5af8470-7c23-4eaa-abbd-286760868bae"
      },
      "source": [
        "# OK, now let's try to re-order the list of results according to the logical structure\n",
        "neworder = ['Very Liberal', 'Liberal', 'Moderate', 'Conservative', 'Very Conservative', 'Libertarian', 'Apathetic', 'Other']\n",
        "newindex = sorted(dfp.index, key=lambda x: neworder.index(x))\n",
        "dfp = dfp.reindex(newindex)\n",
        "dfp"
      ],
      "execution_count": null,
      "outputs": [
        {
          "output_type": "execute_result",
          "data": {
            "text/html": [
              "<div>\n",
              "<style scoped>\n",
              "    .dataframe tbody tr th:only-of-type {\n",
              "        vertical-align: middle;\n",
              "    }\n",
              "\n",
              "    .dataframe tbody tr th {\n",
              "        vertical-align: top;\n",
              "    }\n",
              "\n",
              "    .dataframe thead th {\n",
              "        text-align: right;\n",
              "    }\n",
              "</style>\n",
              "<table border=\"1\" class=\"dataframe\">\n",
              "  <thead>\n",
              "    <tr style=\"text-align: right;\">\n",
              "      <th>Sex</th>\n",
              "      <th>Female</th>\n",
              "      <th>Male</th>\n",
              "    </tr>\n",
              "    <tr>\n",
              "      <th>PoliticalViews</th>\n",
              "      <th></th>\n",
              "      <th></th>\n",
              "    </tr>\n",
              "  </thead>\n",
              "  <tbody>\n",
              "    <tr>\n",
              "      <th>Very Liberal</th>\n",
              "      <td>0.169656</td>\n",
              "      <td>0.133082</td>\n",
              "    </tr>\n",
              "    <tr>\n",
              "      <th>Liberal</th>\n",
              "      <td>0.504983</td>\n",
              "      <td>0.359470</td>\n",
              "    </tr>\n",
              "    <tr>\n",
              "      <th>Moderate</th>\n",
              "      <td>0.179870</td>\n",
              "      <td>0.225733</td>\n",
              "    </tr>\n",
              "    <tr>\n",
              "      <th>Conservative</th>\n",
              "      <td>0.053313</td>\n",
              "      <td>0.077590</td>\n",
              "    </tr>\n",
              "    <tr>\n",
              "      <th>Very Conservative</th>\n",
              "      <td>0.004733</td>\n",
              "      <td>0.017515</td>\n",
              "    </tr>\n",
              "    <tr>\n",
              "      <th>Libertarian</th>\n",
              "      <td>0.014076</td>\n",
              "      <td>0.032084</td>\n",
              "    </tr>\n",
              "    <tr>\n",
              "      <th>Apathetic</th>\n",
              "      <td>0.038490</td>\n",
              "      <td>0.075626</td>\n",
              "    </tr>\n",
              "    <tr>\n",
              "      <th>Other</th>\n",
              "      <td>0.034878</td>\n",
              "      <td>0.078900</td>\n",
              "    </tr>\n",
              "  </tbody>\n",
              "</table>\n",
              "</div>"
            ],
            "text/plain": [
              "Sex                  Female      Male\n",
              "PoliticalViews                       \n",
              "Very Liberal       0.169656  0.133082\n",
              "Liberal            0.504983  0.359470\n",
              "Moderate           0.179870  0.225733\n",
              "Conservative       0.053313  0.077590\n",
              "Very Conservative  0.004733  0.017515\n",
              "Libertarian        0.014076  0.032084\n",
              "Apathetic          0.038490  0.075626\n",
              "Other              0.034878  0.078900"
            ]
          },
          "metadata": {
            "tags": []
          },
          "execution_count": 26
        }
      ]
    },
    {
      "cell_type": "code",
      "metadata": {
        "colab": {
          "base_uri": "https://localhost:8080/",
          "height": 399
        },
        "id": "bBjsCxICwh3z",
        "outputId": "6527da65-f73d-4797-87aa-0e0a7fb6903a"
      },
      "source": [
        "dfp.plot(kind='bar')"
      ],
      "execution_count": null,
      "outputs": [
        {
          "output_type": "execute_result",
          "data": {
            "text/plain": [
              "<matplotlib.axes._subplots.AxesSubplot at 0x7feb3c612e50>"
            ]
          },
          "metadata": {
            "tags": []
          },
          "execution_count": 27
        },
        {
          "output_type": "display_data",
          "data": {
            "image/png": "[encoded data removed]",
            "text/plain": [
              "<Figure size 432x288 with 1 Axes>"
            ]
          },
          "metadata": {
            "tags": [],
            "needs_background": "light"
          }
        }
      ]
    },
    {
      "cell_type": "markdown",
      "metadata": {
        "id": "Iwzv-Y_Dwh3z"
      },
      "source": [
        "### Facebook, Favorite Books, and Political views"
      ]
    },
    {
      "cell_type": "code",
      "metadata": {
        "collapsed": true,
        "id": "ejxeFMm-wh3z"
      },
      "source": [
        "books = '''\n",
        "SELECT F.FavoriteBook, P.PoliticalViews, COUNT(*) AS cnt \n",
        "FROM Profiles P JOIN FavoriteBooks F ON F.ProfileID = P.ProfileId  \n",
        "WHERE PoliticalViews IS NOT NULL AND F.FavoriteBook IS NOT NULL \n",
        "      AND (PoliticalViews = 'Liberal' OR PoliticalViews = 'Conservative')\n",
        "GROUP BY F.FavoriteBook, P.PoliticalViews\n",
        "'''"
      ],
      "execution_count": null,
      "outputs": []
    },
    {
      "cell_type": "markdown",
      "metadata": {
        "id": "hWizrvqqCiSK"
      },
      "source": [
        "books = '''\n",
        "SELECT F.FavoriteBook, P.PoliticalViews, COUNT(*) AS cnt \n",
        "FROM Profiles P JOIN FavoriteBooks F ON F.ProfileID = P.ProfileId  \n",
        "WHERE PoliticalViews IS NOT NULL AND F.FavoriteBook IS NOT NULL \n",
        "      AND (PoliticalViews = 'Liberal' OR PoliticalViews = 'Conservative')\n",
        "GROUP BY F.FavoriteBook, P.PoliticalViews\n",
        "''' ---> **This doesn't seem to work on my end**"
      ]
    },
    {
      "cell_type": "code",
      "metadata": {
        "colab": {
          "base_uri": "https://localhost:8080/",
          "height": 112
        },
        "id": "gfUjfwNx6U6B",
        "outputId": "d7200ba3-4845-4ceb-d037-d22b8c3dcc6c"
      },
      "source": [
        "describebooks='''\n",
        "describe FavoriteBooks\n",
        "'''\n",
        "df1=pd.read_sql(describebooks,con=engine_fb)\n",
        "df1"
      ],
      "execution_count": null,
      "outputs": [
        {
          "output_type": "execute_result",
          "data": {
            "text/html": [
              "<div>\n",
              "<style scoped>\n",
              "    .dataframe tbody tr th:only-of-type {\n",
              "        vertical-align: middle;\n",
              "    }\n",
              "\n",
              "    .dataframe tbody tr th {\n",
              "        vertical-align: top;\n",
              "    }\n",
              "\n",
              "    .dataframe thead th {\n",
              "        text-align: right;\n",
              "    }\n",
              "</style>\n",
              "<table border=\"1\" class=\"dataframe\">\n",
              "  <thead>\n",
              "    <tr style=\"text-align: right;\">\n",
              "      <th></th>\n",
              "      <th>Field</th>\n",
              "      <th>Type</th>\n",
              "      <th>Null</th>\n",
              "      <th>Key</th>\n",
              "      <th>Default</th>\n",
              "      <th>Extra</th>\n",
              "    </tr>\n",
              "  </thead>\n",
              "  <tbody>\n",
              "    <tr>\n",
              "      <th>0</th>\n",
              "      <td>ProfileID</td>\n",
              "      <td>int(11)</td>\n",
              "      <td>NO</td>\n",
              "      <td>MUL</td>\n",
              "      <td>None</td>\n",
              "      <td></td>\n",
              "    </tr>\n",
              "    <tr>\n",
              "      <th>1</th>\n",
              "      <td>Book</td>\n",
              "      <td>varchar(255)</td>\n",
              "      <td>YES</td>\n",
              "      <td></td>\n",
              "      <td>None</td>\n",
              "      <td></td>\n",
              "    </tr>\n",
              "  </tbody>\n",
              "</table>\n",
              "</div>"
            ],
            "text/plain": [
              "       Field          Type Null  Key Default Extra\n",
              "0  ProfileID       int(11)   NO  MUL    None      \n",
              "1       Book  varchar(255)  YES         None      "
            ]
          },
          "metadata": {
            "tags": []
          },
          "execution_count": 29
        }
      ]
    },
    {
      "cell_type": "code",
      "metadata": {
        "colab": {
          "base_uri": "https://localhost:8080/",
          "height": 363
        },
        "id": "deCP6vcV8bEM",
        "outputId": "1f94953b-6da0-478a-bbd3-cd2718203f7a"
      },
      "source": [
        "showtable='''\n",
        "show tables\n",
        "'''\n",
        "df2=pd.read_sql(showtable,con=engine_fb)\n",
        "df2"
      ],
      "execution_count": null,
      "outputs": [
        {
          "output_type": "execute_result",
          "data": {
            "text/html": [
              "<div>\n",
              "<style scoped>\n",
              "    .dataframe tbody tr th:only-of-type {\n",
              "        vertical-align: middle;\n",
              "    }\n",
              "\n",
              "    .dataframe tbody tr th {\n",
              "        vertical-align: top;\n",
              "    }\n",
              "\n",
              "    .dataframe thead th {\n",
              "        text-align: right;\n",
              "    }\n",
              "</style>\n",
              "<table border=\"1\" class=\"dataframe\">\n",
              "  <thead>\n",
              "    <tr style=\"text-align: right;\">\n",
              "      <th></th>\n",
              "      <th>Tables_in_facebook</th>\n",
              "    </tr>\n",
              "  </thead>\n",
              "  <tbody>\n",
              "    <tr>\n",
              "      <th>0</th>\n",
              "      <td>Concentration</td>\n",
              "    </tr>\n",
              "    <tr>\n",
              "      <th>1</th>\n",
              "      <td>FavoriteBooks</td>\n",
              "    </tr>\n",
              "    <tr>\n",
              "      <th>2</th>\n",
              "      <td>FavoriteMovies</td>\n",
              "    </tr>\n",
              "    <tr>\n",
              "      <th>3</th>\n",
              "      <td>FavoriteMusic</td>\n",
              "    </tr>\n",
              "    <tr>\n",
              "      <th>4</th>\n",
              "      <td>FavoriteTVShows</td>\n",
              "    </tr>\n",
              "    <tr>\n",
              "      <th>5</th>\n",
              "      <td>Hobbies</td>\n",
              "    </tr>\n",
              "    <tr>\n",
              "      <th>6</th>\n",
              "      <td>LookingFor</td>\n",
              "    </tr>\n",
              "    <tr>\n",
              "      <th>7</th>\n",
              "      <td>Orientation</td>\n",
              "    </tr>\n",
              "    <tr>\n",
              "      <th>8</th>\n",
              "      <td>Profiles</td>\n",
              "    </tr>\n",
              "    <tr>\n",
              "      <th>9</th>\n",
              "      <td>Relationship</td>\n",
              "    </tr>\n",
              "  </tbody>\n",
              "</table>\n",
              "</div>"
            ],
            "text/plain": [
              "  Tables_in_facebook\n",
              "0      Concentration\n",
              "1      FavoriteBooks\n",
              "2     FavoriteMovies\n",
              "3      FavoriteMusic\n",
              "4    FavoriteTVShows\n",
              "5            Hobbies\n",
              "6         LookingFor\n",
              "7        Orientation\n",
              "8           Profiles\n",
              "9       Relationship"
            ]
          },
          "metadata": {
            "tags": []
          },
          "execution_count": 30
        }
      ]
    },
    {
      "cell_type": "markdown",
      "metadata": {
        "id": "XfZI6QkDCgvu"
      },
      "source": [
        ""
      ]
    },
    {
      "cell_type": "code",
      "metadata": {
        "id": "y3_ckfdI4_pi"
      },
      "source": [
        "books = '''\n",
        "SELECT Book, PoliticalViews, COUNT(*) AS cnt \n",
        "FROM Profiles P JOIN FavoriteBooks F ON F.ProfileID = P.ProfileId  \n",
        "WHERE PoliticalViews IS NOT NULL AND Book IS NOT NULL \n",
        "      AND (PoliticalViews = 'Liberal' OR PoliticalViews = 'Conservative')\n",
        "GROUP BY Book, PoliticalViews\n",
        "'''"
      ],
      "execution_count": null,
      "outputs": []
    },
    {
      "cell_type": "markdown",
      "metadata": {
        "id": "GWRQxpKNBbaJ"
      },
      "source": [
        "books = '''\n",
        "SELECT Book\n",
        "FROM FavoriteBooks\n",
        "WHERE Book IS NOT NULL\n",
        "ORDER BY Book\n",
        "'''"
      ]
    },
    {
      "cell_type": "markdown",
      "metadata": {
        "id": "HwL1lNBjBVW6"
      },
      "source": [
        "books = '''\n",
        "SELECT PoliticalViews, COUNT(*) AS cnt\n",
        "FROM Profiles \n",
        "WHERE PoliticalViews IS NOT NULL\n",
        "GROUP BY PoliticalViews\n",
        "'''"
      ]
    },
    {
      "cell_type": "code",
      "metadata": {
        "colab": {
          "base_uri": "https://localhost:8080/",
          "height": 424
        },
        "id": "ezRHGDXzwh30",
        "outputId": "609febb8-71f2-4f2c-db8d-39e53791b191"
      },
      "source": [
        "df_books = pd.read_sql(books, con=engine_fb)\n",
        "df_books.head(1000)"
      ],
      "execution_count": null,
      "outputs": [
        {
          "output_type": "execute_result",
          "data": {
            "text/html": [
              "<div>\n",
              "<style scoped>\n",
              "    .dataframe tbody tr th:only-of-type {\n",
              "        vertical-align: middle;\n",
              "    }\n",
              "\n",
              "    .dataframe tbody tr th {\n",
              "        vertical-align: top;\n",
              "    }\n",
              "\n",
              "    .dataframe thead th {\n",
              "        text-align: right;\n",
              "    }\n",
              "</style>\n",
              "<table border=\"1\" class=\"dataframe\">\n",
              "  <thead>\n",
              "    <tr style=\"text-align: right;\">\n",
              "      <th></th>\n",
              "      <th>Book</th>\n",
              "      <th>PoliticalViews</th>\n",
              "      <th>cnt</th>\n",
              "    </tr>\n",
              "  </thead>\n",
              "  <tbody>\n",
              "    <tr>\n",
              "      <th>0</th>\n",
              "      <td>Mansfield Park</td>\n",
              "      <td>Conservative</td>\n",
              "      <td>2</td>\n",
              "    </tr>\n",
              "    <tr>\n",
              "      <th>1</th>\n",
              "      <td>Memoirs Of A Geisha</td>\n",
              "      <td>Conservative</td>\n",
              "      <td>17</td>\n",
              "    </tr>\n",
              "    <tr>\n",
              "      <th>2</th>\n",
              "      <td>Harry Potter All</td>\n",
              "      <td>Conservative</td>\n",
              "      <td>1</td>\n",
              "    </tr>\n",
              "    <tr>\n",
              "      <th>3</th>\n",
              "      <td>A Gesture Life</td>\n",
              "      <td>Conservative</td>\n",
              "      <td>1</td>\n",
              "    </tr>\n",
              "    <tr>\n",
              "      <th>4</th>\n",
              "      <td>Queen Of Camelot</td>\n",
              "      <td>Conservative</td>\n",
              "      <td>1</td>\n",
              "    </tr>\n",
              "    <tr>\n",
              "      <th>...</th>\n",
              "      <td>...</td>\n",
              "      <td>...</td>\n",
              "      <td>...</td>\n",
              "    </tr>\n",
              "    <tr>\n",
              "      <th>995</th>\n",
              "      <td>Candide</td>\n",
              "      <td>Conservative</td>\n",
              "      <td>5</td>\n",
              "    </tr>\n",
              "    <tr>\n",
              "      <th>996</th>\n",
              "      <td>The Da Vinci Code</td>\n",
              "      <td>Conservative</td>\n",
              "      <td>17</td>\n",
              "    </tr>\n",
              "    <tr>\n",
              "      <th>997</th>\n",
              "      <td>Spider Man</td>\n",
              "      <td>Liberal</td>\n",
              "      <td>1</td>\n",
              "    </tr>\n",
              "    <tr>\n",
              "      <th>998</th>\n",
              "      <td>Powers</td>\n",
              "      <td>Liberal</td>\n",
              "      <td>1</td>\n",
              "    </tr>\n",
              "    <tr>\n",
              "      <th>999</th>\n",
              "      <td>Daredevil</td>\n",
              "      <td>Liberal</td>\n",
              "      <td>1</td>\n",
              "    </tr>\n",
              "  </tbody>\n",
              "</table>\n",
              "<p>1000 rows × 3 columns</p>\n",
              "</div>"
            ],
            "text/plain": [
              "                    Book PoliticalViews  cnt\n",
              "0         Mansfield Park   Conservative    2\n",
              "1    Memoirs Of A Geisha   Conservative   17\n",
              "2       Harry Potter All   Conservative    1\n",
              "3         A Gesture Life   Conservative    1\n",
              "4       Queen Of Camelot   Conservative    1\n",
              "..                   ...            ...  ...\n",
              "995              Candide   Conservative    5\n",
              "996    The Da Vinci Code   Conservative   17\n",
              "997           Spider Man        Liberal    1\n",
              "998               Powers        Liberal    1\n",
              "999            Daredevil        Liberal    1\n",
              "\n",
              "[1000 rows x 3 columns]"
            ]
          },
          "metadata": {
            "tags": []
          },
          "execution_count": 32
        }
      ]
    },
    {
      "cell_type": "code",
      "metadata": {
        "colab": {
          "base_uri": "https://localhost:8080/",
          "height": 395
        },
        "id": "0v_ASZK1wh30",
        "outputId": "f81c9f5c-3b15-42ee-b5c8-013af603770a"
      },
      "source": [
        "dfp = df_books.pivot_table(index='Book', columns='PoliticalViews', values='cnt')\n",
        "dfp.head(10)"
      ],
      "execution_count": null,
      "outputs": [
        {
          "output_type": "execute_result",
          "data": {
            "text/html": [
              "<div>\n",
              "<style scoped>\n",
              "    .dataframe tbody tr th:only-of-type {\n",
              "        vertical-align: middle;\n",
              "    }\n",
              "\n",
              "    .dataframe tbody tr th {\n",
              "        vertical-align: top;\n",
              "    }\n",
              "\n",
              "    .dataframe thead th {\n",
              "        text-align: right;\n",
              "    }\n",
              "</style>\n",
              "<table border=\"1\" class=\"dataframe\">\n",
              "  <thead>\n",
              "    <tr style=\"text-align: right;\">\n",
              "      <th>PoliticalViews</th>\n",
              "      <th>Conservative</th>\n",
              "      <th>Liberal</th>\n",
              "    </tr>\n",
              "    <tr>\n",
              "      <th>Book</th>\n",
              "      <th></th>\n",
              "      <th></th>\n",
              "    </tr>\n",
              "  </thead>\n",
              "  <tbody>\n",
              "    <tr>\n",
              "      <th>000 In College Loans And A Meaningless Diploma Quot</th>\n",
              "      <td>NaN</td>\n",
              "      <td>1.0</td>\n",
              "    </tr>\n",
              "    <tr>\n",
              "      <th>000 Leagues Under The Sea</th>\n",
              "      <td>NaN</td>\n",
              "      <td>2.0</td>\n",
              "    </tr>\n",
              "    <tr>\n",
              "      <th>000 Things To Be Happy About</th>\n",
              "      <td>NaN</td>\n",
              "      <td>1.0</td>\n",
              "    </tr>\n",
              "    <tr>\n",
              "      <th>1</th>\n",
              "      <td>NaN</td>\n",
              "      <td>1.0</td>\n",
              "    </tr>\n",
              "    <tr>\n",
              "      <th>1 Bachelorette</th>\n",
              "      <td>NaN</td>\n",
              "      <td>1.0</td>\n",
              "    </tr>\n",
              "    <tr>\n",
              "      <th>10 Otherland 11 Wheel Of Time Series Ummm There Are More</th>\n",
              "      <td>NaN</td>\n",
              "      <td>1.0</td>\n",
              "    </tr>\n",
              "    <tr>\n",
              "      <th>10 Thousand Sorrows</th>\n",
              "      <td>NaN</td>\n",
              "      <td>1.0</td>\n",
              "    </tr>\n",
              "    <tr>\n",
              "      <th>100 Anos De Soledad</th>\n",
              "      <td>NaN</td>\n",
              "      <td>1.0</td>\n",
              "    </tr>\n",
              "    <tr>\n",
              "      <th>100 People Who Are Screwing Up America</th>\n",
              "      <td>1.0</td>\n",
              "      <td>NaN</td>\n",
              "    </tr>\n",
              "    <tr>\n",
              "      <th>100 Strokes Of The Brush Before Bed</th>\n",
              "      <td>1.0</td>\n",
              "      <td>2.0</td>\n",
              "    </tr>\n",
              "  </tbody>\n",
              "</table>\n",
              "</div>"
            ],
            "text/plain": [
              "PoliticalViews                                      Conservative  Liberal\n",
              "Book                                                                     \n",
              "000 In College Loans And A Meaningless Diploma ...           NaN      1.0\n",
              "000 Leagues Under The Sea                                    NaN      2.0\n",
              "000 Things To Be Happy About                                 NaN      1.0\n",
              "1                                                            NaN      1.0\n",
              "1 Bachelorette                                               NaN      1.0\n",
              "10 Otherland 11 Wheel Of Time Series Ummm There...           NaN      1.0\n",
              "10 Thousand Sorrows                                          NaN      1.0\n",
              "100 Anos De Soledad                                          NaN      1.0\n",
              "100 People Who Are Screwing Up America                       1.0      NaN\n",
              "100 Strokes Of The Brush Before Bed                          1.0      2.0"
            ]
          },
          "metadata": {
            "tags": []
          },
          "execution_count": 33
        }
      ]
    },
    {
      "cell_type": "code",
      "metadata": {
        "colab": {
          "base_uri": "https://localhost:8080/"
        },
        "collapsed": true,
        "id": "QJecNZ0Gwh31",
        "outputId": "214a373a-a1d3-4cb6-9896-8882c6392922"
      },
      "source": [
        "# If we compute the sums, we will see that we have very different \n",
        "# number of likes per political view, due to imbalance in the population\n",
        "dfp.sum()"
      ],
      "execution_count": null,
      "outputs": [
        {
          "output_type": "execute_result",
          "data": {
            "text/plain": [
              "PoliticalViews\n",
              "Conservative     3318.0\n",
              "Liberal         31253.0\n",
              "dtype: float64"
            ]
          },
          "metadata": {
            "tags": []
          },
          "execution_count": 34
        }
      ]
    },
    {
      "cell_type": "code",
      "metadata": {
        "colab": {
          "base_uri": "https://localhost:8080/",
          "height": 708
        },
        "collapsed": true,
        "id": "N1p8KLPfwh31",
        "outputId": "83d9fb6a-b94e-4e03-8062-0247afd1d6d5"
      },
      "source": [
        "# Normalize the values, so that each column sums up to 1.0\n",
        "dfp = dfp / dfp.sum()\n",
        "dfp.head(20)"
      ],
      "execution_count": null,
      "outputs": [
        {
          "output_type": "execute_result",
          "data": {
            "text/html": [
              "<div>\n",
              "<style scoped>\n",
              "    .dataframe tbody tr th:only-of-type {\n",
              "        vertical-align: middle;\n",
              "    }\n",
              "\n",
              "    .dataframe tbody tr th {\n",
              "        vertical-align: top;\n",
              "    }\n",
              "\n",
              "    .dataframe thead th {\n",
              "        text-align: right;\n",
              "    }\n",
              "</style>\n",
              "<table border=\"1\" class=\"dataframe\">\n",
              "  <thead>\n",
              "    <tr style=\"text-align: right;\">\n",
              "      <th>PoliticalViews</th>\n",
              "      <th>Conservative</th>\n",
              "      <th>Liberal</th>\n",
              "    </tr>\n",
              "    <tr>\n",
              "      <th>Book</th>\n",
              "      <th></th>\n",
              "      <th></th>\n",
              "    </tr>\n",
              "  </thead>\n",
              "  <tbody>\n",
              "    <tr>\n",
              "      <th>000 In College Loans And A Meaningless Diploma Quot</th>\n",
              "      <td>NaN</td>\n",
              "      <td>0.000032</td>\n",
              "    </tr>\n",
              "    <tr>\n",
              "      <th>000 Leagues Under The Sea</th>\n",
              "      <td>NaN</td>\n",
              "      <td>0.000064</td>\n",
              "    </tr>\n",
              "    <tr>\n",
              "      <th>000 Things To Be Happy About</th>\n",
              "      <td>NaN</td>\n",
              "      <td>0.000032</td>\n",
              "    </tr>\n",
              "    <tr>\n",
              "      <th>1</th>\n",
              "      <td>NaN</td>\n",
              "      <td>0.000032</td>\n",
              "    </tr>\n",
              "    <tr>\n",
              "      <th>1 Bachelorette</th>\n",
              "      <td>NaN</td>\n",
              "      <td>0.000032</td>\n",
              "    </tr>\n",
              "    <tr>\n",
              "      <th>10 Otherland 11 Wheel Of Time Series Ummm There Are More</th>\n",
              "      <td>NaN</td>\n",
              "      <td>0.000032</td>\n",
              "    </tr>\n",
              "    <tr>\n",
              "      <th>10 Thousand Sorrows</th>\n",
              "      <td>NaN</td>\n",
              "      <td>0.000032</td>\n",
              "    </tr>\n",
              "    <tr>\n",
              "      <th>100 Anos De Soledad</th>\n",
              "      <td>NaN</td>\n",
              "      <td>0.000032</td>\n",
              "    </tr>\n",
              "    <tr>\n",
              "      <th>100 People Who Are Screwing Up America</th>\n",
              "      <td>0.000301</td>\n",
              "      <td>NaN</td>\n",
              "    </tr>\n",
              "    <tr>\n",
              "      <th>100 Strokes Of The Brush Before Bed</th>\n",
              "      <td>0.000301</td>\n",
              "      <td>0.000064</td>\n",
              "    </tr>\n",
              "    <tr>\n",
              "      <th>100 Years Of Solitude</th>\n",
              "      <td>0.000904</td>\n",
              "      <td>0.001760</td>\n",
              "    </tr>\n",
              "    <tr>\n",
              "      <th>100 Years Of Solitude And Anything Garcia Marquez</th>\n",
              "      <td>NaN</td>\n",
              "      <td>0.000032</td>\n",
              "    </tr>\n",
              "    <tr>\n",
              "      <th>100 Years Of Solitude Anything By Hemingway</th>\n",
              "      <td>NaN</td>\n",
              "      <td>0.000032</td>\n",
              "    </tr>\n",
              "    <tr>\n",
              "      <th>100 Years Of Solitude By Marquez</th>\n",
              "      <td>NaN</td>\n",
              "      <td>0.000032</td>\n",
              "    </tr>\n",
              "    <tr>\n",
              "      <th>100 Years Of Solitude Especially When Remedios The Beauty Is Lifted Into The Air While Drying Her Sheets</th>\n",
              "      <td>NaN</td>\n",
              "      <td>0.000032</td>\n",
              "    </tr>\n",
              "    <tr>\n",
              "      <th>100 Years Of Solitude For Now</th>\n",
              "      <td>NaN</td>\n",
              "      <td>0.000032</td>\n",
              "    </tr>\n",
              "    <tr>\n",
              "      <th>100 Years Of Solitude Garcia Marquez</th>\n",
              "      <td>NaN</td>\n",
              "      <td>0.000032</td>\n",
              "    </tr>\n",
              "    <tr>\n",
              "      <th>100 Years Of Solitutde</th>\n",
              "      <td>NaN</td>\n",
              "      <td>0.000032</td>\n",
              "    </tr>\n",
              "    <tr>\n",
              "      <th>100 Yrs Of Solitude</th>\n",
              "      <td>NaN</td>\n",
              "      <td>0.000032</td>\n",
              "    </tr>\n",
              "    <tr>\n",
              "      <th>1000 Crossword Puzzles</th>\n",
              "      <td>0.000301</td>\n",
              "      <td>NaN</td>\n",
              "    </tr>\n",
              "  </tbody>\n",
              "</table>\n",
              "</div>"
            ],
            "text/plain": [
              "PoliticalViews                                      Conservative   Liberal\n",
              "Book                                                                      \n",
              "000 In College Loans And A Meaningless Diploma ...           NaN  0.000032\n",
              "000 Leagues Under The Sea                                    NaN  0.000064\n",
              "000 Things To Be Happy About                                 NaN  0.000032\n",
              "1                                                            NaN  0.000032\n",
              "1 Bachelorette                                               NaN  0.000032\n",
              "10 Otherland 11 Wheel Of Time Series Ummm There...           NaN  0.000032\n",
              "10 Thousand Sorrows                                          NaN  0.000032\n",
              "100 Anos De Soledad                                          NaN  0.000032\n",
              "100 People Who Are Screwing Up America                  0.000301       NaN\n",
              "100 Strokes Of The Brush Before Bed                     0.000301  0.000064\n",
              "100 Years Of Solitude                                   0.000904  0.001760\n",
              "100 Years Of Solitude And Anything Garcia Marquez            NaN  0.000032\n",
              "100 Years Of Solitude Anything By Hemingway                  NaN  0.000032\n",
              "100 Years Of Solitude By Marquez                             NaN  0.000032\n",
              "100 Years Of Solitude Especially When Remedios ...           NaN  0.000032\n",
              "100 Years Of Solitude For Now                                NaN  0.000032\n",
              "100 Years Of Solitude Garcia Marquez                         NaN  0.000032\n",
              "100 Years Of Solitutde                                       NaN  0.000032\n",
              "100 Yrs Of Solitude                                          NaN  0.000032\n",
              "1000 Crossword Puzzles                                  0.000301       NaN"
            ]
          },
          "metadata": {
            "tags": []
          },
          "execution_count": 35
        }
      ]
    },
    {
      "cell_type": "code",
      "metadata": {
        "collapsed": true,
        "id": "HV5TqNqwwh31"
      },
      "source": [
        "dfp[\"Liberal_To_Conservative\"] = dfp[\"Liberal\"]  / dfp[\"Conservative\"] \n",
        "dfp[\"Conservative_To_Liberal\"] = dfp[\"Conservative\"]  / dfp[\"Liberal\"] "
      ],
      "execution_count": null,
      "outputs": []
    },
    {
      "cell_type": "code",
      "metadata": {
        "colab": {
          "base_uri": "https://localhost:8080/",
          "height": 395
        },
        "collapsed": true,
        "id": "XnVw1buHwh31",
        "outputId": "38a32149-a263-471a-9b66-c5bcdce1f851"
      },
      "source": [
        "liberal_books = dfp[[\"Liberal_To_Conservative\"]].sort_values(\"Liberal_To_Conservative\", ascending=False).head(10)\n",
        "liberal_books"
      ],
      "execution_count": null,
      "outputs": [
        {
          "output_type": "execute_result",
          "data": {
            "text/html": [
              "<div>\n",
              "<style scoped>\n",
              "    .dataframe tbody tr th:only-of-type {\n",
              "        vertical-align: middle;\n",
              "    }\n",
              "\n",
              "    .dataframe tbody tr th {\n",
              "        vertical-align: top;\n",
              "    }\n",
              "\n",
              "    .dataframe thead th {\n",
              "        text-align: right;\n",
              "    }\n",
              "</style>\n",
              "<table border=\"1\" class=\"dataframe\">\n",
              "  <thead>\n",
              "    <tr style=\"text-align: right;\">\n",
              "      <th>PoliticalViews</th>\n",
              "      <th>Liberal_To_Conservative</th>\n",
              "    </tr>\n",
              "    <tr>\n",
              "      <th>Book</th>\n",
              "      <th></th>\n",
              "    </tr>\n",
              "  </thead>\n",
              "  <tbody>\n",
              "    <tr>\n",
              "      <th>The Kite Runner</th>\n",
              "      <td>6.582280</td>\n",
              "    </tr>\n",
              "    <tr>\n",
              "      <th>The Hours</th>\n",
              "      <td>6.157617</td>\n",
              "    </tr>\n",
              "    <tr>\n",
              "      <th>The Bluest Eye</th>\n",
              "      <td>5.414456</td>\n",
              "    </tr>\n",
              "    <tr>\n",
              "      <th>Love In The Time Of Cholera</th>\n",
              "      <td>5.308290</td>\n",
              "    </tr>\n",
              "    <tr>\n",
              "      <th>The Phantom Tollbooth</th>\n",
              "      <td>4.989793</td>\n",
              "    </tr>\n",
              "    <tr>\n",
              "      <th>The Unbearable Lightness Of Being</th>\n",
              "      <td>4.936710</td>\n",
              "    </tr>\n",
              "    <tr>\n",
              "      <th>Angels In America</th>\n",
              "      <td>4.883627</td>\n",
              "    </tr>\n",
              "    <tr>\n",
              "      <th>Middlesex</th>\n",
              "      <td>4.724378</td>\n",
              "    </tr>\n",
              "    <tr>\n",
              "      <th>Beloved</th>\n",
              "      <td>4.565130</td>\n",
              "    </tr>\n",
              "    <tr>\n",
              "      <th>The Namesake</th>\n",
              "      <td>4.352798</td>\n",
              "    </tr>\n",
              "  </tbody>\n",
              "</table>\n",
              "</div>"
            ],
            "text/plain": [
              "PoliticalViews                     Liberal_To_Conservative\n",
              "Book                                                      \n",
              "The Kite Runner                                   6.582280\n",
              "The Hours                                         6.157617\n",
              "The Bluest Eye                                    5.414456\n",
              "Love In The Time Of Cholera                       5.308290\n",
              "The Phantom Tollbooth                             4.989793\n",
              "The Unbearable Lightness Of Being                 4.936710\n",
              "Angels In America                                 4.883627\n",
              "Middlesex                                         4.724378\n",
              "Beloved                                           4.565130\n",
              "The Namesake                                      4.352798"
            ]
          },
          "metadata": {
            "tags": []
          },
          "execution_count": 37
        }
      ]
    },
    {
      "cell_type": "code",
      "metadata": {
        "colab": {
          "base_uri": "https://localhost:8080/",
          "height": 395
        },
        "collapsed": true,
        "id": "Coy-GmMewh35",
        "scrolled": true,
        "outputId": "c1da4ebe-5fc3-43cb-e976-9795685fa577"
      },
      "source": [
        "conservative_books = dfp[[\"Conservative_To_Liberal\"]].sort_values(\"Conservative_To_Liberal\", ascending=False).head(10)\n",
        "conservative_books"
      ],
      "execution_count": null,
      "outputs": [
        {
          "output_type": "execute_result",
          "data": {
            "text/html": [
              "<div>\n",
              "<style scoped>\n",
              "    .dataframe tbody tr th:only-of-type {\n",
              "        vertical-align: middle;\n",
              "    }\n",
              "\n",
              "    .dataframe tbody tr th {\n",
              "        vertical-align: top;\n",
              "    }\n",
              "\n",
              "    .dataframe thead th {\n",
              "        text-align: right;\n",
              "    }\n",
              "</style>\n",
              "<table border=\"1\" class=\"dataframe\">\n",
              "  <thead>\n",
              "    <tr style=\"text-align: right;\">\n",
              "      <th>PoliticalViews</th>\n",
              "      <th>Conservative_To_Liberal</th>\n",
              "    </tr>\n",
              "    <tr>\n",
              "      <th>Book</th>\n",
              "      <th></th>\n",
              "    </tr>\n",
              "  </thead>\n",
              "  <tbody>\n",
              "    <tr>\n",
              "      <th>When Genius Failed</th>\n",
              "      <td>37.676914</td>\n",
              "    </tr>\n",
              "    <tr>\n",
              "      <th>Liar S Poker</th>\n",
              "      <td>33.909222</td>\n",
              "    </tr>\n",
              "    <tr>\n",
              "      <th>Exodus</th>\n",
              "      <td>18.838457</td>\n",
              "    </tr>\n",
              "    <tr>\n",
              "      <th>Anything By Nicholas Sparks</th>\n",
              "      <td>18.838457</td>\n",
              "    </tr>\n",
              "    <tr>\n",
              "      <th>Juiced</th>\n",
              "      <td>18.838457</td>\n",
              "    </tr>\n",
              "    <tr>\n",
              "      <th>French Women Don T Get Fat</th>\n",
              "      <td>18.838457</td>\n",
              "    </tr>\n",
              "    <tr>\n",
              "      <th>Fiasco</th>\n",
              "      <td>18.838457</td>\n",
              "    </tr>\n",
              "    <tr>\n",
              "      <th>Anything Dave Barry</th>\n",
              "      <td>18.838457</td>\n",
              "    </tr>\n",
              "    <tr>\n",
              "      <th>The Hardy Boys</th>\n",
              "      <td>18.838457</td>\n",
              "    </tr>\n",
              "    <tr>\n",
              "      <th>Politics</th>\n",
              "      <td>18.838457</td>\n",
              "    </tr>\n",
              "  </tbody>\n",
              "</table>\n",
              "</div>"
            ],
            "text/plain": [
              "PoliticalViews               Conservative_To_Liberal\n",
              "Book                                                \n",
              "When Genius Failed                         37.676914\n",
              "Liar S Poker                               33.909222\n",
              "Exodus                                     18.838457\n",
              "Anything By Nicholas Sparks                18.838457\n",
              "Juiced                                     18.838457\n",
              "French Women Don T Get Fat                 18.838457\n",
              "Fiasco                                     18.838457\n",
              "Anything Dave Barry                        18.838457\n",
              "The Hardy Boys                             18.838457\n",
              "Politics                                   18.838457"
            ]
          },
          "metadata": {
            "tags": []
          },
          "execution_count": 38
        }
      ]
    },
    {
      "cell_type": "code",
      "metadata": {
        "colab": {
          "base_uri": "https://localhost:8080/",
          "height": 468
        },
        "collapsed": true,
        "id": "NDd-5nHfwh36",
        "outputId": "3b8713d2-0919-4147-886b-d399dc4134fd"
      },
      "source": [
        "conservative_books.plot(kind='bar')"
      ],
      "execution_count": null,
      "outputs": [
        {
          "output_type": "execute_result",
          "data": {
            "text/plain": [
              "<matplotlib.axes._subplots.AxesSubplot at 0x7feb3c2bba90>"
            ]
          },
          "metadata": {
            "tags": []
          },
          "execution_count": 39
        },
        {
          "output_type": "display_data",
          "data": {
            "image/png": "[encoded data removed]",
            "text/plain": [
              "<Figure size 432x288 with 1 Axes>"
            ]
          },
          "metadata": {
            "tags": [],
            "needs_background": "light"
          }
        }
      ]
    },
    {
      "cell_type": "markdown",
      "metadata": {
        "collapsed": true,
        "id": "bm7eUqhTwh36"
      },
      "source": [
        "### Inserting Data in a Database using Pandas"
      ]
    },
    {
      "cell_type": "code",
      "metadata": {
        "id": "WZctJ_qVGU9A"
      },
      "source": [
        "###!curl http://people.stern.nyu.edu/nwhite/DealingiwthDataSpring2021/data/restaurant.csv.gz -o restaurant.csv.gz ###This didn't work on my end!"
      ],
      "execution_count": null,
      "outputs": []
    },
    {
      "cell_type": "code",
      "metadata": {
        "colab": {
          "base_uri": "https://localhost:8080/"
        },
        "id": "dFASxUvqHBwu",
        "outputId": "eb8e8248-6706-4c5e-b8f1-718f72f397a1"
      },
      "source": [
        "!wget http://people.stern.nyu.edu/nwhite/DealingwithDataSpring2021/data/restaurant.csv"
      ],
      "execution_count": null,
      "outputs": [
        {
          "output_type": "stream",
          "text": [
            "--2021-04-25 16:18:09--  http://people.stern.nyu.edu/nwhite/DealingwithDataSpring2021/data/restaurant.csv\n",
            "Resolving people.stern.nyu.edu (people.stern.nyu.edu)... 128.122.130.142\n",
            "Connecting to people.stern.nyu.edu (people.stern.nyu.edu)|128.122.130.142|:80... connected.\n",
            "HTTP request sent, awaiting response... 200 OK\n",
            "Length: 168508690 (161M) [text/csv]\n",
            "Saving to: ‘restaurant.csv.1’\n",
            "\n",
            "restaurant.csv.1    100%[===================>] 160.70M  4.61MB/s    in 36s     \n",
            "\n",
            "2021-04-25 16:18:45 (4.45 MB/s) - ‘restaurant.csv.1’ saved [168508690/168508690]\n",
            "\n"
          ],
          "name": "stdout"
        }
      ]
    },
    {
      "cell_type": "code",
      "metadata": {
        "collapsed": true,
        "id": "Cm7iwTuhwh36"
      },
      "source": [
        "# Read the CSV file\n",
        "restaurants = pd.read_csv('/content/restaurant.csv', encoding=\"utf-8\", dtype=\"unicode\")"
      ],
      "execution_count": null,
      "outputs": []
    },
    {
      "cell_type": "markdown",
      "metadata": {
        "id": "aDh3Zty7l57o"
      },
      "source": [
        ""
      ]
    },
    {
      "cell_type": "code",
      "metadata": {
        "collapsed": true,
        "id": "MHpNb57Hwh37"
      },
      "source": [
        "# Usual bookkeeping regarding datatypes\n",
        "restaurants[\"GRADE DATE\"] = pd.to_datetime(restaurants[\"GRADE DATE\"], format=\"%m/%d/%Y\")\n",
        "restaurants[\"RECORD DATE\"] = pd.to_datetime(restaurants[\"RECORD DATE\"], format=\"%m/%d/%Y\")\n",
        "restaurants[\"INSPECTION DATE\"] = pd.to_datetime(restaurants[\"INSPECTION DATE\"], format=\"%m/%d/%Y\")\n",
        "restaurants[\"SCORE\"] = pd.to_numeric(restaurants[\"SCORE\"])\n",
        "restaurants[\"BORO\"] =  pd.Categorical(restaurants[\"BORO\"], ordered=False)\n",
        "restaurants[\"GRADE\"] =  pd.Categorical(restaurants[\"GRADE\"], categories = ['A', 'B', 'C'], ordered=True)\n",
        "restaurants[\"VIOLATION CODE\"] =  pd.Categorical(restaurants[\"VIOLATION CODE\"], ordered=False)\n",
        "restaurants[\"CRITICAL FLAG\"] =  pd.Categorical(restaurants[\"CRITICAL FLAG\"], ordered=False)\n",
        "restaurants[\"ACTION\"] =  pd.Categorical(restaurants[\"ACTION\"], ordered=False)\n",
        "restaurants[\"CUISINE DESCRIPTION\"] =  pd.Categorical(restaurants[\"CUISINE DESCRIPTION\"], ordered=False)"
      ],
      "execution_count": null,
      "outputs": []
    },
    {
      "cell_type": "code",
      "metadata": {
        "colab": {
          "base_uri": "https://localhost:8080/",
          "height": 678
        },
        "id": "j6J8y_d-Is1_",
        "outputId": "cde3ba78-ad56-417b-b142-0be555e45c68"
      },
      "source": [
        "restaurants.head()"
      ],
      "execution_count": null,
      "outputs": [
        {
          "output_type": "execute_result",
          "data": {
            "text/html": [
              "<div>\n",
              "<style scoped>\n",
              "    .dataframe tbody tr th:only-of-type {\n",
              "        vertical-align: middle;\n",
              "    }\n",
              "\n",
              "    .dataframe tbody tr th {\n",
              "        vertical-align: top;\n",
              "    }\n",
              "\n",
              "    .dataframe thead th {\n",
              "        text-align: right;\n",
              "    }\n",
              "</style>\n",
              "<table border=\"1\" class=\"dataframe\">\n",
              "  <thead>\n",
              "    <tr style=\"text-align: right;\">\n",
              "      <th></th>\n",
              "      <th>CAMIS</th>\n",
              "      <th>DBA</th>\n",
              "      <th>BORO</th>\n",
              "      <th>BUILDING</th>\n",
              "      <th>STREET</th>\n",
              "      <th>ZIPCODE</th>\n",
              "      <th>PHONE</th>\n",
              "      <th>CUISINE DESCRIPTION</th>\n",
              "      <th>INSPECTION DATE</th>\n",
              "      <th>ACTION</th>\n",
              "      <th>VIOLATION CODE</th>\n",
              "      <th>VIOLATION DESCRIPTION</th>\n",
              "      <th>CRITICAL FLAG</th>\n",
              "      <th>SCORE</th>\n",
              "      <th>GRADE</th>\n",
              "      <th>GRADE DATE</th>\n",
              "      <th>RECORD DATE</th>\n",
              "      <th>INSPECTION TYPE</th>\n",
              "      <th>Latitude</th>\n",
              "      <th>Longitude</th>\n",
              "      <th>Community Board</th>\n",
              "      <th>Council District</th>\n",
              "      <th>Census Tract</th>\n",
              "      <th>BIN</th>\n",
              "      <th>BBL</th>\n",
              "      <th>NTA</th>\n",
              "    </tr>\n",
              "  </thead>\n",
              "  <tbody>\n",
              "    <tr>\n",
              "      <th>0</th>\n",
              "      <td>40638039</td>\n",
              "      <td>LEGENDS BAR &amp; GRILL</td>\n",
              "      <td>Queens</td>\n",
              "      <td>7104</td>\n",
              "      <td>35 AVENUE</td>\n",
              "      <td>11372</td>\n",
              "      <td>7188999553</td>\n",
              "      <td>American</td>\n",
              "      <td>2019-03-25</td>\n",
              "      <td>Violations were cited in the following area(s).</td>\n",
              "      <td>06D</td>\n",
              "      <td>Food contact surface not properly washed, rins...</td>\n",
              "      <td>Y</td>\n",
              "      <td>10.0</td>\n",
              "      <td>A</td>\n",
              "      <td>2019-03-25</td>\n",
              "      <td>2019-10-26</td>\n",
              "      <td>Cycle Inspection / Initial Inspection</td>\n",
              "      <td>40.750719368488</td>\n",
              "      <td>-73.894733598464</td>\n",
              "      <td>403</td>\n",
              "      <td>25</td>\n",
              "      <td>029100</td>\n",
              "      <td>4029524</td>\n",
              "      <td>4012710101</td>\n",
              "      <td>QN28</td>\n",
              "    </tr>\n",
              "    <tr>\n",
              "      <th>1</th>\n",
              "      <td>40577241</td>\n",
              "      <td>ROYAL BAKERY &amp; ROTI SHOP</td>\n",
              "      <td>Brooklyn</td>\n",
              "      <td>618</td>\n",
              "      <td>NOSTRAND AVENUE</td>\n",
              "      <td>11216</td>\n",
              "      <td>7186040200</td>\n",
              "      <td>Caribbean</td>\n",
              "      <td>2017-02-27</td>\n",
              "      <td>Violations were cited in the following area(s).</td>\n",
              "      <td>08A</td>\n",
              "      <td>Facility not vermin proof. Harborage or condit...</td>\n",
              "      <td>N</td>\n",
              "      <td>9.0</td>\n",
              "      <td>A</td>\n",
              "      <td>2017-02-27</td>\n",
              "      <td>2019-10-26</td>\n",
              "      <td>Cycle Inspection / Initial Inspection</td>\n",
              "      <td>40.677323126922</td>\n",
              "      <td>-73.949811619041</td>\n",
              "      <td>308</td>\n",
              "      <td>36</td>\n",
              "      <td>031500</td>\n",
              "      <td>3030003</td>\n",
              "      <td>3012060041</td>\n",
              "      <td>BK61</td>\n",
              "    </tr>\n",
              "    <tr>\n",
              "      <th>2</th>\n",
              "      <td>50057781</td>\n",
              "      <td>BENS COOKIES</td>\n",
              "      <td>Manhattan</td>\n",
              "      <td>822</td>\n",
              "      <td>BROADWAY</td>\n",
              "      <td>10003</td>\n",
              "      <td>5164106172</td>\n",
              "      <td>Café/Coffee/Tea</td>\n",
              "      <td>2016-12-20</td>\n",
              "      <td>Violations were cited in the following area(s).</td>\n",
              "      <td>10F</td>\n",
              "      <td>Non-food contact surface improperly constructe...</td>\n",
              "      <td>N</td>\n",
              "      <td>8.0</td>\n",
              "      <td>A</td>\n",
              "      <td>2016-12-20</td>\n",
              "      <td>2019-10-26</td>\n",
              "      <td>Pre-permit (Operational) / Initial Inspection</td>\n",
              "      <td>40.733033400166</td>\n",
              "      <td>-73.991138128793</td>\n",
              "      <td>102</td>\n",
              "      <td>02</td>\n",
              "      <td>006100</td>\n",
              "      <td>1009001</td>\n",
              "      <td>1005570017</td>\n",
              "      <td>MN23</td>\n",
              "    </tr>\n",
              "    <tr>\n",
              "      <th>3</th>\n",
              "      <td>40542546</td>\n",
              "      <td>CUCCIOS BAKERY</td>\n",
              "      <td>Brooklyn</td>\n",
              "      <td>320</td>\n",
              "      <td>AVENUE X</td>\n",
              "      <td>11223</td>\n",
              "      <td>7183361944</td>\n",
              "      <td>Bakery</td>\n",
              "      <td>2017-12-19</td>\n",
              "      <td>Violations were cited in the following area(s).</td>\n",
              "      <td>10F</td>\n",
              "      <td>Non-food contact surface improperly constructe...</td>\n",
              "      <td>N</td>\n",
              "      <td>23.0</td>\n",
              "      <td>NaN</td>\n",
              "      <td>NaT</td>\n",
              "      <td>2019-10-26</td>\n",
              "      <td>Cycle Inspection / Initial Inspection</td>\n",
              "      <td>40.590414238221</td>\n",
              "      <td>-73.971289470632</td>\n",
              "      <td>315</td>\n",
              "      <td>47</td>\n",
              "      <td>037402</td>\n",
              "      <td>3195080</td>\n",
              "      <td>3071940010</td>\n",
              "      <td>BK26</td>\n",
              "    </tr>\n",
              "    <tr>\n",
              "      <th>4</th>\n",
              "      <td>41383250</td>\n",
              "      <td>OSAKA JAPANESE FUSION</td>\n",
              "      <td>Queens</td>\n",
              "      <td>2524</td>\n",
              "      <td>BROADWAY</td>\n",
              "      <td>11106</td>\n",
              "      <td>7187772662</td>\n",
              "      <td>Japanese</td>\n",
              "      <td>2016-10-05</td>\n",
              "      <td>Violations were cited in the following area(s).</td>\n",
              "      <td>08A</td>\n",
              "      <td>Facility not vermin proof. Harborage or condit...</td>\n",
              "      <td>N</td>\n",
              "      <td>11.0</td>\n",
              "      <td>A</td>\n",
              "      <td>2016-10-05</td>\n",
              "      <td>2019-10-26</td>\n",
              "      <td>Cycle Inspection / Re-inspection</td>\n",
              "      <td>40.76329423995</td>\n",
              "      <td>-73.928209921765</td>\n",
              "      <td>401</td>\n",
              "      <td>22</td>\n",
              "      <td>005300</td>\n",
              "      <td>4007160</td>\n",
              "      <td>4005800026</td>\n",
              "      <td>QN70</td>\n",
              "    </tr>\n",
              "  </tbody>\n",
              "</table>\n",
              "</div>"
            ],
            "text/plain": [
              "      CAMIS                       DBA       BORO  ...      BIN         BBL   NTA\n",
              "0  40638039       LEGENDS BAR & GRILL     Queens  ...  4029524  4012710101  QN28\n",
              "1  40577241  ROYAL BAKERY & ROTI SHOP   Brooklyn  ...  3030003  3012060041  BK61\n",
              "2  50057781              BENS COOKIES  Manhattan  ...  1009001  1005570017  MN23\n",
              "3  40542546            CUCCIOS BAKERY   Brooklyn  ...  3195080  3071940010  BK26\n",
              "4  41383250     OSAKA JAPANESE FUSION     Queens  ...  4007160  4005800026  QN70\n",
              "\n",
              "[5 rows x 26 columns]"
            ]
          },
          "metadata": {
            "tags": []
          },
          "execution_count": 44
        }
      ]
    },
    {
      "cell_type": "code",
      "metadata": {
        "collapsed": true,
        "id": "V2C82kSlwh38"
      },
      "source": [
        "# Connect to the MySQL, but without selecting a database\n",
        "conn_string = 'mysql://{user}:{password}@{host}:{port}/'.format(\n",
        "    user='DealingS21', password='DealingS21!!', \n",
        "    host = 'bigdata.stern.nyu.edu', port=3306)\n",
        "engine = create_engine(conn_string)"
      ],
      "execution_count": null,
      "outputs": []
    },
    {
      "cell_type": "code",
      "metadata": {
        "colab": {
          "base_uri": "https://localhost:8080/"
        },
        "collapsed": true,
        "id": "6YjWOxYlwh38",
        "outputId": "5d2df0d5-68a1-4299-9ee0-2b7a2aff30bd"
      },
      "source": [
        "# Create the database where we want to store the data\n",
        "# Do not worry about the Warning if the database already exists\n",
        "engine.execute('CREATE DATABASE IF NOT EXISTS nyc_restaurant_inspections')\n",
        "engine.execute('USE nyc_restaurant_inspections')"
      ],
      "execution_count": null,
      "outputs": [
        {
          "output_type": "execute_result",
          "data": {
            "text/plain": [
              "<sqlalchemy.engine.cursor.LegacyCursorResult at 0x7feb3a894590>"
            ]
          },
          "metadata": {
            "tags": []
          },
          "execution_count": 46
        }
      ]
    },
    {
      "cell_type": "code",
      "metadata": {
        "collapsed": true,
        "id": "wT0rcRlmwh39"
      },
      "source": [
        "# We drop the table if it is already there\n",
        "engine.execute('DROP TABLE IF EXISTS inspections')\n",
        "# Store the dataframe as a SQL table, using the to_sql command\n",
        "restaurants.to_sql(name='inspections', if_exists='replace', index=False, con=engine, chunksize=1000)"
      ],
      "execution_count": null,
      "outputs": []
    },
    {
      "cell_type": "code",
      "metadata": {
        "colab": {
          "base_uri": "https://localhost:8080/",
          "height": 678
        },
        "collapsed": true,
        "id": "AD4QKjhmwh3-",
        "outputId": "921a0b6c-9d0f-4ef1-9178-33f41725994e"
      },
      "source": [
        "# And then we can just retrieve it from the database\n",
        "df = pd.read_sql(\"SELECT * FROM inspections LIMIT 100\", con=engine)\n",
        "df.head(5)"
      ],
      "execution_count": null,
      "outputs": [
        {
          "output_type": "execute_result",
          "data": {
            "text/html": [
              "<div>\n",
              "<style scoped>\n",
              "    .dataframe tbody tr th:only-of-type {\n",
              "        vertical-align: middle;\n",
              "    }\n",
              "\n",
              "    .dataframe tbody tr th {\n",
              "        vertical-align: top;\n",
              "    }\n",
              "\n",
              "    .dataframe thead th {\n",
              "        text-align: right;\n",
              "    }\n",
              "</style>\n",
              "<table border=\"1\" class=\"dataframe\">\n",
              "  <thead>\n",
              "    <tr style=\"text-align: right;\">\n",
              "      <th></th>\n",
              "      <th>CAMIS</th>\n",
              "      <th>DBA</th>\n",
              "      <th>BORO</th>\n",
              "      <th>BUILDING</th>\n",
              "      <th>STREET</th>\n",
              "      <th>ZIPCODE</th>\n",
              "      <th>PHONE</th>\n",
              "      <th>CUISINE DESCRIPTION</th>\n",
              "      <th>INSPECTION DATE</th>\n",
              "      <th>ACTION</th>\n",
              "      <th>VIOLATION CODE</th>\n",
              "      <th>VIOLATION DESCRIPTION</th>\n",
              "      <th>CRITICAL FLAG</th>\n",
              "      <th>SCORE</th>\n",
              "      <th>GRADE</th>\n",
              "      <th>GRADE DATE</th>\n",
              "      <th>RECORD DATE</th>\n",
              "      <th>INSPECTION TYPE</th>\n",
              "      <th>Latitude</th>\n",
              "      <th>Longitude</th>\n",
              "      <th>Community Board</th>\n",
              "      <th>Council District</th>\n",
              "      <th>Census Tract</th>\n",
              "      <th>BIN</th>\n",
              "      <th>BBL</th>\n",
              "      <th>NTA</th>\n",
              "    </tr>\n",
              "  </thead>\n",
              "  <tbody>\n",
              "    <tr>\n",
              "      <th>0</th>\n",
              "      <td>40638039</td>\n",
              "      <td>LEGENDS BAR &amp; GRILL</td>\n",
              "      <td>Queens</td>\n",
              "      <td>7104</td>\n",
              "      <td>35 AVENUE</td>\n",
              "      <td>11372</td>\n",
              "      <td>7188999553</td>\n",
              "      <td>American</td>\n",
              "      <td>2019-03-25</td>\n",
              "      <td>Violations were cited in the following area(s).</td>\n",
              "      <td>06D</td>\n",
              "      <td>Food contact surface not properly washed, rins...</td>\n",
              "      <td>Y</td>\n",
              "      <td>10.0</td>\n",
              "      <td>A</td>\n",
              "      <td>2019-03-25</td>\n",
              "      <td>2019-10-26</td>\n",
              "      <td>Cycle Inspection / Initial Inspection</td>\n",
              "      <td>40.750719368488</td>\n",
              "      <td>-73.894733598464</td>\n",
              "      <td>403</td>\n",
              "      <td>25</td>\n",
              "      <td>029100</td>\n",
              "      <td>4029524</td>\n",
              "      <td>4012710101</td>\n",
              "      <td>QN28</td>\n",
              "    </tr>\n",
              "    <tr>\n",
              "      <th>1</th>\n",
              "      <td>40577241</td>\n",
              "      <td>ROYAL BAKERY &amp; ROTI SHOP</td>\n",
              "      <td>Brooklyn</td>\n",
              "      <td>618</td>\n",
              "      <td>NOSTRAND AVENUE</td>\n",
              "      <td>11216</td>\n",
              "      <td>7186040200</td>\n",
              "      <td>Caribbean</td>\n",
              "      <td>2017-02-27</td>\n",
              "      <td>Violations were cited in the following area(s).</td>\n",
              "      <td>08A</td>\n",
              "      <td>Facility not vermin proof. Harborage or condit...</td>\n",
              "      <td>N</td>\n",
              "      <td>9.0</td>\n",
              "      <td>A</td>\n",
              "      <td>2017-02-27</td>\n",
              "      <td>2019-10-26</td>\n",
              "      <td>Cycle Inspection / Initial Inspection</td>\n",
              "      <td>40.677323126922</td>\n",
              "      <td>-73.949811619041</td>\n",
              "      <td>308</td>\n",
              "      <td>36</td>\n",
              "      <td>031500</td>\n",
              "      <td>3030003</td>\n",
              "      <td>3012060041</td>\n",
              "      <td>BK61</td>\n",
              "    </tr>\n",
              "    <tr>\n",
              "      <th>2</th>\n",
              "      <td>50057781</td>\n",
              "      <td>BENS COOKIES</td>\n",
              "      <td>Manhattan</td>\n",
              "      <td>822</td>\n",
              "      <td>BROADWAY</td>\n",
              "      <td>10003</td>\n",
              "      <td>5164106172</td>\n",
              "      <td>Café/Coffee/Tea</td>\n",
              "      <td>2016-12-20</td>\n",
              "      <td>Violations were cited in the following area(s).</td>\n",
              "      <td>10F</td>\n",
              "      <td>Non-food contact surface improperly constructe...</td>\n",
              "      <td>N</td>\n",
              "      <td>8.0</td>\n",
              "      <td>A</td>\n",
              "      <td>2016-12-20</td>\n",
              "      <td>2019-10-26</td>\n",
              "      <td>Pre-permit (Operational) / Initial Inspection</td>\n",
              "      <td>40.733033400166</td>\n",
              "      <td>-73.991138128793</td>\n",
              "      <td>102</td>\n",
              "      <td>02</td>\n",
              "      <td>006100</td>\n",
              "      <td>1009001</td>\n",
              "      <td>1005570017</td>\n",
              "      <td>MN23</td>\n",
              "    </tr>\n",
              "    <tr>\n",
              "      <th>3</th>\n",
              "      <td>40542546</td>\n",
              "      <td>CUCCIOS BAKERY</td>\n",
              "      <td>Brooklyn</td>\n",
              "      <td>320</td>\n",
              "      <td>AVENUE X</td>\n",
              "      <td>11223</td>\n",
              "      <td>7183361944</td>\n",
              "      <td>Bakery</td>\n",
              "      <td>2017-12-19</td>\n",
              "      <td>Violations were cited in the following area(s).</td>\n",
              "      <td>10F</td>\n",
              "      <td>Non-food contact surface improperly constructe...</td>\n",
              "      <td>N</td>\n",
              "      <td>23.0</td>\n",
              "      <td>None</td>\n",
              "      <td>NaT</td>\n",
              "      <td>2019-10-26</td>\n",
              "      <td>Cycle Inspection / Initial Inspection</td>\n",
              "      <td>40.590414238221</td>\n",
              "      <td>-73.971289470632</td>\n",
              "      <td>315</td>\n",
              "      <td>47</td>\n",
              "      <td>037402</td>\n",
              "      <td>3195080</td>\n",
              "      <td>3071940010</td>\n",
              "      <td>BK26</td>\n",
              "    </tr>\n",
              "    <tr>\n",
              "      <th>4</th>\n",
              "      <td>41383250</td>\n",
              "      <td>OSAKA JAPANESE FUSION</td>\n",
              "      <td>Queens</td>\n",
              "      <td>2524</td>\n",
              "      <td>BROADWAY</td>\n",
              "      <td>11106</td>\n",
              "      <td>7187772662</td>\n",
              "      <td>Japanese</td>\n",
              "      <td>2016-10-05</td>\n",
              "      <td>Violations were cited in the following area(s).</td>\n",
              "      <td>08A</td>\n",
              "      <td>Facility not vermin proof. Harborage or condit...</td>\n",
              "      <td>N</td>\n",
              "      <td>11.0</td>\n",
              "      <td>A</td>\n",
              "      <td>2016-10-05</td>\n",
              "      <td>2019-10-26</td>\n",
              "      <td>Cycle Inspection / Re-inspection</td>\n",
              "      <td>40.76329423995</td>\n",
              "      <td>-73.928209921765</td>\n",
              "      <td>401</td>\n",
              "      <td>22</td>\n",
              "      <td>005300</td>\n",
              "      <td>4007160</td>\n",
              "      <td>4005800026</td>\n",
              "      <td>QN70</td>\n",
              "    </tr>\n",
              "  </tbody>\n",
              "</table>\n",
              "</div>"
            ],
            "text/plain": [
              "      CAMIS                       DBA       BORO  ...      BIN         BBL   NTA\n",
              "0  40638039       LEGENDS BAR & GRILL     Queens  ...  4029524  4012710101  QN28\n",
              "1  40577241  ROYAL BAKERY & ROTI SHOP   Brooklyn  ...  3030003  3012060041  BK61\n",
              "2  50057781              BENS COOKIES  Manhattan  ...  1009001  1005570017  MN23\n",
              "3  40542546            CUCCIOS BAKERY   Brooklyn  ...  3195080  3071940010  BK26\n",
              "4  41383250     OSAKA JAPANESE FUSION     Queens  ...  4007160  4005800026  QN70\n",
              "\n",
              "[5 rows x 26 columns]"
            ]
          },
          "metadata": {
            "tags": []
          },
          "execution_count": 48
        }
      ]
    },
    {
      "cell_type": "code",
      "metadata": {
        "colab": {
          "base_uri": "https://localhost:8080/",
          "height": 81
        },
        "id": "S7BtIOVJLzYx",
        "outputId": "db1ab5ae-8c23-4640-c9a0-90e8b5c34d8e"
      },
      "source": [
        "### How many rows do we have?\n",
        "df1= pd.read_sql('select count(*) from inspections1000',con=engine)\n",
        "df1"
      ],
      "execution_count": null,
      "outputs": [
        {
          "output_type": "execute_result",
          "data": {
            "text/html": [
              "<div>\n",
              "<style scoped>\n",
              "    .dataframe tbody tr th:only-of-type {\n",
              "        vertical-align: middle;\n",
              "    }\n",
              "\n",
              "    .dataframe tbody tr th {\n",
              "        vertical-align: top;\n",
              "    }\n",
              "\n",
              "    .dataframe thead th {\n",
              "        text-align: right;\n",
              "    }\n",
              "</style>\n",
              "<table border=\"1\" class=\"dataframe\">\n",
              "  <thead>\n",
              "    <tr style=\"text-align: right;\">\n",
              "      <th></th>\n",
              "      <th>count(*)</th>\n",
              "    </tr>\n",
              "  </thead>\n",
              "  <tbody>\n",
              "    <tr>\n",
              "      <th>0</th>\n",
              "      <td>1000</td>\n",
              "    </tr>\n",
              "  </tbody>\n",
              "</table>\n",
              "</div>"
            ],
            "text/plain": [
              "   count(*)\n",
              "0      1000"
            ]
          },
          "metadata": {
            "tags": []
          },
          "execution_count": 49
        }
      ]
    },
    {
      "cell_type": "code",
      "metadata": {
        "colab": {
          "base_uri": "https://localhost:8080/",
          "height": 81
        },
        "id": "DluZBHLEL5oa",
        "outputId": "42501463-a3bf-483e-c945-8ffc151b20ea"
      },
      "source": [
        "### How about in the full table? \n",
        "df1=pd.read_sql('select count(*) from inspections',con=engine)\n",
        "df1"
      ],
      "execution_count": null,
      "outputs": [
        {
          "output_type": "execute_result",
          "data": {
            "text/html": [
              "<div>\n",
              "<style scoped>\n",
              "    .dataframe tbody tr th:only-of-type {\n",
              "        vertical-align: middle;\n",
              "    }\n",
              "\n",
              "    .dataframe tbody tr th {\n",
              "        vertical-align: top;\n",
              "    }\n",
              "\n",
              "    .dataframe thead th {\n",
              "        text-align: right;\n",
              "    }\n",
              "</style>\n",
              "<table border=\"1\" class=\"dataframe\">\n",
              "  <thead>\n",
              "    <tr style=\"text-align: right;\">\n",
              "      <th></th>\n",
              "      <th>count(*)</th>\n",
              "    </tr>\n",
              "  </thead>\n",
              "  <tbody>\n",
              "    <tr>\n",
              "      <th>0</th>\n",
              "      <td>394724</td>\n",
              "    </tr>\n",
              "  </tbody>\n",
              "</table>\n",
              "</div>"
            ],
            "text/plain": [
              "   count(*)\n",
              "0    394724"
            ]
          },
          "metadata": {
            "tags": []
          },
          "execution_count": 50
        }
      ]
    },
    {
      "cell_type": "markdown",
      "metadata": {
        "id": "gHYOk-A4MPr2"
      },
      "source": [
        "In class **exercise**"
      ]
    },
    {
      "cell_type": "code",
      "metadata": {
        "colab": {
          "base_uri": "https://localhost:8080/",
          "height": 144
        },
        "id": "7H4LhKO4MUSH",
        "outputId": "031f4d85-67ae-4c76-aadf-adef52d1838a"
      },
      "source": [
        "# create a small data frame\n",
        "data=[[1,2],[3,4],[5,6]]\n",
        "mydf=pd.DataFrame(data,columns=['a','b'])\n",
        "mydf"
      ],
      "execution_count": null,
      "outputs": [
        {
          "output_type": "execute_result",
          "data": {
            "text/html": [
              "<div>\n",
              "<style scoped>\n",
              "    .dataframe tbody tr th:only-of-type {\n",
              "        vertical-align: middle;\n",
              "    }\n",
              "\n",
              "    .dataframe tbody tr th {\n",
              "        vertical-align: top;\n",
              "    }\n",
              "\n",
              "    .dataframe thead th {\n",
              "        text-align: right;\n",
              "    }\n",
              "</style>\n",
              "<table border=\"1\" class=\"dataframe\">\n",
              "  <thead>\n",
              "    <tr style=\"text-align: right;\">\n",
              "      <th></th>\n",
              "      <th>a</th>\n",
              "      <th>b</th>\n",
              "    </tr>\n",
              "  </thead>\n",
              "  <tbody>\n",
              "    <tr>\n",
              "      <th>0</th>\n",
              "      <td>1</td>\n",
              "      <td>2</td>\n",
              "    </tr>\n",
              "    <tr>\n",
              "      <th>1</th>\n",
              "      <td>3</td>\n",
              "      <td>4</td>\n",
              "    </tr>\n",
              "    <tr>\n",
              "      <th>2</th>\n",
              "      <td>5</td>\n",
              "      <td>6</td>\n",
              "    </tr>\n",
              "  </tbody>\n",
              "</table>\n",
              "</div>"
            ],
            "text/plain": [
              "   a  b\n",
              "0  1  2\n",
              "1  3  4\n",
              "2  5  6"
            ]
          },
          "metadata": {
            "tags": []
          },
          "execution_count": 51
        }
      ]
    },
    {
      "cell_type": "code",
      "metadata": {
        "colab": {
          "base_uri": "https://localhost:8080/"
        },
        "id": "ZJhLHbFuMa8g",
        "outputId": "6e918858-0b19-46a2-b1b2-c05f0f118313"
      },
      "source": [
        "# Your code here (Change the user and password)\n",
        "# Connect to the MySQL, but without selecting a database\n",
        "# I will use team 10's userid and password for testing\n",
        "#\n",
        "\n",
        "conn_string = 'mysql://{user}:{password}@{host}:{port}/'.format(\n",
        "    user='DealingS21GB10', password='DealingS21GB10!!', \n",
        "    host = 'bigdata.stern.nyu.edu', port=3306)\n",
        "engine = create_engine(conn_string)\n",
        "\n",
        "engine.execute(\"USE DealingS21GB10\")\n",
        "\n",
        "engine.execute(\"SHOW TABLES\")\n",
        "engine.execute(\"DROP TABLE IF EXISTS  nhw1\")\n",
        "# create a table for the data frame\n",
        "\n",
        "mydf.to_sql(name='nhw1', index=False, con=engine, chunksize=500)\n",
        "\n",
        "engine.execute(\"SHOW TABLES\")"
      ],
      "execution_count": null,
      "outputs": [
        {
          "output_type": "execute_result",
          "data": {
            "text/plain": [
              "<sqlalchemy.engine.cursor.LegacyCursorResult at 0x7feb3befe610>"
            ]
          },
          "metadata": {
            "tags": []
          },
          "execution_count": 52
        }
      ]
    },
    {
      "cell_type": "code",
      "metadata": {
        "colab": {
          "base_uri": "https://localhost:8080/"
        },
        "id": "CatUktbJMwQ9",
        "outputId": "8e1d78d9-7074-4763-a21d-7250ab5bfa29"
      },
      "source": [
        "engine.execute(\"USE DealingS21GB10\")\n",
        "df = pd.read_sql(\"SELECT * FROM nhw1 LIMIT 100\", con=engine)\n",
        "df.head(5)\n",
        "res=pd.read_sql(\"SHOW TABLES\", con=engine)\n",
        "res\n",
        "engine.execute(\"DROP TABLE nhw1\")"
      ],
      "execution_count": null,
      "outputs": [
        {
          "output_type": "execute_result",
          "data": {
            "text/plain": [
              "<sqlalchemy.engine.cursor.LegacyCursorResult at 0x7feb3befe510>"
            ]
          },
          "metadata": {
            "tags": []
          },
          "execution_count": 53
        }
      ]
    },
    {
      "cell_type": "code",
      "metadata": {
        "colab": {
          "base_uri": "https://localhost:8080/",
          "height": 144
        },
        "id": "Dlty4vOCMz7P",
        "outputId": "98ee5870-f6bf-4e5d-d689-721462d4b0c1"
      },
      "source": [
        "df"
      ],
      "execution_count": null,
      "outputs": [
        {
          "output_type": "execute_result",
          "data": {
            "text/html": [
              "<div>\n",
              "<style scoped>\n",
              "    .dataframe tbody tr th:only-of-type {\n",
              "        vertical-align: middle;\n",
              "    }\n",
              "\n",
              "    .dataframe tbody tr th {\n",
              "        vertical-align: top;\n",
              "    }\n",
              "\n",
              "    .dataframe thead th {\n",
              "        text-align: right;\n",
              "    }\n",
              "</style>\n",
              "<table border=\"1\" class=\"dataframe\">\n",
              "  <thead>\n",
              "    <tr style=\"text-align: right;\">\n",
              "      <th></th>\n",
              "      <th>a</th>\n",
              "      <th>b</th>\n",
              "    </tr>\n",
              "  </thead>\n",
              "  <tbody>\n",
              "    <tr>\n",
              "      <th>0</th>\n",
              "      <td>1</td>\n",
              "      <td>2</td>\n",
              "    </tr>\n",
              "    <tr>\n",
              "      <th>1</th>\n",
              "      <td>3</td>\n",
              "      <td>4</td>\n",
              "    </tr>\n",
              "    <tr>\n",
              "      <th>2</th>\n",
              "      <td>5</td>\n",
              "      <td>6</td>\n",
              "    </tr>\n",
              "  </tbody>\n",
              "</table>\n",
              "</div>"
            ],
            "text/plain": [
              "   a  b\n",
              "0  1  2\n",
              "1  3  4\n",
              "2  5  6"
            ]
          },
          "metadata": {
            "tags": []
          },
          "execution_count": 54
        }
      ]
    },
    {
      "cell_type": "code",
      "metadata": {
        "colab": {
          "base_uri": "https://localhost:8080/",
          "height": 81
        },
        "id": "Q35Yw-dEObgn",
        "outputId": "a984600b-ce87-44f8-b8f4-40d775e05bd9"
      },
      "source": [
        "res"
      ],
      "execution_count": null,
      "outputs": [
        {
          "output_type": "execute_result",
          "data": {
            "text/html": [
              "<div>\n",
              "<style scoped>\n",
              "    .dataframe tbody tr th:only-of-type {\n",
              "        vertical-align: middle;\n",
              "    }\n",
              "\n",
              "    .dataframe tbody tr th {\n",
              "        vertical-align: top;\n",
              "    }\n",
              "\n",
              "    .dataframe thead th {\n",
              "        text-align: right;\n",
              "    }\n",
              "</style>\n",
              "<table border=\"1\" class=\"dataframe\">\n",
              "  <thead>\n",
              "    <tr style=\"text-align: right;\">\n",
              "      <th></th>\n",
              "      <th>Tables_in_DealingS21GB10</th>\n",
              "    </tr>\n",
              "  </thead>\n",
              "  <tbody>\n",
              "    <tr>\n",
              "      <th>0</th>\n",
              "      <td>nhw1</td>\n",
              "    </tr>\n",
              "  </tbody>\n",
              "</table>\n",
              "</div>"
            ],
            "text/plain": [
              "  Tables_in_DealingS21GB10\n",
              "0                     nhw1"
            ]
          },
          "metadata": {
            "tags": []
          },
          "execution_count": 55
        }
      ]
    },
    {
      "cell_type": "code",
      "metadata": {
        "colab": {
          "base_uri": "https://localhost:8080/"
        },
        "id": "KIQvUJvmP25u",
        "outputId": "0024fc76-2e10-41e7-de94-84b7ab79976b"
      },
      "source": [
        "# Your code here (Change the user and password)\n",
        "# Connect to the MySQL, but without selecting a database\n",
        "# I will use team 10's userid and password for testing\n",
        "#\n",
        "\n",
        "conn_string = 'mysql://{user}:{password}@{host}:{port}/'.format(\n",
        "    user='DealingS21GB5', password='DealingS21GB5!!', \n",
        "    host = 'bigdata.stern.nyu.edu', port=3306)\n",
        "engine = create_engine(conn_string)\n",
        "\n",
        "engine.execute(\"USE DealingS21GB5\")\n",
        "\n",
        "engine.execute(\"SHOW TABLES\")\n",
        "engine.execute(\"DROP TABLE IF EXISTS  rsc468\")\n",
        "# create a table for the data frame\n",
        "\n",
        "mydf.to_sql(name='rsc468', index=False, con=engine, chunksize=500)\n",
        "\n",
        "engine.execute(\"SHOW TABLES\")"
      ],
      "execution_count": null,
      "outputs": [
        {
          "output_type": "execute_result",
          "data": {
            "text/plain": [
              "<sqlalchemy.engine.cursor.LegacyCursorResult at 0x7feb36cd2c10>"
            ]
          },
          "metadata": {
            "tags": []
          },
          "execution_count": 56
        }
      ]
    },
    {
      "cell_type": "code",
      "metadata": {
        "colab": {
          "base_uri": "https://localhost:8080/"
        },
        "id": "I4MZGQ2Enez2",
        "outputId": "94492f07-df3f-4958-de6a-f1b3959d7ef3"
      },
      "source": [
        "engine.execute(\"USE DealingS21GB5\")\n",
        "df = pd.read_sql(\"SELECT * FROM rsc468 LIMIT 100\", con=engine)\n",
        "df.head(5)\n",
        "res=pd.read_sql(\"SHOW TABLES\", con=engine)\n",
        "res\n",
        "engine.execute(\"DROP TABLE rsc468\")"
      ],
      "execution_count": null,
      "outputs": [
        {
          "output_type": "execute_result",
          "data": {
            "text/plain": [
              "<sqlalchemy.engine.cursor.LegacyCursorResult at 0x7feb36ce0410>"
            ]
          },
          "metadata": {
            "tags": []
          },
          "execution_count": 57
        }
      ]
    },
    {
      "cell_type": "code",
      "metadata": {
        "colab": {
          "base_uri": "https://localhost:8080/",
          "height": 112
        },
        "id": "Cdtc12NRnquT",
        "outputId": "ebda70dc-234d-499e-fc6e-6fa4a2208aed"
      },
      "source": [
        "res"
      ],
      "execution_count": null,
      "outputs": [
        {
          "output_type": "execute_result",
          "data": {
            "text/html": [
              "<div>\n",
              "<style scoped>\n",
              "    .dataframe tbody tr th:only-of-type {\n",
              "        vertical-align: middle;\n",
              "    }\n",
              "\n",
              "    .dataframe tbody tr th {\n",
              "        vertical-align: top;\n",
              "    }\n",
              "\n",
              "    .dataframe thead th {\n",
              "        text-align: right;\n",
              "    }\n",
              "</style>\n",
              "<table border=\"1\" class=\"dataframe\">\n",
              "  <thead>\n",
              "    <tr style=\"text-align: right;\">\n",
              "      <th></th>\n",
              "      <th>Tables_in_DealingS21GB5</th>\n",
              "    </tr>\n",
              "  </thead>\n",
              "  <tbody>\n",
              "    <tr>\n",
              "      <th>0</th>\n",
              "      <td>rsc468</td>\n",
              "    </tr>\n",
              "    <tr>\n",
              "      <th>1</th>\n",
              "      <td>team5</td>\n",
              "    </tr>\n",
              "  </tbody>\n",
              "</table>\n",
              "</div>"
            ],
            "text/plain": [
              "  Tables_in_DealingS21GB5\n",
              "0                  rsc468\n",
              "1                   team5"
            ]
          },
          "metadata": {
            "tags": []
          },
          "execution_count": 58
        }
      ]
    },
    {
      "cell_type": "code",
      "metadata": {
        "colab": {
          "base_uri": "https://localhost:8080/"
        },
        "id": "WiHrpUN86AIe",
        "outputId": "ee60db33-d5d1-44c8-e251-54b2b63220ea"
      },
      "source": [
        "!wget https://github.com/lcqsigi/big-data2/archive/refs/heads/main.zip"
      ],
      "execution_count": null,
      "outputs": [
        {
          "output_type": "stream",
          "text": [
            "--2021-04-26 01:44:13--  https://github.com/lcqsigi/big-data2/archive/refs/heads/main.zip\n",
            "Resolving github.com (github.com)... 140.82.112.4\n",
            "Connecting to github.com (github.com)|140.82.112.4|:443... connected.\n",
            "HTTP request sent, awaiting response... 302 Found\n",
            "Location: https://codeload.github.com/lcqsigi/big-data2/zip/refs/heads/main [following]\n",
            "--2021-04-26 01:44:13--  https://codeload.github.com/lcqsigi/big-data2/zip/refs/heads/main\n",
            "Resolving codeload.github.com (codeload.github.com)... 140.82.113.9\n",
            "Connecting to codeload.github.com (codeload.github.com)|140.82.113.9|:443... connected.\n",
            "HTTP request sent, awaiting response... 200 OK\n",
            "Length: unspecified [application/zip]\n",
            "Saving to: ‘main.zip’\n",
            "\n",
            "main.zip                [ <=>                ]  18.48M  94.8MB/s    in 0.2s    \n",
            "\n",
            "2021-04-26 01:44:14 (94.8 MB/s) - ‘main.zip’ saved [19376203]\n",
            "\n"
          ],
          "name": "stdout"
        }
      ]
    },
    {
      "cell_type": "code",
      "metadata": {
        "colab": {
          "base_uri": "https://localhost:8080/"
        },
        "id": "WTP2n--e6qQo",
        "outputId": "f03e5d3c-a451-4f33-8f4d-f697c46ac9d6"
      },
      "source": [
        "!unzip main.zip"
      ],
      "execution_count": null,
      "outputs": [
        {
          "output_type": "stream",
          "text": [
            "total 18928\n",
            "drwxr-xr-x 1 root root     4096 Apr 21 13:39 sample_data\n",
            "-rw-r--r-- 1 root root 19376203 Apr 26 01:44 main.zip\n"
          ],
          "name": "stdout"
        }
      ]
    },
    {
      "cell_type": "code",
      "metadata": {
        "id": "Faeb_wxrl-2_"
      },
      "source": [
        "!cp big-data2-main/file.tar.bz2 ."
      ],
      "execution_count": null,
      "outputs": []
    },
    {
      "cell_type": "code",
      "metadata": {
        "colab": {
          "base_uri": "https://localhost:8080/"
        },
        "id": "Nsl5wur7mFMo",
        "outputId": "da6d349b-8362-435e-fcca-61af91620019"
      },
      "source": [
        "!ls -ltr"
      ],
      "execution_count": null,
      "outputs": [
        {
          "output_type": "stream",
          "text": [
            "total 643516\n",
            "-rw-r--r-- 1 1000 users 131879567 Sep 20  2019 Amazon_Unlocked_Mobile.csv\n",
            "-rw-r--r-- 1 root root  168508690 Apr 14 15:03 restaurant.csv.1\n",
            "-rw-r--r-- 1 root root  168508690 Apr 14 15:03 restaurant.csv\n",
            "drwxr-xr-x 1 root root       4096 Apr 21 13:39 sample_data\n",
            "drwxr-xr-x 2 root root       4096 Apr 25 11:56 big-data2-main\n",
            "-rw-r--r-- 1 root root   19376203 Apr 25 16:15 main.zip\n",
            "-rw-r--r-- 1 root root  131891200 Apr 25 16:16 file.tar\n",
            "-rw-r--r-- 1 root root   19376203 Apr 25 16:21 main.zip.1\n",
            "-rw-r--r-- 1 root root   19399520 Apr 25 16:45 file.tar.bz2\n"
          ],
          "name": "stdout"
        }
      ]
    },
    {
      "cell_type": "code",
      "metadata": {
        "id": "KX1RrOHrmHHw",
        "colab": {
          "base_uri": "https://localhost:8080/"
        },
        "outputId": "4ebaa05b-a473-4628-bda9-2bc64b93b85f"
      },
      "source": [
        "!bunzip2 file.tar.bz2"
      ],
      "execution_count": null,
      "outputs": [
        {
          "output_type": "stream",
          "text": [
            "bunzip2: Output file file.tar already exists.\n"
          ],
          "name": "stdout"
        }
      ]
    },
    {
      "cell_type": "code",
      "metadata": {
        "colab": {
          "base_uri": "https://localhost:8080/"
        },
        "id": "DHMfLcxXmJ3a",
        "outputId": "98372fe1-ed65-4647-cc8c-0ec05db066b2"
      },
      "source": [
        "!tar -xvf file.tar"
      ],
      "execution_count": null,
      "outputs": [
        {
          "output_type": "stream",
          "text": [
            "Amazon_Unlocked_Mobile.csv\n"
          ],
          "name": "stdout"
        }
      ]
    },
    {
      "cell_type": "code",
      "metadata": {
        "colab": {
          "base_uri": "https://localhost:8080/"
        },
        "id": "ni39ALsW_3pN",
        "outputId": "03f51af5-6932-472c-aeb5-29bb87321014"
      },
      "source": [
        "!vi Amazon_Unlocked_Mobile.csv"
      ],
      "execution_count": null,
      "outputs": [
        {
          "output_type": "stream",
          "text": [
            "/bin/bash: vi: command not found\n"
          ],
          "name": "stdout"
        }
      ]
    },
    {
      "cell_type": "code",
      "metadata": {
        "id": "X9UEYNJCmTII"
      },
      "source": [
        "reviews = pd.read_csv('/content/Amazon_Unlocked_Mobile.csv', encoding=\"utf-8\", dtype=\"unicode\")"
      ],
      "execution_count": null,
      "outputs": []
    },
    {
      "cell_type": "code",
      "metadata": {
        "colab": {
          "base_uri": "https://localhost:8080/",
          "height": 206
        },
        "id": "lYl_gz5dmgHZ",
        "outputId": "0ca57bcc-855a-47e4-e9d4-148158dd9d30"
      },
      "source": [
        "reviews.head()"
      ],
      "execution_count": null,
      "outputs": [
        {
          "output_type": "execute_result",
          "data": {
            "text/html": [
              "<div>\n",
              "<style scoped>\n",
              "    .dataframe tbody tr th:only-of-type {\n",
              "        vertical-align: middle;\n",
              "    }\n",
              "\n",
              "    .dataframe tbody tr th {\n",
              "        vertical-align: top;\n",
              "    }\n",
              "\n",
              "    .dataframe thead th {\n",
              "        text-align: right;\n",
              "    }\n",
              "</style>\n",
              "<table border=\"1\" class=\"dataframe\">\n",
              "  <thead>\n",
              "    <tr style=\"text-align: right;\">\n",
              "      <th></th>\n",
              "      <th>Product Name</th>\n",
              "      <th>Brand Name</th>\n",
              "      <th>Price</th>\n",
              "      <th>Rating</th>\n",
              "      <th>Reviews</th>\n",
              "      <th>Review Votes</th>\n",
              "    </tr>\n",
              "  </thead>\n",
              "  <tbody>\n",
              "    <tr>\n",
              "      <th>0</th>\n",
              "      <td>\"CLEAR CLEAN ESN\" Sprint EPIC 4G Galaxy SPH-D7...</td>\n",
              "      <td>Samsung</td>\n",
              "      <td>199.99</td>\n",
              "      <td>5</td>\n",
              "      <td>I feel so LUCKY to have found this used (phone...</td>\n",
              "      <td>1</td>\n",
              "    </tr>\n",
              "    <tr>\n",
              "      <th>1</th>\n",
              "      <td>\"CLEAR CLEAN ESN\" Sprint EPIC 4G Galaxy SPH-D7...</td>\n",
              "      <td>Samsung</td>\n",
              "      <td>199.99</td>\n",
              "      <td>4</td>\n",
              "      <td>nice phone, nice up grade from my pantach revu...</td>\n",
              "      <td>0</td>\n",
              "    </tr>\n",
              "    <tr>\n",
              "      <th>2</th>\n",
              "      <td>\"CLEAR CLEAN ESN\" Sprint EPIC 4G Galaxy SPH-D7...</td>\n",
              "      <td>Samsung</td>\n",
              "      <td>199.99</td>\n",
              "      <td>5</td>\n",
              "      <td>Very pleased</td>\n",
              "      <td>0</td>\n",
              "    </tr>\n",
              "    <tr>\n",
              "      <th>3</th>\n",
              "      <td>\"CLEAR CLEAN ESN\" Sprint EPIC 4G Galaxy SPH-D7...</td>\n",
              "      <td>Samsung</td>\n",
              "      <td>199.99</td>\n",
              "      <td>4</td>\n",
              "      <td>It works good but it goes slow sometimes but i...</td>\n",
              "      <td>0</td>\n",
              "    </tr>\n",
              "    <tr>\n",
              "      <th>4</th>\n",
              "      <td>\"CLEAR CLEAN ESN\" Sprint EPIC 4G Galaxy SPH-D7...</td>\n",
              "      <td>Samsung</td>\n",
              "      <td>199.99</td>\n",
              "      <td>4</td>\n",
              "      <td>Great phone to replace my lost phone. The only...</td>\n",
              "      <td>0</td>\n",
              "    </tr>\n",
              "  </tbody>\n",
              "</table>\n",
              "</div>"
            ],
            "text/plain": [
              "                                        Product Name  ... Review Votes\n",
              "0  \"CLEAR CLEAN ESN\" Sprint EPIC 4G Galaxy SPH-D7...  ...            1\n",
              "1  \"CLEAR CLEAN ESN\" Sprint EPIC 4G Galaxy SPH-D7...  ...            0\n",
              "2  \"CLEAR CLEAN ESN\" Sprint EPIC 4G Galaxy SPH-D7...  ...            0\n",
              "3  \"CLEAR CLEAN ESN\" Sprint EPIC 4G Galaxy SPH-D7...  ...            0\n",
              "4  \"CLEAR CLEAN ESN\" Sprint EPIC 4G Galaxy SPH-D7...  ...            0\n",
              "\n",
              "[5 rows x 6 columns]"
            ]
          },
          "metadata": {
            "tags": []
          },
          "execution_count": 162
        }
      ]
    },
    {
      "cell_type": "code",
      "metadata": {
        "id": "KlL3fC7rmkFm"
      },
      "source": [
        "reviews2=reviews.rename({'Product Name': 'Product_Name', 'Brand Name': 'Brand_Name', 'Review Votes': 'Review_Votes'}, axis=1)"
      ],
      "execution_count": null,
      "outputs": []
    },
    {
      "cell_type": "code",
      "metadata": {
        "colab": {
          "base_uri": "https://localhost:8080/"
        },
        "id": "yNZvpzkMtaO5",
        "outputId": "210bd1a4-0955-4227-8ee3-2808d4b6566d"
      },
      "source": [
        "reviews3=reviews2.head(430)\n",
        "len(reviews3)"
      ],
      "execution_count": null,
      "outputs": [
        {
          "output_type": "execute_result",
          "data": {
            "text/plain": [
              "430"
            ]
          },
          "metadata": {
            "tags": []
          },
          "execution_count": 164
        }
      ]
    },
    {
      "cell_type": "code",
      "metadata": {
        "id": "AaF3EGJnoCQV"
      },
      "source": [
        "# Connect to the MySQL, but without selecting a database\n",
        "conn_string = 'mysql://{user}:{password}@{host}:{port}/'.format(\n",
        "    user='DealingS21GB5', password='DealingS21GB5!!', \n",
        "    host = 'bigdata.stern.nyu.edu', port=3306,charset='utf8',encoding=\"cp437\", errors='ignore')\n",
        "engine = create_engine(conn_string)"
      ],
      "execution_count": 6,
      "outputs": []
    },
    {
      "cell_type": "code",
      "metadata": {
        "colab": {
          "base_uri": "https://localhost:8080/"
        },
        "id": "eCov1TiVpIuM",
        "outputId": "a9200ae4-7ac4-4fcd-ed2e-7380a505d0a9"
      },
      "source": [
        "engine.execute(\"USE DealingS21GB5\")\n",
        "engine.execute(\"DROP TABLE IF EXISTS  dir8\")\n",
        "#mydf.to_sql(name='team5', index=False, con=engine, chunksize=500)\n",
        "\n",
        "#reviews3.to_sql(name='team5', if_exists='replace', index=False, con=engine)\n",
        "\n",
        "#engine.execute(\"SHOW TABLES\")"
      ],
      "execution_count": 182,
      "outputs": [
        {
          "output_type": "execute_result",
          "data": {
            "text/plain": [
              "<sqlalchemy.engine.cursor.LegacyCursorResult at 0x7fd1701f5350>"
            ]
          },
          "metadata": {
            "tags": []
          },
          "execution_count": 182
        }
      ]
    },
    {
      "cell_type": "code",
      "metadata": {
        "colab": {
          "base_uri": "https://localhost:8080/",
          "height": 363
        },
        "id": "MDLP6ecCsOVT",
        "outputId": "be7402fa-b410-4f07-a89a-c64623033755"
      },
      "source": [
        "engine.execute(\"USE DealingS21GB5\")\n",
        "df = pd.read_sql(\"SELECT * FROM dir8 LIMIT 50000\", con=engine)\n",
        "df.tail(10)\n",
        "#len(df)\n",
        "#res=pd.read_sql(\"SHOW TABLES\", con=engine)\n",
        "#res=pd.read_sql(\"DESCRIBE team5\", con=engine)\n",
        "#res\n",
        "#engine.execute(\"DROP TABLE rsc468\")"
      ],
      "execution_count": 189,
      "outputs": [
        {
          "output_type": "execute_result",
          "data": {
            "text/html": [
              "<div>\n",
              "<style scoped>\n",
              "    .dataframe tbody tr th:only-of-type {\n",
              "        vertical-align: middle;\n",
              "    }\n",
              "\n",
              "    .dataframe tbody tr th {\n",
              "        vertical-align: top;\n",
              "    }\n",
              "\n",
              "    .dataframe thead th {\n",
              "        text-align: right;\n",
              "    }\n",
              "</style>\n",
              "<table border=\"1\" class=\"dataframe\">\n",
              "  <thead>\n",
              "    <tr style=\"text-align: right;\">\n",
              "      <th></th>\n",
              "      <th>Product_Name</th>\n",
              "      <th>Brand_Name</th>\n",
              "      <th>Price</th>\n",
              "      <th>Rating</th>\n",
              "      <th>Reviews</th>\n",
              "      <th>Review_Votes</th>\n",
              "    </tr>\n",
              "  </thead>\n",
              "  <tbody>\n",
              "    <tr>\n",
              "      <th>49989</th>\n",
              "      <td>Sprint LG LG LS 840 Viper 4G Android LTE Phone...</td>\n",
              "      <td>LG</td>\n",
              "      <td>199.99</td>\n",
              "      <td>5.0</td>\n",
              "      <td>Everything is great with phone. Came exactly t...</td>\n",
              "      <td>0.0</td>\n",
              "    </tr>\n",
              "    <tr>\n",
              "      <th>49990</th>\n",
              "      <td>Sprint LG LG LS 840 Viper 4G Android LTE Phone...</td>\n",
              "      <td>LG</td>\n",
              "      <td>199.99</td>\n",
              "      <td>5.0</td>\n",
              "      <td>Great phone. Great sender. Thanks</td>\n",
              "      <td>0.0</td>\n",
              "    </tr>\n",
              "    <tr>\n",
              "      <th>49991</th>\n",
              "      <td>Sprint LG LG LS 840 Viper 4G Android LTE Phone...</td>\n",
              "      <td>LG</td>\n",
              "      <td>199.99</td>\n",
              "      <td>2.0</td>\n",
              "      <td>Even though the phone says no contract it stil...</td>\n",
              "      <td>0.0</td>\n",
              "    </tr>\n",
              "    <tr>\n",
              "      <th>49992</th>\n",
              "      <td>Sprint LG LG LS 840 Viper 4G Android LTE Phone...</td>\n",
              "      <td>LG</td>\n",
              "      <td>199.99</td>\n",
              "      <td>4.0</td>\n",
              "      <td>I ordered 2 of these phones and they arrived a...</td>\n",
              "      <td>0.0</td>\n",
              "    </tr>\n",
              "    <tr>\n",
              "      <th>49993</th>\n",
              "      <td>Sprint LG LG LS 840 Viper 4G Android LTE Phone...</td>\n",
              "      <td>LG</td>\n",
              "      <td>199.99</td>\n",
              "      <td>5.0</td>\n",
              "      <td>Really love my phone. Would not consider repla...</td>\n",
              "      <td>0.0</td>\n",
              "    </tr>\n",
              "    <tr>\n",
              "      <th>49994</th>\n",
              "      <td>Sprint LG LG LS 840 Viper 4G Android LTE Phone...</td>\n",
              "      <td>LG</td>\n",
              "      <td>199.99</td>\n",
              "      <td>4.0</td>\n",
              "      <td>He liked it.</td>\n",
              "      <td>0.0</td>\n",
              "    </tr>\n",
              "    <tr>\n",
              "      <th>49995</th>\n",
              "      <td>Sprint LG LG LS 840 Viper 4G Android LTE Phone...</td>\n",
              "      <td>LG</td>\n",
              "      <td>199.99</td>\n",
              "      <td>4.0</td>\n",
              "      <td>phone was in a great condition but had to repl...</td>\n",
              "      <td>0.0</td>\n",
              "    </tr>\n",
              "    <tr>\n",
              "      <th>49996</th>\n",
              "      <td>Sprint LG LG LS 840 Viper 4G Android LTE Phone...</td>\n",
              "      <td>LG</td>\n",
              "      <td>199.99</td>\n",
              "      <td>5.0</td>\n",
              "      <td>Shipping was fast and had no trouble activatin...</td>\n",
              "      <td>0.0</td>\n",
              "    </tr>\n",
              "    <tr>\n",
              "      <th>49997</th>\n",
              "      <td>Sprint LG LG LS 840 Viper 4G Android LTE Phone...</td>\n",
              "      <td>LG</td>\n",
              "      <td>199.99</td>\n",
              "      <td>3.0</td>\n",
              "      <td>Ok phone. Has lte and memory card slot. If tho...</td>\n",
              "      <td>0.0</td>\n",
              "    </tr>\n",
              "    <tr>\n",
              "      <th>49998</th>\n",
              "      <td>Sprint LG LG LS 840 Viper 4G Android LTE Phone...</td>\n",
              "      <td>LG</td>\n",
              "      <td>199.99</td>\n",
              "      <td>4.0</td>\n",
              "      <td>The phone was just as described. Fully functio...</td>\n",
              "      <td>0.0</td>\n",
              "    </tr>\n",
              "  </tbody>\n",
              "</table>\n",
              "</div>"
            ],
            "text/plain": [
              "                                            Product_Name  ... Review_Votes\n",
              "49989  Sprint LG LG LS 840 Viper 4G Android LTE Phone...  ...          0.0\n",
              "49990  Sprint LG LG LS 840 Viper 4G Android LTE Phone...  ...          0.0\n",
              "49991  Sprint LG LG LS 840 Viper 4G Android LTE Phone...  ...          0.0\n",
              "49992  Sprint LG LG LS 840 Viper 4G Android LTE Phone...  ...          0.0\n",
              "49993  Sprint LG LG LS 840 Viper 4G Android LTE Phone...  ...          0.0\n",
              "49994  Sprint LG LG LS 840 Viper 4G Android LTE Phone...  ...          0.0\n",
              "49995  Sprint LG LG LS 840 Viper 4G Android LTE Phone...  ...          0.0\n",
              "49996  Sprint LG LG LS 840 Viper 4G Android LTE Phone...  ...          0.0\n",
              "49997  Sprint LG LG LS 840 Viper 4G Android LTE Phone...  ...          0.0\n",
              "49998  Sprint LG LG LS 840 Viper 4G Android LTE Phone...  ...          0.0\n",
              "\n",
              "[10 rows x 6 columns]"
            ]
          },
          "metadata": {
            "tags": []
          },
          "execution_count": 189
        }
      ]
    },
    {
      "cell_type": "code",
      "metadata": {
        "id": "zOSGzZTGQHQx",
        "colab": {
          "base_uri": "https://localhost:8080/"
        },
        "outputId": "0f373897-7ae5-4a12-bfba-6a152e7adc7f"
      },
      "source": [
        "import re\n",
        "regex = r\"[.]+\"\n",
        "test_str = \"dealer said it does not reimburse dealers for loaners or rentals... so why even be a dealership if they make faulty cars and you re on the line to help customers\" \n",
        "subst = \".\"\n",
        "result = re.sub(regex, subst, test_str, 0, re.MULTILINE | re.IGNORECASE)\n",
        "if result:\n",
        "    print (result)"
      ],
      "execution_count": null,
      "outputs": [
        {
          "output_type": "stream",
          "text": [
            "dealer said it does not reimburse dealers for loaners or rentals. so why even be a dealership if they make faulty cars and you re on the line to help customers\n"
          ],
          "name": "stdout"
        }
      ]
    },
    {
      "cell_type": "code",
      "metadata": {
        "id": "LmuMEdSi3oiv"
      },
      "source": [
        ""
      ],
      "execution_count": null,
      "outputs": []
    }
  ]
}