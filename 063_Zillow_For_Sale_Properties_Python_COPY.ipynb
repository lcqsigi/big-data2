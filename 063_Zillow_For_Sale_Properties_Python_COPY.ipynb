{
  "nbformat": 4,
  "nbformat_minor": 0,
  "metadata": {
    "colab": {
      "provenance": [],
      "include_colab_link": true
    },
    "kernelspec": {
      "name": "python3",
      "display_name": "Python 3"
    }
  },
  "cells": [
    {
      "cell_type": "markdown",
      "metadata": {
        "id": "view-in-github",
        "colab_type": "text"
      },
      "source": [
        "<a href=\"https://colab.research.google.com/github/lcqsigi/big-data2/blob/main/063_Zillow_For_Sale_Properties_Python_COPY.ipynb\" target=\"_parent\"><img src=\"https://colab.research.google.com/assets/colab-badge.svg\" alt=\"Open In Colab\"/></a>"
      ]
    },
    {
      "cell_type": "markdown",
      "metadata": {
        "id": "SkkIaSBJvG8U"
      },
      "source": [
        "## Steps\n",
        "### Get Keys\n",
        "1) Get Free [Rapid API Key by creating an account](https://rapidapi.com/marketplace)\n",
        "\n",
        "Store each key in a central and private location.\n",
        "\n",
        "### Subscribe to APIs\n",
        "\n",
        "1) Subscribe to [Zillow on Rapid API](https://rapidapi.com/apimaker/api/zillow-com1/)"
      ]
    },
    {
      "cell_type": "markdown",
      "metadata": {
        "id": "Xp6KsUSdrkF5"
      },
      "source": [
        "## <font color=\"blue\">Install Packages</font>"
      ]
    },
    {
      "cell_type": "markdown",
      "metadata": {
        "id": "K9zplVol59rV"
      },
      "source": [
        "## <font color=\"blue\">Imports</font>"
      ]
    },
    {
      "cell_type": "code",
      "metadata": {
        "id": "buPCLXmtply1"
      },
      "source": [
        "from google.colab import drive, files # specific to Google Colab\n",
        "import pandas as pd\n",
        "import requests\n",
        "import json\n",
        "import time\n",
        "\n",
        "# show all columns\n",
        "pd.set_option('display.max_columns', None)"
      ],
      "execution_count": 1,
      "outputs": []
    },
    {
      "cell_type": "markdown",
      "metadata": {
        "id": "LUKcN5hJ9sFE"
      },
      "source": [
        "## <font color=\"blue\">Functions</font>"
      ]
    },
    {
      "cell_type": "markdown",
      "metadata": {
        "id": "Ko430xMx58T5"
      },
      "source": [
        "## <font color=\"blue\">Local & Constants</font>"
      ]
    },
    {
      "cell_type": "code",
      "metadata": {
        "id": "KCYCahU848DE",
        "colab": {
          "base_uri": "https://localhost:8080/"
        },
        "outputId": "e7945be3-43bd-48a3-eaba-8fe9979da33d"
      },
      "source": [
        "############\n",
        "# OPTIONAL #\n",
        "############\n",
        "\n",
        "# mount drive\n",
        "drive.mount('/content/drive', force_remount=False)\n",
        "\n",
        "# data location\n",
        "file_dir = '/content/drive/My Drive/' # optional\n",
        "\n",
        "############\n",
        "# REQURIED #\n",
        "############\n",
        "city = 'san leandro'\n",
        "state = 'ca'\n",
        "search_str = city + ', ' + state\n",
        "print('Search string:', search_str)"
      ],
      "execution_count": 2,
      "outputs": [
        {
          "output_type": "stream",
          "name": "stdout",
          "text": [
            "Drive already mounted at /content/drive; to attempt to forcibly remount, call drive.mount(\"/content/drive\", force_remount=True).\n",
            "Search string: san leandro, ca\n"
          ]
        }
      ]
    },
    {
      "cell_type": "markdown",
      "metadata": {
        "id": "H4Py4JSB6UrT"
      },
      "source": [
        "## <font color=\"blue\">Data</font>"
      ]
    },
    {
      "cell_type": "markdown",
      "metadata": {
        "id": "Q9huhtw0_mQ9"
      },
      "source": [
        "### Get API Keys"
      ]
    },
    {
      "cell_type": "code",
      "metadata": {
        "id": "SsJGIj3h6S3g"
      },
      "source": [
        "# read in api key file\n",
        "df_api_keys = pd.read_csv(file_dir + 'api_keys.csv')\n",
        "\n",
        "# get keys\n",
        "rapid_api_key = df_api_keys.loc[df_api_keys['API'] =='rapid']['KEY'].iloc[0] # replace this with your own key"
      ],
      "execution_count": 3,
      "outputs": []
    },
    {
      "cell_type": "code",
      "source": [
        "rapid_api_key"
      ],
      "metadata": {
        "colab": {
          "base_uri": "https://localhost:8080/",
          "height": 35
        },
        "id": "2WI9DQQr61Lf",
        "outputId": "b05465cc-6179-4362-b89c-2c9c1fbc69e7"
      },
      "execution_count": 4,
      "outputs": [
        {
          "output_type": "execute_result",
          "data": {
            "text/plain": [
              "'8b63d59cecmsha5a796447533ec2p11f828jsnf7fd2c8395a5'"
            ],
            "application/vnd.google.colaboratory.intrinsic+json": {
              "type": "string"
            }
          },
          "metadata": {},
          "execution_count": 4
        }
      ]
    },
    {
      "cell_type": "code",
      "source": [
        "url = \"https://zillow-com1.p.rapidapi.com/propertyExtendedSearch\""
      ],
      "metadata": {
        "id": "HxYyudF8ss8I"
      },
      "execution_count": 5,
      "outputs": []
    },
    {
      "cell_type": "code",
      "source": [
        "headers = {\n",
        "    'x-rapidapi-host': \"zillow-com1.p.rapidapi.com\",\n",
        "    'x-rapidapi-key': rapid_api_key\n",
        "    }\n",
        "import requests\n",
        "req = requests.request('GET', url, headers=headers)"
      ],
      "metadata": {
        "id": "33d98N7QrsaY"
      },
      "execution_count": 6,
      "outputs": []
    },
    {
      "cell_type": "markdown",
      "metadata": {
        "id": "2ftZK54F7Pa5"
      },
      "source": [
        "## <font color=\"green\">Zillow</font>"
      ]
    },
    {
      "cell_type": "markdown",
      "metadata": {
        "id": "vFr8522iqT_G"
      },
      "source": [
        "### <font color=\"purple\">Endpoint: Property</font>"
      ]
    },
    {
      "cell_type": "code",
      "metadata": {
        "colab": {
          "base_uri": "https://localhost:8080/"
        },
        "id": "1-mMNbQHGh9T",
        "outputId": "1c671ec3-145c-47b6-cd30-28c44fb6b592"
      },
      "source": [
        "# get data\n",
        "url = \"https://zillow-com1.p.rapidapi.com/propertyExtendedSearch\"\n",
        "\n",
        "querystring = {\"location\":search_str,\n",
        "               \"home_type\":\"HOUSES\",\n",
        "               \"minPrice\": \"800000\",\n",
        "               \"maxPrice\": \"1000000\",\n",
        "               \"sqftMin\": \"1000\",\n",
        "               \"bedsMax\": \"3\",\n",
        "               \"buildYearMin\": \"1980\"}\n",
        "\n",
        "headers = {\n",
        "    'x-rapidapi-host': \"zillow-com1.p.rapidapi.com\",\n",
        "    'x-rapidapi-key': rapid_api_key\n",
        "    }\n",
        "\n",
        "z_for_sale_resp = requests.request(\"GET\", url, headers=headers, params=querystring)\n",
        "\n",
        "# transform to json\n",
        "z_for_sale_resp_json = z_for_sale_resp.json()\n",
        "z_for_sale_resp_json"
      ],
      "execution_count": 7,
      "outputs": [
        {
          "output_type": "execute_result",
          "data": {
            "text/plain": [
              "{'resultsPerPage': 41,\n",
              " 'totalPages': 0,\n",
              " 'schools': {},\n",
              " 'totalResultCount': 0,\n",
              " 'currentPage': 1}"
            ]
          },
          "metadata": {},
          "execution_count": 7
        }
      ]
    },
    {
      "cell_type": "code",
      "metadata": {
        "colab": {
          "base_uri": "https://localhost:8080/",
          "height": 211
        },
        "id": "Gu9OGlGTrx4k",
        "outputId": "e6970ef7-5941-4322-aacb-a72f2925abf1"
      },
      "source": [
        "# view data\n",
        "df_z_for_sale = pd.json_normalize(data=z_for_sale_resp_json['props'])\n",
        "print('Num of rows:', len(df_z_for_sale))\n",
        "print('Num of cols:', len(df_z_for_sale.columns))\n",
        "df_z_for_sale.head()"
      ],
      "execution_count": 8,
      "outputs": [
        {
          "output_type": "error",
          "ename": "KeyError",
          "evalue": "'props'",
          "traceback": [
            "\u001b[0;31m---------------------------------------------------------------------------\u001b[0m",
            "\u001b[0;31mKeyError\u001b[0m                                  Traceback (most recent call last)",
            "\u001b[0;32m<ipython-input-8-0388409c0ccc>\u001b[0m in \u001b[0;36m<cell line: 2>\u001b[0;34m()\u001b[0m\n\u001b[1;32m      1\u001b[0m \u001b[0;31m# view data\u001b[0m\u001b[0;34m\u001b[0m\u001b[0;34m\u001b[0m\u001b[0m\n\u001b[0;32m----> 2\u001b[0;31m \u001b[0mdf_z_for_sale\u001b[0m \u001b[0;34m=\u001b[0m \u001b[0mpd\u001b[0m\u001b[0;34m.\u001b[0m\u001b[0mjson_normalize\u001b[0m\u001b[0;34m(\u001b[0m\u001b[0mdata\u001b[0m\u001b[0;34m=\u001b[0m\u001b[0mz_for_sale_resp_json\u001b[0m\u001b[0;34m[\u001b[0m\u001b[0;34m'props'\u001b[0m\u001b[0;34m]\u001b[0m\u001b[0;34m)\u001b[0m\u001b[0;34m\u001b[0m\u001b[0;34m\u001b[0m\u001b[0m\n\u001b[0m\u001b[1;32m      3\u001b[0m \u001b[0mprint\u001b[0m\u001b[0;34m(\u001b[0m\u001b[0;34m'Num of rows:'\u001b[0m\u001b[0;34m,\u001b[0m \u001b[0mlen\u001b[0m\u001b[0;34m(\u001b[0m\u001b[0mdf_z_for_sale\u001b[0m\u001b[0;34m)\u001b[0m\u001b[0;34m)\u001b[0m\u001b[0;34m\u001b[0m\u001b[0;34m\u001b[0m\u001b[0m\n\u001b[1;32m      4\u001b[0m \u001b[0mprint\u001b[0m\u001b[0;34m(\u001b[0m\u001b[0;34m'Num of cols:'\u001b[0m\u001b[0;34m,\u001b[0m \u001b[0mlen\u001b[0m\u001b[0;34m(\u001b[0m\u001b[0mdf_z_for_sale\u001b[0m\u001b[0;34m.\u001b[0m\u001b[0mcolumns\u001b[0m\u001b[0;34m)\u001b[0m\u001b[0;34m)\u001b[0m\u001b[0;34m\u001b[0m\u001b[0;34m\u001b[0m\u001b[0m\n\u001b[1;32m      5\u001b[0m \u001b[0mdf_z_for_sale\u001b[0m\u001b[0;34m.\u001b[0m\u001b[0mhead\u001b[0m\u001b[0;34m(\u001b[0m\u001b[0;34m)\u001b[0m\u001b[0;34m\u001b[0m\u001b[0;34m\u001b[0m\u001b[0m\n",
            "\u001b[0;31mKeyError\u001b[0m: 'props'"
          ]
        }
      ]
    },
    {
      "cell_type": "code",
      "metadata": {
        "id": "R4JPIXQBH6PF"
      },
      "source": [
        "# download file\n"
      ],
      "execution_count": null,
      "outputs": []
    },
    {
      "cell_type": "code",
      "metadata": {
        "id": "j5BXrsX_1LB3"
      },
      "source": [
        "# get zpids to a list\n",
        "zpid_list = df_z_for_sale['zpid'].tolist()\n",
        "zpid_list"
      ],
      "execution_count": null,
      "outputs": []
    },
    {
      "cell_type": "code",
      "metadata": {
        "id": "RhzkEH9d2DSQ"
      },
      "source": [
        "# get property detail\n",
        "\n",
        "# create empty list\n",
        "prop_detail_list = []\n",
        "\n",
        "# iterate through list of properties\n",
        "for zpid in zpid_list:\n",
        "\n",
        "  # end point\n",
        "  url = \"https://zillow-com1.p.rapidapi.com/property\"\n",
        "\n",
        "  querystring = {\"zpid\":zpid}\n",
        "\n",
        "  # header\n",
        "  headers = {\n",
        "      'x-rapidapi-host': \"zillow-com1.p.rapidapi.com\",\n",
        "      'x-rapidapi-key': rapid_api_key\n",
        "      }\n",
        "\n",
        "  # get property detail\n",
        "  z_prop_detail_resp = requests.request(\"GET\", url, headers=headers, params=querystring)\n",
        "  z_prop_detail_resp_json = z_prop_detail_resp.json()\n",
        "\n",
        "  # wait 1 sec based on limit\n",
        "  time.sleep(1.5)\n",
        "\n",
        "  prop_detail_list.append(z_prop_detail_resp_json)"
      ],
      "execution_count": null,
      "outputs": []
    },
    {
      "cell_type": "code",
      "metadata": {
        "id": "wD7eYKFy3Frj"
      },
      "source": [
        "# convert to dataframe\n",
        "df_z_prop_detail = pd.json_normalize(prop_detail_list)\n",
        "print('Num of rows:', len(df_z_prop_detail))\n",
        "print('Num of cols:', len(df_z_prop_detail.columns))\n",
        "df_z_prop_detail.head(2)"
      ],
      "execution_count": null,
      "outputs": []
    },
    {
      "cell_type": "code",
      "metadata": {
        "id": "Q1o5TWbWj9k_"
      },
      "source": [
        "# columns of interest\n",
        "detail_cols = ['streetAddress',\n",
        " 'city',\n",
        " 'county',\n",
        " 'zipcode',\n",
        " 'state',\n",
        " 'price',\n",
        " 'homeType',\n",
        " 'timeOnZillow',\n",
        " 'zestimate',\n",
        " 'rentZestimate',\n",
        " 'livingArea',\n",
        " 'bedrooms',\n",
        " 'bathrooms',\n",
        " 'yearBuilt',\n",
        " 'description',\n",
        " 'priceHistory',\n",
        " 'taxHistory',\n",
        " 'zpid'\n",
        " ]\n",
        "\n",
        "# retain limited columns for output\n",
        "df_z_prop_detail_output = df_z_prop_detail[detail_cols]\n",
        "df_z_prop_detail_output.head()"
      ],
      "execution_count": null,
      "outputs": []
    },
    {
      "cell_type": "code",
      "metadata": {
        "id": "jovgMX5_PLhk"
      },
      "source": [
        "# download file\n",
        "df_z_prop_detail_output.to_csv('df_z_prop_detail_output.csv')\n",
        "files.download('df_z_prop_detail_output.csv')"
      ],
      "execution_count": null,
      "outputs": []
    },
    {
      "cell_type": "markdown",
      "metadata": {
        "id": "VGvgA4bzJYVj"
      },
      "source": [
        "## Zillow ZPID\n",
        "Useful to retrieve zillow detailed data for ANY address"
      ]
    },
    {
      "cell_type": "code",
      "source": [
        "data = \"\"\"Name,Address\n",
        "house_00,\"10521 Stella St; OAKLAND, CA 94605\"\n",
        "house_01,\"6684 Banning Dr; OAKLAND, CA 94611\"\n",
        "house_02,\"1678 Trestle Glen Rd.; OAKLAND, CA 94610\"\n",
        "house_03,\"1402 Glendale Ave; BERKELEY, CA 94708\"\n",
        "house_04,\"1244 Kains Ave.; BERKELEY, CA 94706\"\n",
        "house_05,\"1904 Blake Street; BERKELEY, CA 94704\"\n",
        "house_06,\"1829 Channing Way; BERKELEY, CA 94702 \"\n",
        "house_07,\"1340 8th St; BERKELEY, CA 94710\"\n",
        "house_08,\"1195 Walnut Street; BERKELEY, CA 94707\"\n",
        "house_09,\"2316 Acton St; BERKELEY, CA 94702\"\n",
        "house_10,\"405 Cape Cod Drive; SAN LEANDRO, CA 94578\"\n",
        "house_11,\"4355 Terrabella Pl; OAKLAND, CA 94619\"\n",
        "house_12,\"3910 Malcolm Ave; Oakland, CA 94605\"\n",
        "house_13,\"3594 Kimball Way; CONCORD, CA 94518\"\n",
        "house_14,\"1326 Babel Ln; CONCORD, CA 94518\"\n",
        "house_15,\"5145 Garaventa DR; CONCORD, CA 94521\"\n",
        "house_16,\"1979 Marta Dr; PLEASANT HILL, CA 94523\"\n",
        "\"\"\""
      ],
      "metadata": {
        "id": "wt1h7bal4eQU"
      },
      "execution_count": null,
      "outputs": []
    },
    {
      "cell_type": "code",
      "metadata": {
        "id": "ykOODN6gJxt5"
      },
      "source": [
        "import pandas as pd\n",
        "import requests\n",
        "import json\n",
        "import urllib\n",
        "import io"
      ],
      "execution_count": null,
      "outputs": []
    },
    {
      "cell_type": "code",
      "source": [
        "from geopy.geocoders import Nominatim\n",
        "geolocator = Nominatim(user_agent=\"example app\")"
      ],
      "metadata": {
        "id": "fPUU8Ioq98FD"
      },
      "execution_count": null,
      "outputs": []
    },
    {
      "cell_type": "code",
      "metadata": {
        "id": "G60KpjVkrcGb"
      },
      "source": [
        "df = pd.read_csv(io.StringIO(data))\n",
        "df"
      ],
      "execution_count": null,
      "outputs": []
    },
    {
      "cell_type": "code",
      "source": [
        "df[\"loc\"] = df[\"Address\"].apply(geolocator.geocode)"
      ],
      "metadata": {
        "id": "7Kwd1LWW9xY2"
      },
      "execution_count": null,
      "outputs": []
    },
    {
      "cell_type": "code",
      "source": [
        "df[\"point\"]= df[\"loc\"].apply(lambda loc: tuple(loc.point) if loc else None)"
      ],
      "metadata": {
        "id": "VDSfV30F-H1_"
      },
      "execution_count": null,
      "outputs": []
    },
    {
      "cell_type": "code",
      "source": [
        "df[['lat', 'lon', 'altitude']] = pd.DataFrame(df['point'].to_list(), index=df.index)"
      ],
      "metadata": {
        "id": "CkLhKPHc-KUY"
      },
      "execution_count": null,
      "outputs": []
    },
    {
      "cell_type": "code",
      "source": [
        "# import the library and its Marker clusterization service\n",
        "import folium\n",
        "from folium.plugins import MarkerCluster\n",
        "# Create a map object and center it to the avarage coordinates to m\n",
        "m = folium.Map(location=df[[\"lat\", \"lon\"]].mean().to_list(), zoom_start=2)\n",
        "# if the points are too close to each other, cluster them, create a cluster overlay with MarkerCluster, add to m\n",
        "marker_cluster = MarkerCluster().add_to(m)\n",
        "# draw the markers and assign popup and hover texts\n",
        "# add the markers the the cluster layers so that they are automatically clustered\n",
        "for i,r in df.iterrows():\n",
        "    location = (r[\"lat\"], r[\"lon\"])\n",
        "    folium.Marker(location=location,\n",
        "                      popup = r['Name'],\n",
        "                      tooltip=r['Name'])\\\n",
        "    .add_to(marker_cluster)\n",
        "# display the map\n",
        "m"
      ],
      "metadata": {
        "id": "fcmR3A8g-NLB"
      },
      "execution_count": null,
      "outputs": []
    },
    {
      "cell_type": "code",
      "source": [
        "#https://towardsdatascience.com/pythons-geocoding-convert-a-list-of-addresses-into-a-map-f522ef513fd6#5352"
      ],
      "metadata": {
        "id": "QcOrngBoiO7F"
      },
      "execution_count": null,
      "outputs": []
    },
    {
      "cell_type": "markdown",
      "metadata": {
        "id": "A_2d61vS5_mI"
      },
      "source": [
        "# End Notebook"
      ]
    }
  ]
}