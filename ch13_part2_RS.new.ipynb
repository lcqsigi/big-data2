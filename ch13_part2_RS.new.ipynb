{
  "cells": [
    {
      "cell_type": "markdown",
      "metadata": {
        "id": "view-in-github",
        "colab_type": "text"
      },
      "source": [
        "<a href=\"https://colab.research.google.com/github/lcqsigi/big-data2/blob/main/ch13_part2_RS.new.ipynb\" target=\"_parent\"><img src=\"https://colab.research.google.com/assets/colab-badge.svg\" alt=\"Open In Colab\"/></a>"
      ]
    },
    {
      "cell_type": "markdown",
      "metadata": {
        "id": "11xyh1pM2LLd"
      },
      "source": [
        "## Building a multilayer perceptron for classifying flowers in the Iris dataset"
      ]
    },
    {
      "cell_type": "code",
      "execution_count": 1,
      "metadata": {
        "id": "fnFHsEfH2LLi"
      },
      "outputs": [],
      "source": [
        "import tensorflow as tf\n",
        "import numpy as np\n",
        "import matplotlib.pyplot as plt\n",
        "%matplotlib inline"
      ]
    },
    {
      "cell_type": "code",
      "source": [
        "import tensorflow_datasets as tfds\n",
        "#iris, iris_info = tfds.load('iris', with_info=True)\n",
        "#print(tfds.__version__)"
      ],
      "metadata": {
        "id": "mvO3IH892rT-"
      },
      "execution_count": 5,
      "outputs": []
    },
    {
      "cell_type": "code",
      "source": [
        "import tensorflow as tf\n",
        "#tf.io.gfile.copy(\"gs://tfds-data/dataset_info/iris/2.0.0\",\"/content/drive/MyDrive/\",overwrite=True)\n",
        "#tf.io.gfile.exists(\"gs://tfds-data/dataset_info/iris/2.0.0\")\n",
        "#tf.io.gfile.listdir(\"gs://tfds-data/dataset_info/iris/2.0.0\")\n",
        "#dir(tf.io.gfile)"
      ],
      "metadata": {
        "id": "zAq9A7cchL-l"
      },
      "execution_count": 7,
      "outputs": []
    },
    {
      "cell_type": "code",
      "source": [
        "!ls -ltr  /root/tensorflow_datasets/iris/2.0.0/iris/2.0.0\n",
        "#tf.io.gfile.exists(\"/content/drive/MyDrive/\")"
      ],
      "metadata": {
        "id": "RLOxS0-b5q4a",
        "outputId": "36359217-a997-4666-8cdd-c3ad73df5386",
        "colab": {
          "base_uri": "https://localhost:8080/"
        }
      },
      "execution_count": 8,
      "outputs": [
        {
          "output_type": "stream",
          "name": "stdout",
          "text": [
            "total 24\n",
            "-rw-r--r-- 1 root root 10200 Apr 24 20:19 iris-train.tfrecord-00000-of-00001\n",
            "-rw-r--r-- 1 root root    43 Apr 24 20:19 label.labels.txt\n",
            "-rw-r--r-- 1 root root   790 Apr 24 20:19 features.json\n",
            "-rw-r--r-- 1 root root  1447 Apr 24 20:19 dataset_info.json\n"
          ]
        }
      ]
    },
    {
      "cell_type": "code",
      "source": [
        "iris=tfds.load('iris', data_dir='/root/tensorflow_datasets/iris/2.0.0/', download=False)\n",
        "#builder=tfds.builder_from_directory('/root/tensorflow_datasets/iris/2.0.0/')\n",
        "#!ls -ltr  drive/MyDrive\n",
        "#builder2 = tfds.builder('iris')\n",
        "#builder2.download_and_prepare()"
      ],
      "metadata": {
        "id": "0FYX6VzHUgRa"
      },
      "execution_count": 9,
      "outputs": []
    },
    {
      "cell_type": "code",
      "source": [
        "iris"
      ],
      "metadata": {
        "id": "LLzjaYXoFZsV",
        "outputId": "fafa2286-7e31-4c1e-8f80-286dc26978ae",
        "colab": {
          "base_uri": "https://localhost:8080/"
        }
      },
      "execution_count": 10,
      "outputs": [
        {
          "output_type": "execute_result",
          "data": {
            "text/plain": [
              "{'train': <_PrefetchDataset element_spec={'features': TensorSpec(shape=(4,), dtype=tf.float32, name=None), 'label': TensorSpec(shape=(), dtype=tf.int64, name=None)}>}"
            ]
          },
          "metadata": {},
          "execution_count": 10
        }
      ]
    },
    {
      "cell_type": "code",
      "source": [
        "#!pwd\n",
        "#!cat /root/tensorflow_datasets/downloads/arch.ics.uci.edu_ml_mach-lear-data_iris_ib2CLcacxchYxm00ntNm8hOar1zTtp4crcaRYVp4mVsA.data\n",
        "#from google.colab import drive\n",
        "#drive.mount('/content/drive', force_remount=True)"
      ],
      "metadata": {
        "id": "Hyn0hOD0OqG6"
      },
      "execution_count": 11,
      "outputs": []
    },
    {
      "cell_type": "code",
      "source": [
        "#!tar -xvf  /root/tensorflow_datasets/iris/2.0.0/files.tar"
      ],
      "metadata": {
        "id": "tQogyWp8PGbB"
      },
      "execution_count": 12,
      "outputs": []
    },
    {
      "cell_type": "code",
      "execution_count": 13,
      "metadata": {
        "colab": {
          "base_uri": "https://localhost:8080/"
        },
        "id": "9aZUH3Qz2LLm",
        "outputId": "d5cef7d6-9106-4532-e621-3cf20a6d154d"
      },
      "outputs": [
        {
          "output_type": "stream",
          "name": "stdout",
          "text": [
            "{'features': <tf.Tensor: shape=(4,), dtype=float32, numpy=array([6.5, 3. , 5.2, 2. ], dtype=float32)>, 'label': <tf.Tensor: shape=(), dtype=int64, numpy=2>}\n"
          ]
        }
      ],
      "source": [
        "tf.random.set_seed(1)\n",
        "\n",
        "ds_orig = iris['train']\n",
        "ds_orig = ds_orig.shuffle(150, reshuffle_each_iteration=False)\n",
        "\n",
        "print(next(iter(ds_orig)))\n",
        "\n",
        "ds_train_orig = ds_orig.take(100)\n",
        "ds_test = ds_orig.skip(100)"
      ]
    },
    {
      "cell_type": "code",
      "execution_count": 14,
      "metadata": {
        "colab": {
          "base_uri": "https://localhost:8080/"
        },
        "id": "ePXk0B262LLn",
        "outputId": "6b3758f4-24f1-46b5-e696-11b036fb9110"
      },
      "outputs": [
        {
          "output_type": "stream",
          "name": "stdout",
          "text": [
            "100\n",
            "50\n"
          ]
        }
      ],
      "source": [
        "## checking the number of examples:\n",
        "\n",
        "n = 0\n",
        "for example in ds_train_orig:\n",
        "    n += 1\n",
        "print(n)\n",
        "\n",
        "\n",
        "n = 0\n",
        "for example in ds_test:\n",
        "    n += 1\n",
        "print(n)"
      ]
    },
    {
      "cell_type": "code",
      "execution_count": 15,
      "metadata": {
        "colab": {
          "base_uri": "https://localhost:8080/"
        },
        "id": "XZmhIUWv2LLp",
        "outputId": "79098866-b361-43eb-9588-dfa1db78e0c7"
      },
      "outputs": [
        {
          "output_type": "execute_result",
          "data": {
            "text/plain": [
              "(<tf.Tensor: shape=(4,), dtype=float32, numpy=array([6.5, 3. , 5.2, 2. ], dtype=float32)>,\n",
              " <tf.Tensor: shape=(), dtype=int64, numpy=2>)"
            ]
          },
          "metadata": {},
          "execution_count": 15
        }
      ],
      "source": [
        "ds_train_orig = ds_train_orig.map(\n",
        "    lambda x: (x['features'], x['label']))\n",
        "\n",
        "ds_test = ds_test.map(\n",
        "    lambda x: (x['features'], x['label']))\n",
        "\n",
        "next(iter(ds_train_orig))"
      ]
    },
    {
      "cell_type": "code",
      "execution_count": 16,
      "metadata": {
        "colab": {
          "base_uri": "https://localhost:8080/"
        },
        "id": "GqQcpYpt2LLq",
        "outputId": "6aa51b19-84fa-44cc-b60a-5a2f55cae03a"
      },
      "outputs": [
        {
          "output_type": "stream",
          "name": "stdout",
          "text": [
            "Model: \"sequential\"\n",
            "_________________________________________________________________\n",
            " Layer (type)                Output Shape              Param #   \n",
            "=================================================================\n",
            " fc1 (Dense)                 (None, 16)                80        \n",
            "                                                                 \n",
            " fc2 (Dense)                 (None, 3)                 51        \n",
            "                                                                 \n",
            "=================================================================\n",
            "Total params: 131\n",
            "Trainable params: 131\n",
            "Non-trainable params: 0\n",
            "_________________________________________________________________\n"
          ]
        }
      ],
      "source": [
        "iris_model = tf.keras.Sequential([\n",
        "    tf.keras.layers.Dense(16, activation='sigmoid', \n",
        "                          name='fc1', input_shape=(4,)),\n",
        "    tf.keras.layers.Dense(3, name='fc2', activation='softmax')])\n",
        "\n",
        "iris_model.summary()"
      ]
    },
    {
      "cell_type": "code",
      "execution_count": 17,
      "metadata": {
        "id": "6D_ZfIXK2LLr"
      },
      "outputs": [],
      "source": [
        "iris_model.compile(optimizer='adam',\n",
        "                   loss='sparse_categorical_crossentropy',\n",
        "                   metrics=['accuracy'])"
      ]
    },
    {
      "cell_type": "code",
      "execution_count": 18,
      "metadata": {
        "id": "gzENVNoz2LLs"
      },
      "outputs": [],
      "source": [
        "num_epochs = 100\n",
        "training_size = 100\n",
        "batch_size = 2\n",
        "steps_per_epoch = np.ceil(training_size / batch_size)\n",
        "\n",
        "ds_train = ds_train_orig.shuffle(buffer_size=training_size)\n",
        "ds_train = ds_train.repeat()\n",
        "ds_train = ds_train.batch(batch_size=batch_size)\n",
        "ds_train = ds_train.prefetch(buffer_size=1000)\n",
        "\n",
        "\n",
        "history = iris_model.fit(ds_train, epochs=num_epochs,\n",
        "                         steps_per_epoch=steps_per_epoch, \n",
        "                         verbose=0)"
      ]
    },
    {
      "cell_type": "code",
      "execution_count": 19,
      "metadata": {
        "colab": {
          "base_uri": "https://localhost:8080/",
          "height": 507
        },
        "id": "Ni0HJvvi2LLu",
        "outputId": "ef4e11a6-af29-4617-e13f-60550f7de676"
      },
      "outputs": [
        {
          "output_type": "display_data",
          "data": {
            "text/plain": [
              "<Figure size 1200x500 with 2 Axes>"
            ],
            "image/png": "[encoded data removed]"
          },
          "metadata": {}
        }
      ],
      "source": [
        "hist = history.history\n",
        "\n",
        "fig = plt.figure(figsize=(12, 5))\n",
        "ax = fig.add_subplot(1, 2, 1)\n",
        "ax.plot(hist['loss'], lw=3)\n",
        "ax.set_title('Training loss', size=15)\n",
        "ax.set_xlabel('Epoch', size=15)\n",
        "ax.tick_params(axis='both', which='major', labelsize=15)\n",
        "\n",
        "ax = fig.add_subplot(1, 2, 2)\n",
        "ax.plot(hist['accuracy'], lw=3)\n",
        "ax.set_title('Training accuracy', size=15)\n",
        "ax.set_xlabel('Epoch', size=15)\n",
        "ax.tick_params(axis='both', which='major', labelsize=15)\n",
        "plt.tight_layout()\n",
        "#plt.savefig('ch13-cls-learning-curve.pdf')\n",
        "\n",
        "plt.show()"
      ]
    },
    {
      "cell_type": "markdown",
      "metadata": {
        "id": "G1wr2H5f2LLx"
      },
      "source": [
        "### Evaluating the trained model on the test dataset"
      ]
    },
    {
      "cell_type": "code",
      "execution_count": 20,
      "metadata": {
        "colab": {
          "base_uri": "https://localhost:8080/"
        },
        "id": "N5yK7p4c2LLy",
        "outputId": "5dc089c3-3a41-4d5f-9ffc-9f041769f95d"
      },
      "outputs": [
        {
          "output_type": "stream",
          "name": "stdout",
          "text": [
            "Test loss: 0.1913   Test Acc.: 0.9800\n"
          ]
        }
      ],
      "source": [
        "results = iris_model.evaluate(ds_test.batch(50), verbose=0)\n",
        "print('Test loss: {:.4f}   Test Acc.: {:.4f}'.format(*results))"
      ]
    },
    {
      "cell_type": "markdown",
      "metadata": {
        "id": "d8_kqETD2LLz"
      },
      "source": [
        "### Saving and reloading the trained model"
      ]
    },
    {
      "cell_type": "code",
      "execution_count": 21,
      "metadata": {
        "id": "_T7wExYQ2LL0"
      },
      "outputs": [],
      "source": [
        "iris_model.save('iris-classifier.h5', \n",
        "                overwrite=True,\n",
        "                include_optimizer=True,\n",
        "                save_format='h5')"
      ]
    },
    {
      "cell_type": "code",
      "execution_count": 22,
      "metadata": {
        "colab": {
          "base_uri": "https://localhost:8080/"
        },
        "id": "0LNUNWMG2LL1",
        "outputId": "a9a150c6-cf9c-4a71-d204-9fcb56d866b3"
      },
      "outputs": [
        {
          "output_type": "stream",
          "name": "stdout",
          "text": [
            "Model: \"sequential\"\n",
            "_________________________________________________________________\n",
            " Layer (type)                Output Shape              Param #   \n",
            "=================================================================\n",
            " fc1 (Dense)                 (None, 16)                80        \n",
            "                                                                 \n",
            " fc2 (Dense)                 (None, 3)                 51        \n",
            "                                                                 \n",
            "=================================================================\n",
            "Total params: 131\n",
            "Trainable params: 131\n",
            "Non-trainable params: 0\n",
            "_________________________________________________________________\n"
          ]
        }
      ],
      "source": [
        "iris_model_new = tf.keras.models.load_model('iris-classifier.h5')\n",
        "\n",
        "iris_model_new.summary()"
      ]
    },
    {
      "cell_type": "code",
      "execution_count": 23,
      "metadata": {
        "colab": {
          "base_uri": "https://localhost:8080/"
        },
        "id": "5SfAhX3h2LL2",
        "outputId": "439b2ed2-ac47-43ea-f589-59bc775b45a9"
      },
      "outputs": [
        {
          "output_type": "stream",
          "name": "stdout",
          "text": [
            "Test loss: 0.1913   Test Acc.: 0.9800\n"
          ]
        }
      ],
      "source": [
        "results = iris_model_new.evaluate(ds_test.batch(50), verbose=0)\n",
        "print('Test loss: {:.4f}   Test Acc.: {:.4f}'.format(*results))"
      ]
    },
    {
      "cell_type": "code",
      "execution_count": 24,
      "metadata": {
        "colab": {
          "base_uri": "https://localhost:8080/"
        },
        "id": "A19wouDZ2LL3",
        "outputId": "1843ae8c-13b7-4549-e8e3-3d6a74337f6c"
      },
      "outputs": [
        {
          "output_type": "stream",
          "name": "stdout",
          "text": [
            "Training Set:  100 Test Set:  50\n"
          ]
        }
      ],
      "source": [
        "labels_train = []\n",
        "for i,item in enumerate(ds_train_orig):\n",
        "    labels_train.append(item[1].numpy())\n",
        "    \n",
        "labels_test = []\n",
        "for i,item in enumerate(ds_test):\n",
        "    labels_test.append(item[1].numpy())\n",
        "print('Training Set: ',len(labels_train), 'Test Set: ', len(labels_test))"
      ]
    },
    {
      "cell_type": "code",
      "execution_count": 25,
      "metadata": {
        "colab": {
          "base_uri": "https://localhost:8080/",
          "height": 109
        },
        "id": "TTV27nG32LL4",
        "outputId": "b872637e-824d-4273-8d05-7ff1f4648dda"
      },
      "outputs": [
        {
          "output_type": "execute_result",
          "data": {
            "text/plain": [
              "'{\"class_name\": \"Sequential\", \"config\": {\"name\": \"sequential\", \"layers\": [{\"class_name\": \"InputLayer\", \"config\": {\"batch_input_shape\": [null, 4], \"dtype\": \"float32\", \"sparse\": false, \"ragged\": false, \"name\": \"fc1_input\"}}, {\"class_name\": \"Dense\", \"config\": {\"name\": \"fc1\", \"trainable\": true, \"dtype\": \"float32\", \"batch_input_shape\": [null, 4], \"units\": 16, \"activation\": \"sigmoid\", \"use_bias\": true, \"kernel_initializer\": {\"class_name\": \"GlorotUniform\", \"config\": {\"seed\": null}}, \"bias_initializer\": {\"class_name\": \"Zeros\", \"config\": {}}, \"kernel_regularizer\": null, \"bias_regularizer\": null, \"activity_regularizer\": null, \"kernel_constraint\": null, \"bias_constraint\": null}}, {\"class_name\": \"Dense\", \"config\": {\"name\": \"fc2\", \"trainable\": true, \"dtype\": \"float32\", \"units\": 3, \"activation\": \"softmax\", \"use_bias\": true, \"kernel_initializer\": {\"class_name\": \"GlorotUniform\", \"config\": {\"seed\": null}}, \"bias_initializer\": {\"class_name\": \"Zeros\", \"config\": {}}, \"kernel_regularizer\": null, \"bias_regularizer\": null, \"activity_regularizer\": null, \"kernel_constraint\": null, \"bias_constraint\": null}}]}, \"keras_version\": \"2.12.0\", \"backend\": \"tensorflow\"}'"
            ],
            "application/vnd.google.colaboratory.intrinsic+json": {
              "type": "string"
            }
          },
          "metadata": {},
          "execution_count": 25
        }
      ],
      "source": [
        "iris_model_new.to_json()"
      ]
    },
    {
      "cell_type": "code",
      "source": [],
      "metadata": {
        "id": "M2rsEROwFwQD"
      },
      "execution_count": null,
      "outputs": []
    }
  ],
  "metadata": {
    "kernelspec": {
      "display_name": "Python 3",
      "language": "python",
      "name": "python3"
    },
    "language_info": {
      "codemirror_mode": {
        "name": "ipython",
        "version": 3
      },
      "file_extension": ".py",
      "mimetype": "text/x-python",
      "name": "python",
      "nbconvert_exporter": "python",
      "pygments_lexer": "ipython3",
      "version": "3.9.7"
    },
    "toc-showmarkdowntxt": false,
    "toc-showtags": false,
    "colab": {
      "provenance": [],
      "include_colab_link": true
    }
  },
  "nbformat": 4,
  "nbformat_minor": 0
}